{
  "nbformat": 4,
  "nbformat_minor": 0,
  "metadata": {
    "colab": {
      "name": "dlpt_tensor.ipynb",
      "provenance": [],
      "authorship_tag": "ABX9TyNC1hYWX3XaveQ1GcERSd24",
      "include_colab_link": true
    },
    "kernelspec": {
      "name": "python3",
      "display_name": "Python 3"
    },
    "accelerator": "GPU"
  },
  "cells": [
    {
      "cell_type": "markdown",
      "metadata": {
        "id": "view-in-github",
        "colab_type": "text"
      },
      "source": [
        "<a href=\"https://colab.research.google.com/github/dqniellew1/DLPT/blob/master/dlpt_tensor.ipynb\" target=\"_parent\"><img src=\"https://colab.research.google.com/assets/colab-badge.svg\" alt=\"Open In Colab\"/></a>"
      ]
    },
    {
      "cell_type": "code",
      "metadata": {
        "id": "e8U4TJmDYZb4",
        "colab_type": "code",
        "colab": {}
      },
      "source": [
        "a = [1.0, 2.0, 1.0]"
      ],
      "execution_count": 0,
      "outputs": []
    },
    {
      "cell_type": "code",
      "metadata": {
        "id": "eHRQE_80Yjmd",
        "colab_type": "code",
        "outputId": "8990997b-fae2-4b69-c4e3-07044b34df71",
        "colab": {
          "base_uri": "https://localhost:8080/",
          "height": 34
        }
      },
      "source": [
        "a[0]"
      ],
      "execution_count": 0,
      "outputs": [
        {
          "output_type": "execute_result",
          "data": {
            "text/plain": [
              "1.0"
            ]
          },
          "metadata": {
            "tags": []
          },
          "execution_count": 2
        }
      ]
    },
    {
      "cell_type": "code",
      "metadata": {
        "id": "_zusrEhAYk5L",
        "colab_type": "code",
        "colab": {}
      },
      "source": [
        "import torch"
      ],
      "execution_count": 0,
      "outputs": []
    },
    {
      "cell_type": "markdown",
      "metadata": {
        "id": "HUX4dK2xY5F2",
        "colab_type": "text"
      },
      "source": [
        "Constructing first tensor"
      ]
    },
    {
      "cell_type": "code",
      "metadata": {
        "id": "mGKQaJ3OYyYD",
        "colab_type": "code",
        "outputId": "b4f9d977-968b-4a3e-f7b0-8b62f24bc10d",
        "colab": {
          "base_uri": "https://localhost:8080/",
          "height": 34
        }
      },
      "source": [
        "a = torch.ones(3)\n",
        "a"
      ],
      "execution_count": 0,
      "outputs": [
        {
          "output_type": "execute_result",
          "data": {
            "text/plain": [
              "tensor([1., 1., 1.])"
            ]
          },
          "metadata": {
            "tags": []
          },
          "execution_count": 4
        }
      ]
    },
    {
      "cell_type": "code",
      "metadata": {
        "id": "1N-_ObQwY1qX",
        "colab_type": "code",
        "outputId": "d5cadf67-fd10-482a-c86b-12ee144f0c7a",
        "colab": {
          "base_uri": "https://localhost:8080/",
          "height": 34
        }
      },
      "source": [
        "a[1]"
      ],
      "execution_count": 0,
      "outputs": [
        {
          "output_type": "execute_result",
          "data": {
            "text/plain": [
              "tensor(1.)"
            ]
          },
          "metadata": {
            "tags": []
          },
          "execution_count": 5
        }
      ]
    },
    {
      "cell_type": "code",
      "metadata": {
        "id": "O25NSAebY33F",
        "colab_type": "code",
        "colab": {}
      },
      "source": [
        "a[2] = 2.0"
      ],
      "execution_count": 0,
      "outputs": []
    },
    {
      "cell_type": "code",
      "metadata": {
        "id": "e8ymoCfQY9HM",
        "colab_type": "code",
        "outputId": "77d8a8aa-6325-49cb-c4c3-b43ca7a62fde",
        "colab": {
          "base_uri": "https://localhost:8080/",
          "height": 34
        }
      },
      "source": [
        "a"
      ],
      "execution_count": 0,
      "outputs": [
        {
          "output_type": "execute_result",
          "data": {
            "text/plain": [
              "tensor([1., 1., 2.])"
            ]
          },
          "metadata": {
            "tags": []
          },
          "execution_count": 7
        }
      ]
    },
    {
      "cell_type": "markdown",
      "metadata": {
        "id": "YMYwtErgZdhg",
        "colab_type": "text"
      },
      "source": [
        "Sample: Coordinate points"
      ]
    },
    {
      "cell_type": "code",
      "metadata": {
        "id": "ffpKdfImY_Kw",
        "colab_type": "code",
        "colab": {}
      },
      "source": [
        "points = torch.zeros(6)\n",
        "points[0] = 4.0\n",
        "points[1] = 1.0\n",
        "points[2] = 5.0\n",
        "points[3] = 3.0\n",
        "points[4] = 2.0\n",
        "points[5] = 1.0\n"
      ],
      "execution_count": 0,
      "outputs": []
    },
    {
      "cell_type": "code",
      "metadata": {
        "id": "LGr9oEBjZr_0",
        "colab_type": "code",
        "outputId": "f6430746-6b57-4b0a-f9d0-f1325273f86e",
        "colab": {
          "base_uri": "https://localhost:8080/",
          "height": 34
        }
      },
      "source": [
        "points"
      ],
      "execution_count": 0,
      "outputs": [
        {
          "output_type": "execute_result",
          "data": {
            "text/plain": [
              "tensor([4., 1., 5., 3., 2., 1.])"
            ]
          },
          "metadata": {
            "tags": []
          },
          "execution_count": 9
        }
      ]
    },
    {
      "cell_type": "markdown",
      "metadata": {
        "id": "2SZWp8qIZ1KS",
        "colab_type": "text"
      },
      "source": [
        "Pass a python list into a tensor"
      ]
    },
    {
      "cell_type": "code",
      "metadata": {
        "id": "JVOuTkqlZthg",
        "colab_type": "code",
        "outputId": "b11ada62-489c-48cf-8cb6-2390d0c811c2",
        "colab": {
          "base_uri": "https://localhost:8080/",
          "height": 34
        }
      },
      "source": [
        "points = torch.tensor([4.0, 1.0, 5.0, 3.0 ,2.0, 1.0])\n",
        "points"
      ],
      "execution_count": 0,
      "outputs": [
        {
          "output_type": "execute_result",
          "data": {
            "text/plain": [
              "tensor([4., 1., 5., 3., 2., 1.])"
            ]
          },
          "metadata": {
            "tags": []
          },
          "execution_count": 10
        }
      ]
    },
    {
      "cell_type": "markdown",
      "metadata": {
        "id": "cPKE0pjJZ6P6",
        "colab_type": "text"
      },
      "source": [
        "Get coordinates of the first point"
      ]
    },
    {
      "cell_type": "code",
      "metadata": {
        "id": "TrsppMaiZ0mi",
        "colab_type": "code",
        "outputId": "d0c984a4-cad7-41d9-c5d0-8e7282a03b26",
        "colab": {
          "base_uri": "https://localhost:8080/",
          "height": 34
        }
      },
      "source": [
        "float(points[0]), float(points[1])"
      ],
      "execution_count": 0,
      "outputs": [
        {
          "output_type": "execute_result",
          "data": {
            "text/plain": [
              "(4.0, 1.0)"
            ]
          },
          "metadata": {
            "tags": []
          },
          "execution_count": 11
        }
      ]
    },
    {
      "cell_type": "markdown",
      "metadata": {
        "id": "WAKfuaVXaGSJ",
        "colab_type": "text"
      },
      "source": [
        "2D tensor"
      ]
    },
    {
      "cell_type": "code",
      "metadata": {
        "id": "QXhVo0xqaARY",
        "colab_type": "code",
        "outputId": "8e19c4d7-c4e3-4d3d-de31-f334fa0780e9",
        "colab": {
          "base_uri": "https://localhost:8080/",
          "height": 68
        }
      },
      "source": [
        "points = torch.tensor([[4.0, 2.0], [5.0, 3.0], [2.0, 1.0]])\n",
        "points"
      ],
      "execution_count": 0,
      "outputs": [
        {
          "output_type": "execute_result",
          "data": {
            "text/plain": [
              "tensor([[4., 2.],\n",
              "        [5., 3.],\n",
              "        [2., 1.]])"
            ]
          },
          "metadata": {
            "tags": []
          },
          "execution_count": 12
        }
      ]
    },
    {
      "cell_type": "code",
      "metadata": {
        "id": "7y130S_taS6u",
        "colab_type": "code",
        "outputId": "2da0bea5-95ba-43df-f798-ac14745d137f",
        "colab": {
          "base_uri": "https://localhost:8080/",
          "height": 34
        }
      },
      "source": [
        "points.shape"
      ],
      "execution_count": 0,
      "outputs": [
        {
          "output_type": "execute_result",
          "data": {
            "text/plain": [
              "torch.Size([3, 2])"
            ]
          },
          "metadata": {
            "tags": []
          },
          "execution_count": 13
        }
      ]
    },
    {
      "cell_type": "markdown",
      "metadata": {
        "id": "y9iX2l3taeML",
        "colab_type": "text"
      },
      "source": [
        "Initialize tensor with zeros and ones"
      ]
    },
    {
      "cell_type": "code",
      "metadata": {
        "id": "P1KDRDsIadQR",
        "colab_type": "code",
        "outputId": "ed285f83-ef0f-4cd2-8c6e-fc7bc8d11cb4",
        "colab": {
          "base_uri": "https://localhost:8080/",
          "height": 68
        }
      },
      "source": [
        "points = torch.zeros(3,2)\n",
        "points"
      ],
      "execution_count": 0,
      "outputs": [
        {
          "output_type": "execute_result",
          "data": {
            "text/plain": [
              "tensor([[0., 0.],\n",
              "        [0., 0.],\n",
              "        [0., 0.]])"
            ]
          },
          "metadata": {
            "tags": []
          },
          "execution_count": 14
        }
      ]
    },
    {
      "cell_type": "code",
      "metadata": {
        "id": "NKCu6adIaoHQ",
        "colab_type": "code",
        "outputId": "bdd2cdb9-a055-4fa9-db6a-3c872e9c832a",
        "colab": {
          "base_uri": "https://localhost:8080/",
          "height": 68
        }
      },
      "source": [
        "points = torch.tensor([[4.0, 1.0], [5.0, 3.0], [2.0, 1.0]])\n",
        "points"
      ],
      "execution_count": 0,
      "outputs": [
        {
          "output_type": "execute_result",
          "data": {
            "text/plain": [
              "tensor([[4., 1.],\n",
              "        [5., 3.],\n",
              "        [2., 1.]])"
            ]
          },
          "metadata": {
            "tags": []
          },
          "execution_count": 15
        }
      ]
    },
    {
      "cell_type": "code",
      "metadata": {
        "id": "m9ZTPXoca0TI",
        "colab_type": "code",
        "outputId": "d7a7116a-19f9-4f49-9f6d-e9797f277aa5",
        "colab": {
          "base_uri": "https://localhost:8080/",
          "height": 34
        }
      },
      "source": [
        "points[0,1]"
      ],
      "execution_count": 0,
      "outputs": [
        {
          "output_type": "execute_result",
          "data": {
            "text/plain": [
              "tensor(1.)"
            ]
          },
          "metadata": {
            "tags": []
          },
          "execution_count": 16
        }
      ]
    },
    {
      "cell_type": "code",
      "metadata": {
        "id": "8h4EYNysa16N",
        "colab_type": "code",
        "outputId": "084ef9ba-b8e8-4154-f3c2-e874239da4d6",
        "colab": {
          "base_uri": "https://localhost:8080/",
          "height": 34
        }
      },
      "source": [
        "points[0]"
      ],
      "execution_count": 0,
      "outputs": [
        {
          "output_type": "execute_result",
          "data": {
            "text/plain": [
              "tensor([4., 1.])"
            ]
          },
          "metadata": {
            "tags": []
          },
          "execution_count": 17
        }
      ]
    },
    {
      "cell_type": "markdown",
      "metadata": {
        "id": "jNjWOgHBbGnq",
        "colab_type": "text"
      },
      "source": [
        "## Indexing tensors"
      ]
    },
    {
      "cell_type": "code",
      "metadata": {
        "id": "3pufi7qqbHmW",
        "colab_type": "code",
        "colab": {}
      },
      "source": [
        "some_list = list(range(6))"
      ],
      "execution_count": 0,
      "outputs": []
    },
    {
      "cell_type": "code",
      "metadata": {
        "id": "LhM4TwzvbTcr",
        "colab_type": "code",
        "outputId": "3637da14-7a87-4fe3-c9ee-de725ecc2f0b",
        "colab": {
          "base_uri": "https://localhost:8080/",
          "height": 34
        }
      },
      "source": [
        "some_list[:] # returns all elements of the list\n",
        "some_list[1:4] # returns elements at position 1 to 3 excluding 4\n",
        "some_list[1:] # returns all elements after position 1\n",
        "some_list[:4] # returns all elements up to 4 \n",
        "some_list[:-1] # returns all elements from the start to one before the last element\n",
        "some_list[1:4:2] # returns elements from 1 to 3 with steps of 2"
      ],
      "execution_count": 0,
      "outputs": [
        {
          "output_type": "execute_result",
          "data": {
            "text/plain": [
              "[1, 3]"
            ]
          },
          "metadata": {
            "tags": []
          },
          "execution_count": 19
        }
      ]
    },
    {
      "cell_type": "code",
      "metadata": {
        "id": "OIYTWEwybVCd",
        "colab_type": "code",
        "outputId": "e21e29d8-33f0-4d73-9188-20f0ec4fdc8a",
        "colab": {
          "base_uri": "https://localhost:8080/",
          "height": 68
        }
      },
      "source": [
        "points[1:] # 1st row onwards\n",
        "points[1:, :] # 1st row onwards and all columns\n",
        "points[1:, 0] # 1st row onwards and 0th column\n",
        "points[None] # Add dimension of size one, just like unsqueeze"
      ],
      "execution_count": 0,
      "outputs": [
        {
          "output_type": "execute_result",
          "data": {
            "text/plain": [
              "tensor([[[4., 1.],\n",
              "         [5., 3.],\n",
              "         [2., 1.]]])"
            ]
          },
          "metadata": {
            "tags": []
          },
          "execution_count": 20
        }
      ]
    },
    {
      "cell_type": "markdown",
      "metadata": {
        "id": "VgXH8_VAdlhT",
        "colab_type": "text"
      },
      "source": [
        "Imagine we have a 3D tensor, we want to convert it to grayscale."
      ]
    },
    {
      "cell_type": "code",
      "metadata": {
        "id": "ukAGAwC3cqvy",
        "colab_type": "code",
        "colab": {}
      },
      "source": [
        "img_t = torch.randn(3, 5, 5) # shape [channels, rows, columns]\n",
        "weights = torch.tensor([0.2126, 0.7152, 0.0722]) # typical weights for colors to derive a single brightnes value"
      ],
      "execution_count": 0,
      "outputs": []
    },
    {
      "cell_type": "markdown",
      "metadata": {
        "id": "GUPaPTFceTmg",
        "colab_type": "text"
      },
      "source": [
        "Pretend we have an additional dimension; of batch size"
      ]
    },
    {
      "cell_type": "code",
      "metadata": {
        "id": "hQDr9qHkdytB",
        "colab_type": "code",
        "colab": {}
      },
      "source": [
        "batch_t = torch.randn(2, 3, 5, 5) # shape [batch, channels, rows, columns]"
      ],
      "execution_count": 0,
      "outputs": []
    },
    {
      "cell_type": "markdown",
      "metadata": {
        "id": "GuzGSP5_elZ3",
        "colab_type": "text"
      },
      "source": [
        "Sometimes RGB channels are in dimension 0 or 1. We can generalize by counting from the end: That is, they are always in dimension -3. "
      ]
    },
    {
      "cell_type": "code",
      "metadata": {
        "id": "oGYYcFVVdzh3",
        "colab_type": "code",
        "outputId": "942e28e5-5db7-49b9-d1a6-84011a02c5b1",
        "colab": {
          "base_uri": "https://localhost:8080/",
          "height": 34
        }
      },
      "source": [
        "img_gray_naive = img_t.mean(-3) # get mean of channels\n",
        "batch_gray_naive = batch_t.mean(-3) # get mean of channels\n",
        "img_gray_naive.shape, batch_gray_naive.shape"
      ],
      "execution_count": 0,
      "outputs": [
        {
          "output_type": "execute_result",
          "data": {
            "text/plain": [
              "(torch.Size([5, 5]), torch.Size([2, 5, 5]))"
            ]
          },
          "metadata": {
            "tags": []
          },
          "execution_count": 23
        }
      ]
    },
    {
      "cell_type": "code",
      "metadata": {
        "id": "Ysi2SYUGg4Me",
        "colab_type": "code",
        "outputId": "c09a2e48-0017-443f-bb39-0c579bca72ac",
        "colab": {
          "base_uri": "https://localhost:8080/",
          "height": 54
        }
      },
      "source": [
        "# Can only multiply things that are of the same shape\n",
        "unsqueezed_weights = weights.unsqueeze(-1).unsqueeze_(-1) # Add 2 dimensions\n",
        "img_weights = (img_t * unsqueezed_weights) # Multiply by same D\n",
        "batch_weights = (batch_t * unsqueezed_weights) # broadcasting appends leading dimensions of size one automatically.\n",
        "img_gray_weights = img_weights.sum(-3)\n",
        "batch_gray_weighted = batch_weights.sum(-3)\n",
        "batch_weights.shape, batch_t.shape, unsqueezed_weights.shape"
      ],
      "execution_count": 0,
      "outputs": [
        {
          "output_type": "execute_result",
          "data": {
            "text/plain": [
              "(torch.Size([2, 3, 5, 5]), torch.Size([2, 3, 5, 5]), torch.Size([3, 1, 1]))"
            ]
          },
          "metadata": {
            "tags": []
          },
          "execution_count": 24
        }
      ]
    },
    {
      "cell_type": "markdown",
      "metadata": {
        "id": "7HMLYnnmi9Rp",
        "colab_type": "text"
      },
      "source": [
        "Above operations gets messy quickly, therefore the PyTorch function `einsum` makes it easier."
      ]
    },
    {
      "cell_type": "code",
      "metadata": {
        "id": "bZOQP6Z0hW7Q",
        "colab_type": "code",
        "outputId": "f9ca34e4-9650-4432-cb09-2426ee33be90",
        "colab": {
          "base_uri": "https://localhost:8080/",
          "height": 34
        }
      },
      "source": [
        "img_gray_weighted_fancy = torch.einsum('...chw,c->...hw', img_t, weights)\n",
        "batch_gray_weighted_fancy = torch.einsum('...chw,c->...hw', batch_t, weights)\n",
        "batch_gray_weighted_fancy.shape"
      ],
      "execution_count": 0,
      "outputs": [
        {
          "output_type": "execute_result",
          "data": {
            "text/plain": [
              "torch.Size([2, 5, 5])"
            ]
          },
          "metadata": {
            "tags": []
          },
          "execution_count": 25
        }
      ]
    },
    {
      "cell_type": "markdown",
      "metadata": {
        "id": "5tbXR8gDjxJX",
        "colab_type": "text"
      },
      "source": [
        "There is quite some bookkeeping invloved when doing tensor operations, therefore practitioners suggest giving names to the dimensions instead.\n",
        "\n",
        "Enter named tensors"
      ]
    },
    {
      "cell_type": "code",
      "metadata": {
        "id": "v_6qZMfHhXv4",
        "colab_type": "code",
        "outputId": "480f194e-0952-43d3-f6b7-9c88e11845b0",
        "colab": {
          "base_uri": "https://localhost:8080/",
          "height": 71
        }
      },
      "source": [
        "weights_named = torch.tensor([0.2126, 0.7152, 0.0722], names=['channels']);\n",
        "weights_named"
      ],
      "execution_count": 0,
      "outputs": [
        {
          "output_type": "stream",
          "text": [
            "/pytorch/c10/core/TensorImpl.h:806: UserWarning: Named tensors and all their associated APIs are an experimental feature and subject to change. Please do not use them for anything important until they are released as stable.\n"
          ],
          "name": "stderr"
        },
        {
          "output_type": "execute_result",
          "data": {
            "text/plain": [
              "tensor([0.2126, 0.7152, 0.0722], names=('channels',))"
            ]
          },
          "metadata": {
            "tags": []
          },
          "execution_count": 26
        }
      ]
    },
    {
      "cell_type": "markdown",
      "metadata": {
        "id": "s7cqvvRmkwkW",
        "colab_type": "text"
      },
      "source": [
        "When we already have tensors and only want to add names, we can call the method `refine_names`. the ellipsis `...` allows you to leave out any number of dimensions. With the `rename` sibling you can also overwrite or drop (by passing in `None`) existing names."
      ]
    },
    {
      "cell_type": "code",
      "metadata": {
        "id": "SY-alXBRiRAb",
        "colab_type": "code",
        "outputId": "300313bb-78ae-478b-a164-b5235c818a57",
        "colab": {
          "base_uri": "https://localhost:8080/",
          "height": 71
        }
      },
      "source": [
        "img_named = img_t.refine_names(..., 'channels', 'rows', 'columns')\n",
        "batch_named = batch_t.refine_names(..., 'channels', 'rows', 'columns')\n",
        "print(f'img named: {img_named.shape}, {img_named.names}')\n",
        "print(f'batch named: {batch_named.shape}, {batch_named.names}')"
      ],
      "execution_count": 0,
      "outputs": [
        {
          "output_type": "stream",
          "text": [
            "img named: torch.Size([3, 5, 5]), ('channels', 'rows', 'columns')\n",
            "batch named: torch.Size([2, 3, 5, 5]), (None, 'channels', 'rows', 'columns')\n"
          ],
          "name": "stdout"
        }
      ]
    },
    {
      "cell_type": "markdown",
      "metadata": {
        "id": "Wttfq7dZm8bD",
        "colab_type": "text"
      },
      "source": [
        "In addition to the dimension checks, eg same size, or broadcasted, PyTorch will check names for us. It does not automatically align dimensions, so we need to do this explicitly. `align_as` returns a tensor with missing dimensions added and existing ones permuted to the right order."
      ]
    },
    {
      "cell_type": "code",
      "metadata": {
        "id": "eO6uk9bllIb9",
        "colab_type": "code",
        "outputId": "ebc753a4-f319-454b-fa43-6be906540e55",
        "colab": {
          "base_uri": "https://localhost:8080/",
          "height": 34
        }
      },
      "source": [
        "weights_aligned = weights_named.align_as(img_named)\n",
        "weights_aligned.shape, weights_aligned.names"
      ],
      "execution_count": 0,
      "outputs": [
        {
          "output_type": "execute_result",
          "data": {
            "text/plain": [
              "(torch.Size([3, 1, 1]), ('channels', 'rows', 'columns'))"
            ]
          },
          "metadata": {
            "tags": []
          },
          "execution_count": 28
        }
      ]
    },
    {
      "cell_type": "markdown",
      "metadata": {
        "id": "JImJlo_anePG",
        "colab_type": "text"
      },
      "source": [
        "Functions accepting dimension arguments eg: `sum`, `mean` also take named dimensions"
      ]
    },
    {
      "cell_type": "code",
      "metadata": {
        "id": "9-mHdod0mLm9",
        "colab_type": "code",
        "outputId": "78412d96-e97f-46e5-969a-88b9d04f760d",
        "colab": {
          "base_uri": "https://localhost:8080/",
          "height": 34
        }
      },
      "source": [
        "gray_named = (img_named * weights_aligned).sum('channels')\n",
        "gray_named.shape, gray_named.names"
      ],
      "execution_count": 0,
      "outputs": [
        {
          "output_type": "execute_result",
          "data": {
            "text/plain": [
              "(torch.Size([5, 5]), ('rows', 'columns'))"
            ]
          },
          "metadata": {
            "tags": []
          },
          "execution_count": 29
        }
      ]
    },
    {
      "cell_type": "markdown",
      "metadata": {
        "id": "fc2uurSFnwGo",
        "colab_type": "text"
      },
      "source": [
        "Combining dimensions with different names give an **error**!"
      ]
    },
    {
      "cell_type": "code",
      "metadata": {
        "id": "UNPV9fJUmNO9",
        "colab_type": "code",
        "outputId": "e74bc258-546b-4a9f-b843-147068a1a050",
        "colab": {
          "base_uri": "https://localhost:8080/",
          "height": 184
        }
      },
      "source": [
        "gray_named= (img_named[..., :3] * weights_named).sum('channels')\n"
      ],
      "execution_count": 0,
      "outputs": [
        {
          "output_type": "error",
          "ename": "RuntimeError",
          "evalue": "ignored",
          "traceback": [
            "\u001b[0;31m---------------------------------------------------------------------------\u001b[0m",
            "\u001b[0;31mRuntimeError\u001b[0m                              Traceback (most recent call last)",
            "\u001b[0;32m<ipython-input-31-c08083b862a9>\u001b[0m in \u001b[0;36m<module>\u001b[0;34m()\u001b[0m\n\u001b[0;32m----> 1\u001b[0;31m \u001b[0mgray_named\u001b[0m\u001b[0;34m=\u001b[0m \u001b[0;34m(\u001b[0m\u001b[0mimg_named\u001b[0m\u001b[0;34m[\u001b[0m\u001b[0;34m...\u001b[0m\u001b[0;34m,\u001b[0m \u001b[0;34m:\u001b[0m\u001b[0;36m3\u001b[0m\u001b[0;34m]\u001b[0m \u001b[0;34m*\u001b[0m \u001b[0mweights_named\u001b[0m\u001b[0;34m)\u001b[0m\u001b[0;34m.\u001b[0m\u001b[0msum\u001b[0m\u001b[0;34m(\u001b[0m\u001b[0;34m'channels'\u001b[0m\u001b[0;34m)\u001b[0m\u001b[0;34m\u001b[0m\u001b[0;34m\u001b[0m\u001b[0m\n\u001b[0m",
            "\u001b[0;31mRuntimeError\u001b[0m: Error when attempting to broadcast dims ['channels', 'rows', 'columns'] and dims ['channels']: dim 'columns' and dim 'channels' are at the same position from the right but do not match."
          ]
        }
      ]
    },
    {
      "cell_type": "markdown",
      "metadata": {
        "id": "uQyK98mOoOgZ",
        "colab_type": "text"
      },
      "source": [
        "If we want to use tensors outside functions to operate on named tensors, we have to drop names by renaming them with `None`."
      ]
    },
    {
      "cell_type": "code",
      "metadata": {
        "id": "W8k2JC2nn78X",
        "colab_type": "code",
        "outputId": "0c43aeb2-7754-48b7-ed7b-200ff2120739",
        "colab": {
          "base_uri": "https://localhost:8080/",
          "height": 34
        }
      },
      "source": [
        "gray_plain = gray_named.rename(None)\n",
        "gray_plain.shape, gray_plain.names"
      ],
      "execution_count": 0,
      "outputs": [
        {
          "output_type": "execute_result",
          "data": {
            "text/plain": [
              "(torch.Size([5, 5]), (None, None))"
            ]
          },
          "metadata": {
            "tags": []
          },
          "execution_count": 32
        }
      ]
    },
    {
      "cell_type": "code",
      "metadata": {
        "id": "AteeLid9n8jV",
        "colab_type": "code",
        "outputId": "ef2df15e-fb1f-4cfd-e463-df18d7397e26",
        "colab": {
          "base_uri": "https://localhost:8080/",
          "height": 68
        }
      },
      "source": [
        "points > 1.0"
      ],
      "execution_count": 0,
      "outputs": [
        {
          "output_type": "execute_result",
          "data": {
            "text/plain": [
              "tensor([[ True, False],\n",
              "        [ True,  True],\n",
              "        [ True, False]])"
            ]
          },
          "metadata": {
            "tags": []
          },
          "execution_count": 33
        }
      ]
    },
    {
      "cell_type": "markdown",
      "metadata": {
        "id": "f6GYekFwy6FM",
        "colab_type": "text"
      },
      "source": [
        "## Attributing `dtypes` to a tensor"
      ]
    },
    {
      "cell_type": "code",
      "metadata": {
        "id": "wOQ-VfjryS26",
        "colab_type": "code",
        "colab": {}
      },
      "source": [
        "double_points = torch.ones(10,2, dtype=torch.double)\n",
        "short_points = torch.tensor([[1,2], [3,4]], dtype=torch.short)"
      ],
      "execution_count": 0,
      "outputs": []
    },
    {
      "cell_type": "code",
      "metadata": {
        "id": "zK08zo3_zK8l",
        "colab_type": "code",
        "outputId": "0d5627ec-2d3d-423b-d13d-216d39ca83cc",
        "colab": {
          "base_uri": "https://localhost:8080/",
          "height": 34
        }
      },
      "source": [
        "double_points.dtype, short_points.dtype"
      ],
      "execution_count": 0,
      "outputs": [
        {
          "output_type": "execute_result",
          "data": {
            "text/plain": [
              "(torch.float64, torch.int16)"
            ]
          },
          "metadata": {
            "tags": []
          },
          "execution_count": 35
        }
      ]
    },
    {
      "cell_type": "markdown",
      "metadata": {
        "id": "viIqpdDkzVJE",
        "colab_type": "text"
      },
      "source": [
        "Cast to assignt `dtype`"
      ]
    },
    {
      "cell_type": "code",
      "metadata": {
        "id": "aK9bANQpzNOD",
        "colab_type": "code",
        "colab": {}
      },
      "source": [
        "double_points = torch.zeros(10,2).double()\n",
        "short_points = torch.ones(10, 2).short()"
      ],
      "execution_count": 0,
      "outputs": []
    },
    {
      "cell_type": "markdown",
      "metadata": {
        "id": "FC8SIIVlzeht",
        "colab_type": "text"
      },
      "source": [
        "`to` method"
      ]
    },
    {
      "cell_type": "code",
      "metadata": {
        "id": "AGIbbUxfzci4",
        "colab_type": "code",
        "colab": {}
      },
      "source": [
        "double_points = torch.zeros(10, 2).to(torch.double)\n",
        "short_points = torch.ones(10, 2).to(torch.short)"
      ],
      "execution_count": 0,
      "outputs": []
    },
    {
      "cell_type": "markdown",
      "metadata": {
        "id": "ZfKHV-gLzvGL",
        "colab_type": "text"
      },
      "source": [
        "When mixing input types in operations, inputs are automatically converted to larger type. If we want 32 bit, make sure all inputs are 32 bits."
      ]
    },
    {
      "cell_type": "code",
      "metadata": {
        "id": "_geH2Q6Yznzh",
        "colab_type": "code",
        "outputId": "5fe5f17d-d390-4e10-ee8f-0a3c9ef8ae00",
        "colab": {
          "base_uri": "https://localhost:8080/",
          "height": 34
        }
      },
      "source": [
        "points_64 = torch.rand(5, dtype=torch.double)\n",
        "points_short = points_64.to(torch.short)\n",
        "points_64 * points_short "
      ],
      "execution_count": 0,
      "outputs": [
        {
          "output_type": "execute_result",
          "data": {
            "text/plain": [
              "tensor([0., 0., 0., 0., 0.], dtype=torch.float64)"
            ]
          },
          "metadata": {
            "tags": []
          },
          "execution_count": 38
        }
      ]
    },
    {
      "cell_type": "markdown",
      "metadata": {
        "id": "RSasTpOV0nlW",
        "colab_type": "text"
      },
      "source": [
        "## Torch operations"
      ]
    },
    {
      "cell_type": "markdown",
      "metadata": {
        "id": "Fy9hoIzA00Z9",
        "colab_type": "text"
      },
      "source": [
        "`tranpose`"
      ]
    },
    {
      "cell_type": "code",
      "metadata": {
        "id": "U38stNN5z_NF",
        "colab_type": "code",
        "outputId": "f8f1aadd-417f-4495-9ce5-085af24a02df",
        "colab": {
          "base_uri": "https://localhost:8080/",
          "height": 34
        }
      },
      "source": [
        "a = torch.ones(3, 2)\n",
        "a_t = torch.transpose(a, 0, 1)\n",
        "\n",
        "a.shape, a_t.shape"
      ],
      "execution_count": 0,
      "outputs": [
        {
          "output_type": "execute_result",
          "data": {
            "text/plain": [
              "(torch.Size([3, 2]), torch.Size([2, 3]))"
            ]
          },
          "metadata": {
            "tags": []
          },
          "execution_count": 39
        }
      ]
    },
    {
      "cell_type": "code",
      "metadata": {
        "id": "SN-ncYGz0CrP",
        "colab_type": "code",
        "outputId": "19c3cfe1-a365-4541-c9d1-4d32241dd740",
        "colab": {
          "base_uri": "https://localhost:8080/",
          "height": 34
        }
      },
      "source": [
        "a = torch.ones(3, 2)\n",
        "a_t = a.transpose(0, 1)\n",
        "\n",
        "a.shape, a_t.shape"
      ],
      "execution_count": 0,
      "outputs": [
        {
          "output_type": "execute_result",
          "data": {
            "text/plain": [
              "(torch.Size([3, 2]), torch.Size([2, 3]))"
            ]
          },
          "metadata": {
            "tags": []
          },
          "execution_count": 40
        }
      ]
    },
    {
      "cell_type": "markdown",
      "metadata": {
        "id": "gkfT__ZO1SCo",
        "colab_type": "text"
      },
      "source": [
        "Tensors operation in PyTorch are divided into groups\n",
        "- Creations ops like `ones` and `from_numpy`\n",
        "- Mutating ops like `transpose` and changing the shape and content of tensors\n",
        "- Maths ops\n",
        "  * Pointwise ops: `abs`, `cos`\n",
        "  * Reduction ops: `mean`, `std`, `norm`\n",
        "  * Comparison ops: `equal`, `max`\n",
        "  * Spectral ops: `stft`, `hamming_window`\n",
        "  * Other ops: `cross`, `trace`\n",
        "- Random sampling like `randn`, `normal`\n",
        "- Serialization like `load`, `save`\n",
        "- Parellelism like `set_num_threads`"
      ]
    },
    {
      "cell_type": "markdown",
      "metadata": {
        "id": "ZyLmTD2a3vLl",
        "colab_type": "text"
      },
      "source": [
        "Indexing into storage"
      ]
    },
    {
      "cell_type": "code",
      "metadata": {
        "id": "Nz0WYNKF1CX2",
        "colab_type": "code",
        "outputId": "769509f0-81d1-4eaa-92bc-7ced295180db",
        "colab": {
          "base_uri": "https://localhost:8080/",
          "height": 136
        }
      },
      "source": [
        "points = torch.tensor([[4.0, 1.0], [5.0, 3.0], [2.0, 1.0]])\n",
        "points.storage()"
      ],
      "execution_count": 0,
      "outputs": [
        {
          "output_type": "execute_result",
          "data": {
            "text/plain": [
              " 4.0\n",
              " 1.0\n",
              " 5.0\n",
              " 3.0\n",
              " 2.0\n",
              " 1.0\n",
              "[torch.FloatStorage of size 6]"
            ]
          },
          "metadata": {
            "tags": []
          },
          "execution_count": 41
        }
      ]
    },
    {
      "cell_type": "code",
      "metadata": {
        "id": "DIFvi-DC35no",
        "colab_type": "code",
        "outputId": "d0bdb412-953d-4281-e62d-c3edd708bb6b",
        "colab": {
          "base_uri": "https://localhost:8080/",
          "height": 34
        }
      },
      "source": [
        "points_storage = points.storage()\n",
        "points_storage[0]"
      ],
      "execution_count": 0,
      "outputs": [
        {
          "output_type": "execute_result",
          "data": {
            "text/plain": [
              "4.0"
            ]
          },
          "metadata": {
            "tags": []
          },
          "execution_count": 42
        }
      ]
    },
    {
      "cell_type": "code",
      "metadata": {
        "id": "tj4OXY424Bsz",
        "colab_type": "code",
        "outputId": "8685981f-5a44-4807-eb3b-6698b3af9f83",
        "colab": {
          "base_uri": "https://localhost:8080/",
          "height": 34
        }
      },
      "source": [
        "points.storage()[1]"
      ],
      "execution_count": 0,
      "outputs": [
        {
          "output_type": "execute_result",
          "data": {
            "text/plain": [
              "1.0"
            ]
          },
          "metadata": {
            "tags": []
          },
          "execution_count": 43
        }
      ]
    },
    {
      "cell_type": "code",
      "metadata": {
        "id": "TIArJEsN4GkE",
        "colab_type": "code",
        "outputId": "77f9cd67-2bc8-44df-c0c4-f82f0e1fde8d",
        "colab": {
          "base_uri": "https://localhost:8080/",
          "height": 68
        }
      },
      "source": [
        "points_storage[0] = 2.0\n",
        "points"
      ],
      "execution_count": 0,
      "outputs": [
        {
          "output_type": "execute_result",
          "data": {
            "text/plain": [
              "tensor([[2., 1.],\n",
              "        [5., 3.],\n",
              "        [2., 1.]])"
            ]
          },
          "metadata": {
            "tags": []
          },
          "execution_count": 44
        }
      ]
    },
    {
      "cell_type": "markdown",
      "metadata": {
        "id": "eTEtBpSf4nN1",
        "colab_type": "text"
      },
      "source": [
        "Modifying Stored Values - Inplace operations"
      ]
    },
    {
      "cell_type": "code",
      "metadata": {
        "id": "CQqKjiOQ4vjp",
        "colab_type": "code",
        "outputId": "4b2fd94a-de73-4a6b-dfd4-1da1085f2e1e",
        "colab": {
          "base_uri": "https://localhost:8080/",
          "height": 68
        }
      },
      "source": [
        "a = torch.ones(3, 2)\n",
        "\n",
        "a.zero_()\n",
        "a"
      ],
      "execution_count": 0,
      "outputs": [
        {
          "output_type": "execute_result",
          "data": {
            "text/plain": [
              "tensor([[0., 0.],\n",
              "        [0., 0.],\n",
              "        [0., 0.]])"
            ]
          },
          "metadata": {
            "tags": []
          },
          "execution_count": 45
        }
      ]
    },
    {
      "cell_type": "markdown",
      "metadata": {
        "id": "a2srh34F5u-2",
        "colab_type": "text"
      },
      "source": [
        "Views over another tensor's storage"
      ]
    },
    {
      "cell_type": "code",
      "metadata": {
        "id": "MLU5ko-z44CA",
        "colab_type": "code",
        "outputId": "a6c29dc3-8ef2-4184-e721-f65199240602",
        "colab": {
          "base_uri": "https://localhost:8080/",
          "height": 34
        }
      },
      "source": [
        "points = torch.tensor([[4.0, 1.0], [5.0, 3.0], [2.0, 1.0]])\n",
        "second_point = points[1]\n",
        "second_point.storage_offset()"
      ],
      "execution_count": 0,
      "outputs": [
        {
          "output_type": "execute_result",
          "data": {
            "text/plain": [
              "2"
            ]
          },
          "metadata": {
            "tags": []
          },
          "execution_count": 46
        }
      ]
    },
    {
      "cell_type": "code",
      "metadata": {
        "id": "NKNkkWDR57T-",
        "colab_type": "code",
        "outputId": "e8f71b88-42b5-4b4a-f6ae-384814815d4a",
        "colab": {
          "base_uri": "https://localhost:8080/",
          "height": 34
        }
      },
      "source": [
        "second_point.size()"
      ],
      "execution_count": 0,
      "outputs": [
        {
          "output_type": "execute_result",
          "data": {
            "text/plain": [
              "torch.Size([2])"
            ]
          },
          "metadata": {
            "tags": []
          },
          "execution_count": 47
        }
      ]
    },
    {
      "cell_type": "code",
      "metadata": {
        "id": "Fjkep-Lz5791",
        "colab_type": "code",
        "outputId": "5d0dd377-99f0-4248-d946-8b6958ffc0e7",
        "colab": {
          "base_uri": "https://localhost:8080/",
          "height": 34
        }
      },
      "source": [
        "second_point.shape"
      ],
      "execution_count": 0,
      "outputs": [
        {
          "output_type": "execute_result",
          "data": {
            "text/plain": [
              "torch.Size([2])"
            ]
          },
          "metadata": {
            "tags": []
          },
          "execution_count": 48
        }
      ]
    },
    {
      "cell_type": "code",
      "metadata": {
        "id": "B5_-d61n6JW2",
        "colab_type": "code",
        "outputId": "f86bb7b5-1fd8-468e-e4f2-12d77226ecc9",
        "colab": {
          "base_uri": "https://localhost:8080/",
          "height": 34
        }
      },
      "source": [
        "points.stride()"
      ],
      "execution_count": 0,
      "outputs": [
        {
          "output_type": "execute_result",
          "data": {
            "text/plain": [
              "(2, 1)"
            ]
          },
          "metadata": {
            "tags": []
          },
          "execution_count": 49
        }
      ]
    },
    {
      "cell_type": "code",
      "metadata": {
        "id": "jeSJhOwW6nbb",
        "colab_type": "code",
        "outputId": "ff4646ca-1b63-4861-af64-db5a96d22d27",
        "colab": {
          "base_uri": "https://localhost:8080/",
          "height": 34
        }
      },
      "source": [
        "second_point.storage_offset()"
      ],
      "execution_count": 0,
      "outputs": [
        {
          "output_type": "execute_result",
          "data": {
            "text/plain": [
              "2"
            ]
          },
          "metadata": {
            "tags": []
          },
          "execution_count": 50
        }
      ]
    },
    {
      "cell_type": "code",
      "metadata": {
        "id": "18SwWX8z7pXc",
        "colab_type": "code",
        "outputId": "1b2cb58a-ecad-4cef-851c-5d0bc5c2f801",
        "colab": {
          "base_uri": "https://localhost:8080/",
          "height": 34
        }
      },
      "source": [
        "second_point.stride()"
      ],
      "execution_count": 0,
      "outputs": [
        {
          "output_type": "execute_result",
          "data": {
            "text/plain": [
              "(1,)"
            ]
          },
          "metadata": {
            "tags": []
          },
          "execution_count": 51
        }
      ]
    },
    {
      "cell_type": "markdown",
      "metadata": {
        "id": "EUYLBi_O7yIn",
        "colab_type": "text"
      },
      "source": [
        "Changing a sub-tensor will have a side-effect on the orginal tensor as they share the same memory allocation"
      ]
    },
    {
      "cell_type": "code",
      "metadata": {
        "id": "1LVugZCr74Sz",
        "colab_type": "code",
        "outputId": "d1da88d9-62c1-43c3-a4ed-0a157662b124",
        "colab": {
          "base_uri": "https://localhost:8080/",
          "height": 68
        }
      },
      "source": [
        "points"
      ],
      "execution_count": 0,
      "outputs": [
        {
          "output_type": "execute_result",
          "data": {
            "text/plain": [
              "tensor([[4., 1.],\n",
              "        [5., 3.],\n",
              "        [2., 1.]])"
            ]
          },
          "metadata": {
            "tags": []
          },
          "execution_count": 52
        }
      ]
    },
    {
      "cell_type": "code",
      "metadata": {
        "id": "Q3lVTAEr76vW",
        "colab_type": "code",
        "outputId": "9eb1bda9-94bd-498c-f4b2-4189a2526da3",
        "colab": {
          "base_uri": "https://localhost:8080/",
          "height": 34
        }
      },
      "source": [
        "second_point"
      ],
      "execution_count": 0,
      "outputs": [
        {
          "output_type": "execute_result",
          "data": {
            "text/plain": [
              "tensor([5., 3.])"
            ]
          },
          "metadata": {
            "tags": []
          },
          "execution_count": 53
        }
      ]
    },
    {
      "cell_type": "code",
      "metadata": {
        "id": "vcmL8Tkw78v9",
        "colab_type": "code",
        "outputId": "50ec846c-7729-492d-b218-297896d1efb3",
        "colab": {
          "base_uri": "https://localhost:8080/",
          "height": 68
        }
      },
      "source": [
        "second_point[0] = 10.0\n",
        "points"
      ],
      "execution_count": 0,
      "outputs": [
        {
          "output_type": "execute_result",
          "data": {
            "text/plain": [
              "tensor([[ 4.,  1.],\n",
              "        [10.,  3.],\n",
              "        [ 2.,  1.]])"
            ]
          },
          "metadata": {
            "tags": []
          },
          "execution_count": 54
        }
      ]
    },
    {
      "cell_type": "markdown",
      "metadata": {
        "id": "3VvYDkLu8EfD",
        "colab_type": "text"
      },
      "source": [
        "This might not be desirable so we can clone the sub-tensor into a new tensor"
      ]
    },
    {
      "cell_type": "code",
      "metadata": {
        "id": "30tXia_37_ll",
        "colab_type": "code",
        "outputId": "fb8adc23-bfea-4c86-eacb-6161eaf7ab8d",
        "colab": {
          "base_uri": "https://localhost:8080/",
          "height": 68
        }
      },
      "source": [
        "points = torch.tensor([[4.0, 1.0], [5.0, 3.0], [2.0, 1.0]])\n",
        "second_point = points[1].clone()\n",
        "second_point[0] = 10.0\n",
        "points"
      ],
      "execution_count": 0,
      "outputs": [
        {
          "output_type": "execute_result",
          "data": {
            "text/plain": [
              "tensor([[4., 1.],\n",
              "        [5., 3.],\n",
              "        [2., 1.]])"
            ]
          },
          "metadata": {
            "tags": []
          },
          "execution_count": 55
        }
      ]
    },
    {
      "cell_type": "markdown",
      "metadata": {
        "id": "YZN9aWMZ8rGP",
        "colab_type": "text"
      },
      "source": [
        "Tranposing without copying"
      ]
    },
    {
      "cell_type": "code",
      "metadata": {
        "id": "_C9wWxJY8SzJ",
        "colab_type": "code",
        "outputId": "d4a3b9a5-1fea-44c0-a8e6-332f1ef8e714",
        "colab": {
          "base_uri": "https://localhost:8080/",
          "height": 68
        }
      },
      "source": [
        "points = torch.tensor([[4.0, 1.0], [5.0, 3.0], [2.0, 1.0]])\n",
        "points"
      ],
      "execution_count": 0,
      "outputs": [
        {
          "output_type": "execute_result",
          "data": {
            "text/plain": [
              "tensor([[4., 1.],\n",
              "        [5., 3.],\n",
              "        [2., 1.]])"
            ]
          },
          "metadata": {
            "tags": []
          },
          "execution_count": 56
        }
      ]
    },
    {
      "cell_type": "code",
      "metadata": {
        "id": "2cLQ2RpE8ptj",
        "colab_type": "code",
        "outputId": "a112781a-2754-41b9-c45b-d4152e63a33b",
        "colab": {
          "base_uri": "https://localhost:8080/",
          "height": 51
        }
      },
      "source": [
        "points_t = points.t()\n",
        "points_t"
      ],
      "execution_count": 0,
      "outputs": [
        {
          "output_type": "execute_result",
          "data": {
            "text/plain": [
              "tensor([[4., 5., 2.],\n",
              "        [1., 3., 1.]])"
            ]
          },
          "metadata": {
            "tags": []
          },
          "execution_count": 57
        }
      ]
    },
    {
      "cell_type": "code",
      "metadata": {
        "id": "3rtu_hBy8x9L",
        "colab_type": "code",
        "outputId": "8cef8763-ef29-4005-f802-489839d8a476",
        "colab": {
          "base_uri": "https://localhost:8080/",
          "height": 34
        }
      },
      "source": [
        "id(points.storage()) == id(points_t.storage())"
      ],
      "execution_count": 0,
      "outputs": [
        {
          "output_type": "execute_result",
          "data": {
            "text/plain": [
              "True"
            ]
          },
          "metadata": {
            "tags": []
          },
          "execution_count": 58
        }
      ]
    },
    {
      "cell_type": "markdown",
      "metadata": {
        "id": "uJDXHr2d9Atu",
        "colab_type": "text"
      },
      "source": [
        "They have the same id but only differ in stride"
      ]
    },
    {
      "cell_type": "code",
      "metadata": {
        "id": "x2Nx-EH-87Hq",
        "colab_type": "code",
        "outputId": "49d4fcca-e5ba-4425-c032-25a0c4caef53",
        "colab": {
          "base_uri": "https://localhost:8080/",
          "height": 34
        }
      },
      "source": [
        "points.stride()"
      ],
      "execution_count": 0,
      "outputs": [
        {
          "output_type": "execute_result",
          "data": {
            "text/plain": [
              "(2, 1)"
            ]
          },
          "metadata": {
            "tags": []
          },
          "execution_count": 59
        }
      ]
    },
    {
      "cell_type": "code",
      "metadata": {
        "id": "GezBhUkA89O6",
        "colab_type": "code",
        "outputId": "4791a26b-d7b9-4731-e7cf-666f6723aba2",
        "colab": {
          "base_uri": "https://localhost:8080/",
          "height": 34
        }
      },
      "source": [
        "points_t.stride()"
      ],
      "execution_count": 0,
      "outputs": [
        {
          "output_type": "execute_result",
          "data": {
            "text/plain": [
              "(1, 2)"
            ]
          },
          "metadata": {
            "tags": []
          },
          "execution_count": 60
        }
      ]
    },
    {
      "cell_type": "markdown",
      "metadata": {
        "id": "h8hCKnd2AFBM",
        "colab_type": "text"
      },
      "source": [
        "Transposing in higher dimensions"
      ]
    },
    {
      "cell_type": "code",
      "metadata": {
        "id": "Ce_mqSC98_N0",
        "colab_type": "code",
        "colab": {}
      },
      "source": [
        "some_t = torch.ones(3, 4, 5)\n",
        "transpose_t = some_t.transpose(0, 2)"
      ],
      "execution_count": 0,
      "outputs": []
    },
    {
      "cell_type": "code",
      "metadata": {
        "id": "SrjJ9A9eAhxj",
        "colab_type": "code",
        "outputId": "27457623-b2c2-4b8b-e6cd-d7cd8faae8a1",
        "colab": {
          "base_uri": "https://localhost:8080/",
          "height": 34
        }
      },
      "source": [
        "some_t.shape"
      ],
      "execution_count": 0,
      "outputs": [
        {
          "output_type": "execute_result",
          "data": {
            "text/plain": [
              "torch.Size([3, 4, 5])"
            ]
          },
          "metadata": {
            "tags": []
          },
          "execution_count": 62
        }
      ]
    },
    {
      "cell_type": "code",
      "metadata": {
        "id": "f8uOVEh4ASzP",
        "colab_type": "code",
        "outputId": "67a58c81-8802-4e5e-852e-817e5277415b",
        "colab": {
          "base_uri": "https://localhost:8080/",
          "height": 34
        }
      },
      "source": [
        "transpose_t.shape"
      ],
      "execution_count": 0,
      "outputs": [
        {
          "output_type": "execute_result",
          "data": {
            "text/plain": [
              "torch.Size([5, 4, 3])"
            ]
          },
          "metadata": {
            "tags": []
          },
          "execution_count": 63
        }
      ]
    },
    {
      "cell_type": "code",
      "metadata": {
        "id": "TkmtnZ7dANdU",
        "colab_type": "code",
        "outputId": "a478c163-cde3-4623-d8da-3dca6e649594",
        "colab": {
          "base_uri": "https://localhost:8080/",
          "height": 34
        }
      },
      "source": [
        "some_t.stride()"
      ],
      "execution_count": 0,
      "outputs": [
        {
          "output_type": "execute_result",
          "data": {
            "text/plain": [
              "(20, 5, 1)"
            ]
          },
          "metadata": {
            "tags": []
          },
          "execution_count": 64
        }
      ]
    },
    {
      "cell_type": "code",
      "metadata": {
        "id": "L5vwbxDXAOMS",
        "colab_type": "code",
        "outputId": "770a503b-3eca-433c-b401-5fad8cc10a84",
        "colab": {
          "base_uri": "https://localhost:8080/",
          "height": 34
        }
      },
      "source": [
        "transpose_t.stride()"
      ],
      "execution_count": 0,
      "outputs": [
        {
          "output_type": "execute_result",
          "data": {
            "text/plain": [
              "(1, 5, 20)"
            ]
          },
          "metadata": {
            "tags": []
          },
          "execution_count": 65
        }
      ]
    },
    {
      "cell_type": "markdown",
      "metadata": {
        "id": "5aw6ADuCBMbN",
        "colab_type": "text"
      },
      "source": [
        "Contiguous tensors"
      ]
    },
    {
      "cell_type": "code",
      "metadata": {
        "id": "OH8ackvCAnYq",
        "colab_type": "code",
        "outputId": "f9996be7-bd7b-4529-9dc9-5233bfa23525",
        "colab": {
          "base_uri": "https://localhost:8080/",
          "height": 34
        }
      },
      "source": [
        "points.is_contiguous()"
      ],
      "execution_count": 0,
      "outputs": [
        {
          "output_type": "execute_result",
          "data": {
            "text/plain": [
              "True"
            ]
          },
          "metadata": {
            "tags": []
          },
          "execution_count": 66
        }
      ]
    },
    {
      "cell_type": "code",
      "metadata": {
        "id": "H3uuLA7yBT9M",
        "colab_type": "code",
        "outputId": "a217c9f7-468f-400a-afdb-90759cc08ea4",
        "colab": {
          "base_uri": "https://localhost:8080/",
          "height": 34
        }
      },
      "source": [
        "points_t.is_contiguous()"
      ],
      "execution_count": 0,
      "outputs": [
        {
          "output_type": "execute_result",
          "data": {
            "text/plain": [
              "False"
            ]
          },
          "metadata": {
            "tags": []
          },
          "execution_count": 67
        }
      ]
    },
    {
      "cell_type": "code",
      "metadata": {
        "id": "2Heki4qcBWL8",
        "colab_type": "code",
        "outputId": "09cc4b20-d7e7-439c-99c3-8e217eb364d2",
        "colab": {
          "base_uri": "https://localhost:8080/",
          "height": 51
        }
      },
      "source": [
        "points = torch.tensor([[4.0, 1.0], [5.0, 3.0], [2.0, 1.0]])\n",
        "points_t = points.t()\n",
        "points_t"
      ],
      "execution_count": 0,
      "outputs": [
        {
          "output_type": "execute_result",
          "data": {
            "text/plain": [
              "tensor([[4., 5., 2.],\n",
              "        [1., 3., 1.]])"
            ]
          },
          "metadata": {
            "tags": []
          },
          "execution_count": 68
        }
      ]
    },
    {
      "cell_type": "code",
      "metadata": {
        "id": "hDh4sCM4Bani",
        "colab_type": "code",
        "outputId": "a185f388-39a1-4dd8-94fc-d224497f3111",
        "colab": {
          "base_uri": "https://localhost:8080/",
          "height": 136
        }
      },
      "source": [
        "points_t.storage()"
      ],
      "execution_count": 0,
      "outputs": [
        {
          "output_type": "execute_result",
          "data": {
            "text/plain": [
              " 4.0\n",
              " 1.0\n",
              " 5.0\n",
              " 3.0\n",
              " 2.0\n",
              " 1.0\n",
              "[torch.FloatStorage of size 6]"
            ]
          },
          "metadata": {
            "tags": []
          },
          "execution_count": 69
        }
      ]
    },
    {
      "cell_type": "code",
      "metadata": {
        "id": "AIwKTa00C0XJ",
        "colab_type": "code",
        "outputId": "904d0e3b-9ba5-4bf6-a6a0-56aa3f12b80d",
        "colab": {
          "base_uri": "https://localhost:8080/",
          "height": 34
        }
      },
      "source": [
        "points_t.stride()"
      ],
      "execution_count": 0,
      "outputs": [
        {
          "output_type": "execute_result",
          "data": {
            "text/plain": [
              "(1, 2)"
            ]
          },
          "metadata": {
            "tags": []
          },
          "execution_count": 70
        }
      ]
    },
    {
      "cell_type": "code",
      "metadata": {
        "id": "aqHS3H_QC2Zc",
        "colab_type": "code",
        "outputId": "77093623-1454-42f2-a05e-ff2a60bf94f4",
        "colab": {
          "base_uri": "https://localhost:8080/",
          "height": 51
        }
      },
      "source": [
        "points_t_cont = points_t.contiguous()\n",
        "points_t_cont"
      ],
      "execution_count": 0,
      "outputs": [
        {
          "output_type": "execute_result",
          "data": {
            "text/plain": [
              "tensor([[4., 5., 2.],\n",
              "        [1., 3., 1.]])"
            ]
          },
          "metadata": {
            "tags": []
          },
          "execution_count": 71
        }
      ]
    },
    {
      "cell_type": "code",
      "metadata": {
        "id": "B30BErysC8SI",
        "colab_type": "code",
        "outputId": "9bfbb4ea-91ed-4f3d-9241-adf91d9d5e20",
        "colab": {
          "base_uri": "https://localhost:8080/",
          "height": 34
        }
      },
      "source": [
        "points_t_cont.stride()"
      ],
      "execution_count": 0,
      "outputs": [
        {
          "output_type": "execute_result",
          "data": {
            "text/plain": [
              "(3, 1)"
            ]
          },
          "metadata": {
            "tags": []
          },
          "execution_count": 72
        }
      ]
    },
    {
      "cell_type": "code",
      "metadata": {
        "id": "tbVUroy7DBJ7",
        "colab_type": "code",
        "outputId": "d70e7b5c-c4fe-4881-ea70-f9c94bcead33",
        "colab": {
          "base_uri": "https://localhost:8080/",
          "height": 136
        }
      },
      "source": [
        "points_t_cont.storage()"
      ],
      "execution_count": 0,
      "outputs": [
        {
          "output_type": "execute_result",
          "data": {
            "text/plain": [
              " 4.0\n",
              " 5.0\n",
              " 2.0\n",
              " 1.0\n",
              " 3.0\n",
              " 1.0\n",
              "[torch.FloatStorage of size 6]"
            ]
          },
          "metadata": {
            "tags": []
          },
          "execution_count": 73
        }
      ]
    },
    {
      "cell_type": "markdown",
      "metadata": {
        "id": "c_tecuzbDUqu",
        "colab_type": "text"
      },
      "source": [
        "Convert tensor to numpy array"
      ]
    },
    {
      "cell_type": "code",
      "metadata": {
        "id": "BaBhFcPgDE7X",
        "colab_type": "code",
        "outputId": "9fc72d65-e043-4e5f-ee5f-89b0fd5c3fa1",
        "colab": {
          "base_uri": "https://localhost:8080/",
          "height": 68
        }
      },
      "source": [
        "points = torch.ones(3, 4)\n",
        "points_np = points.numpy()\n",
        "points_np"
      ],
      "execution_count": 0,
      "outputs": [
        {
          "output_type": "execute_result",
          "data": {
            "text/plain": [
              "array([[1., 1., 1., 1.],\n",
              "       [1., 1., 1., 1.],\n",
              "       [1., 1., 1., 1.]], dtype=float32)"
            ]
          },
          "metadata": {
            "tags": []
          },
          "execution_count": 74
        }
      ]
    },
    {
      "cell_type": "markdown",
      "metadata": {
        "id": "AbdozRXIDwsv",
        "colab_type": "text"
      },
      "source": [
        "Vice-versa"
      ]
    },
    {
      "cell_type": "code",
      "metadata": {
        "id": "rgPWIDbLDaof",
        "colab_type": "code",
        "colab": {}
      },
      "source": [
        "points = torch.from_numpy(points_np)"
      ],
      "execution_count": 0,
      "outputs": []
    },
    {
      "cell_type": "markdown",
      "metadata": {
        "id": "h9TaFC9gEUQn",
        "colab_type": "text"
      },
      "source": [
        "Managing a tnesor's device atribute"
      ]
    },
    {
      "cell_type": "code",
      "metadata": {
        "id": "AALRbrTqEWGd",
        "colab_type": "code",
        "colab": {}
      },
      "source": [
        "points_gpu = torch.tensor([[4.0, 1.0], [5.0, 3.0], [2.0, 1.0]])"
      ],
      "execution_count": 0,
      "outputs": []
    },
    {
      "cell_type": "code",
      "metadata": {
        "id": "1EGY3BTKEcmz",
        "colab_type": "code",
        "colab": {}
      },
      "source": [
        "points_gpu = points.to(device='cuda')"
      ],
      "execution_count": 0,
      "outputs": []
    },
    {
      "cell_type": "markdown",
      "metadata": {
        "id": "ldRyfUxjFDwh",
        "colab_type": "text"
      },
      "source": [
        "From here on out, any operations on a tensor is carried out on the GPU"
      ]
    },
    {
      "cell_type": "code",
      "metadata": {
        "id": "g5ltf672Eg6G",
        "colab_type": "code",
        "colab": {}
      },
      "source": [
        "points = 2 * points"
      ],
      "execution_count": 0,
      "outputs": []
    },
    {
      "cell_type": "code",
      "metadata": {
        "id": "eO4Bw7LyFKd-",
        "colab_type": "code",
        "colab": {}
      },
      "source": [
        "points_gpu = 2 * points.to(device='cuda')"
      ],
      "execution_count": 0,
      "outputs": []
    },
    {
      "cell_type": "code",
      "metadata": {
        "id": "9dgbAYqVFOoM",
        "colab_type": "code",
        "colab": {}
      },
      "source": [
        "points_gpu = points_gpu + 4"
      ],
      "execution_count": 0,
      "outputs": []
    },
    {
      "cell_type": "markdown",
      "metadata": {
        "id": "oDClkKtfJXVi",
        "colab_type": "text"
      },
      "source": [
        "Serializing or saving tensors"
      ]
    },
    {
      "cell_type": "code",
      "metadata": {
        "id": "V1zdaXlvJUhs",
        "colab_type": "code",
        "colab": {}
      },
      "source": [
        "torch.save(points, 'ourpoints.t')"
      ],
      "execution_count": 0,
      "outputs": []
    },
    {
      "cell_type": "code",
      "metadata": {
        "id": "7ivbAtgmFYne",
        "colab_type": "code",
        "colab": {}
      },
      "source": [
        "with open('ourpoints.t', 'wb') as f:\n",
        "  torch.save(points, f)"
      ],
      "execution_count": 0,
      "outputs": []
    },
    {
      "cell_type": "markdown",
      "metadata": {
        "id": "ssj9hZjGJyCY",
        "colab_type": "text"
      },
      "source": [
        "Loading our points back"
      ]
    },
    {
      "cell_type": "code",
      "metadata": {
        "id": "vSMI-KkDJudz",
        "colab_type": "code",
        "colab": {}
      },
      "source": [
        "points = torch.load('ourpoints.t')"
      ],
      "execution_count": 0,
      "outputs": []
    },
    {
      "cell_type": "code",
      "metadata": {
        "id": "5xEN0CP-J3Gf",
        "colab_type": "code",
        "colab": {}
      },
      "source": [
        "with open('ourpoints.t', 'rb') as f:\n",
        "  points = torch.load(f)"
      ],
      "execution_count": 0,
      "outputs": []
    },
    {
      "cell_type": "code",
      "metadata": {
        "id": "vJ7AVREdJ31z",
        "colab_type": "code",
        "colab": {}
      },
      "source": [
        "import torch"
      ],
      "execution_count": 0,
      "outputs": []
    },
    {
      "cell_type": "markdown",
      "metadata": {
        "id": "76H97AgeWitd",
        "colab_type": "text"
      },
      "source": [
        "Exercise"
      ]
    },
    {
      "cell_type": "code",
      "metadata": {
        "id": "-_Vfgc6FWhkJ",
        "colab_type": "code",
        "outputId": "f7df011b-84b4-4e7f-ff62-7e615dd7329e",
        "colab": {
          "base_uri": "https://localhost:8080/",
          "height": 34
        }
      },
      "source": [
        "a = torch.tensor(list(range(9)))\n",
        "a"
      ],
      "execution_count": 0,
      "outputs": [
        {
          "output_type": "execute_result",
          "data": {
            "text/plain": [
              "tensor([0, 1, 2, 3, 4, 5, 6, 7, 8])"
            ]
          },
          "metadata": {
            "tags": []
          },
          "execution_count": 15
        }
      ]
    },
    {
      "cell_type": "code",
      "metadata": {
        "id": "v5tP6Fz3WpWm",
        "colab_type": "code",
        "outputId": "53766f4f-26a1-4d7b-c05c-5d07b731c5b9",
        "colab": {
          "base_uri": "https://localhost:8080/",
          "height": 34
        }
      },
      "source": [
        "a.shape, a.stride(), a.storage_offset()"
      ],
      "execution_count": 0,
      "outputs": [
        {
          "output_type": "execute_result",
          "data": {
            "text/plain": [
              "(torch.Size([9]), (1,), 0)"
            ]
          },
          "metadata": {
            "tags": []
          },
          "execution_count": 16
        }
      ]
    },
    {
      "cell_type": "code",
      "metadata": {
        "id": "8r11ZF-EW8ar",
        "colab_type": "code",
        "outputId": "4eef7277-1b22-437b-ae07-55e09d0942fa",
        "colab": {
          "base_uri": "https://localhost:8080/",
          "height": 68
        }
      },
      "source": [
        "b = a.view(3, 3)\n",
        "b"
      ],
      "execution_count": 0,
      "outputs": [
        {
          "output_type": "execute_result",
          "data": {
            "text/plain": [
              "tensor([[0, 1, 2],\n",
              "        [3, 4, 5],\n",
              "        [6, 7, 8]])"
            ]
          },
          "metadata": {
            "tags": []
          },
          "execution_count": 17
        }
      ]
    },
    {
      "cell_type": "markdown",
      "metadata": {
        "id": "bT2WFhTLYjjx",
        "colab_type": "text"
      },
      "source": [
        "View reshapes the tensor, in this case into a 3 by 3 shape, 2D tensor"
      ]
    },
    {
      "cell_type": "code",
      "metadata": {
        "id": "bf7igAnnXVK7",
        "colab_type": "code",
        "outputId": "c3f73fd4-71d2-4348-d990-f562dadfbc1d",
        "colab": {
          "base_uri": "https://localhost:8080/",
          "height": 34
        }
      },
      "source": [
        "id(a.storage()) == id(b.storage()) # They share the same storage"
      ],
      "execution_count": 0,
      "outputs": [
        {
          "output_type": "execute_result",
          "data": {
            "text/plain": [
              "True"
            ]
          },
          "metadata": {
            "tags": []
          },
          "execution_count": 22
        }
      ]
    },
    {
      "cell_type": "code",
      "metadata": {
        "id": "VhhHU1axYxq6",
        "colab_type": "code",
        "outputId": "ea319b37-238b-45e8-aa77-af12fe1ef800",
        "colab": {
          "base_uri": "https://localhost:8080/",
          "height": 51
        }
      },
      "source": [
        "c = b[1:, 1:] # 2x2\n",
        "c"
      ],
      "execution_count": 0,
      "outputs": [
        {
          "output_type": "execute_result",
          "data": {
            "text/plain": [
              "tensor([[4, 5],\n",
              "        [7, 8]])"
            ]
          },
          "metadata": {
            "tags": []
          },
          "execution_count": 24
        }
      ]
    },
    {
      "cell_type": "code",
      "metadata": {
        "id": "x8P4B-JWZDJi",
        "colab_type": "code",
        "outputId": "b78378f0-ce3e-4ab5-8fe1-1f00cb96da38",
        "colab": {
          "base_uri": "https://localhost:8080/",
          "height": 34
        }
      },
      "source": [
        "c.shape, c.stride(), c.storage_offset()"
      ],
      "execution_count": 0,
      "outputs": [
        {
          "output_type": "execute_result",
          "data": {
            "text/plain": [
              "(torch.Size([2, 2]), (3, 1), 4)"
            ]
          },
          "metadata": {
            "tags": []
          },
          "execution_count": 28
        }
      ]
    },
    {
      "cell_type": "code",
      "metadata": {
        "id": "PrmlhQqhZbIr",
        "colab_type": "code",
        "colab": {}
      },
      "source": [
        "a.to(torch.double)"
      ],
      "execution_count": 0,
      "outputs": []
    },
    {
      "cell_type": "code",
      "metadata": {
        "id": "jvmXYJfUZJLf",
        "colab_type": "code",
        "outputId": "de6d2fca-7d5a-405f-93be-5097202f663e",
        "colab": {
          "base_uri": "https://localhost:8080/",
          "height": 184
        }
      },
      "source": [
        "torch.cos(a)"
      ],
      "execution_count": 0,
      "outputs": [
        {
          "output_type": "error",
          "ename": "RuntimeError",
          "evalue": "ignored",
          "traceback": [
            "\u001b[0;31m---------------------------------------------------------------------------\u001b[0m",
            "\u001b[0;31mRuntimeError\u001b[0m                              Traceback (most recent call last)",
            "\u001b[0;32m<ipython-input-30-f6cea42538d1>\u001b[0m in \u001b[0;36m<module>\u001b[0;34m()\u001b[0m\n\u001b[0;32m----> 1\u001b[0;31m \u001b[0mtorch\u001b[0m\u001b[0;34m.\u001b[0m\u001b[0mcos\u001b[0m\u001b[0;34m(\u001b[0m\u001b[0ma\u001b[0m\u001b[0;34m)\u001b[0m\u001b[0;34m\u001b[0m\u001b[0;34m\u001b[0m\u001b[0m\n\u001b[0m",
            "\u001b[0;31mRuntimeError\u001b[0m: cos_vml_cpu not implemented for 'Long'"
          ]
        }
      ]
    },
    {
      "cell_type": "code",
      "metadata": {
        "id": "dEc14ck9ZXDT",
        "colab_type": "code",
        "colab": {}
      },
      "source": [
        ""
      ],
      "execution_count": 0,
      "outputs": []
    }
  ]
}