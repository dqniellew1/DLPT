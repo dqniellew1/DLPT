{
  "nbformat": 4,
  "nbformat_minor": 0,
  "metadata": {
    "colab": {
      "name": "dlpt_tensor.ipynb",
      "provenance": [],
      "authorship_tag": "ABX9TyPA28688LhC+nQqxDOAQR3v",
      "include_colab_link": true
    },
    "kernelspec": {
      "name": "python3",
      "display_name": "Python 3"
    }
  },
  "cells": [
    {
      "cell_type": "markdown",
      "metadata": {
        "id": "view-in-github",
        "colab_type": "text"
      },
      "source": [
        "<a href=\"https://colab.research.google.com/github/dqniellew1/DLPT/blob/master/dlpt_tensor.ipynb\" target=\"_parent\"><img src=\"https://colab.research.google.com/assets/colab-badge.svg\" alt=\"Open In Colab\"/></a>"
      ]
    },
    {
      "cell_type": "code",
      "metadata": {
        "id": "e8U4TJmDYZb4",
        "colab_type": "code",
        "colab": {}
      },
      "source": [
        "a = [1.0, 2.0, 1.0]"
      ],
      "execution_count": 0,
      "outputs": []
    },
    {
      "cell_type": "code",
      "metadata": {
        "id": "eHRQE_80Yjmd",
        "colab_type": "code",
        "colab": {
          "base_uri": "https://localhost:8080/",
          "height": 34
        },
        "outputId": "3e8537a2-7711-480d-fe31-27d3bb6b37a2"
      },
      "source": [
        "a[0]"
      ],
      "execution_count": 2,
      "outputs": [
        {
          "output_type": "execute_result",
          "data": {
            "text/plain": [
              "1.0"
            ]
          },
          "metadata": {
            "tags": []
          },
          "execution_count": 2
        }
      ]
    },
    {
      "cell_type": "code",
      "metadata": {
        "id": "_zusrEhAYk5L",
        "colab_type": "code",
        "colab": {}
      },
      "source": [
        "import torch"
      ],
      "execution_count": 0,
      "outputs": []
    },
    {
      "cell_type": "markdown",
      "metadata": {
        "id": "HUX4dK2xY5F2",
        "colab_type": "text"
      },
      "source": [
        "Constructing first tensor"
      ]
    },
    {
      "cell_type": "code",
      "metadata": {
        "id": "mGKQaJ3OYyYD",
        "colab_type": "code",
        "colab": {
          "base_uri": "https://localhost:8080/",
          "height": 34
        },
        "outputId": "48a541d3-c7af-4ba9-d281-8ec4af0b7e77"
      },
      "source": [
        "a = torch.ones(3)\n",
        "a"
      ],
      "execution_count": 4,
      "outputs": [
        {
          "output_type": "execute_result",
          "data": {
            "text/plain": [
              "tensor([1., 1., 1.])"
            ]
          },
          "metadata": {
            "tags": []
          },
          "execution_count": 4
        }
      ]
    },
    {
      "cell_type": "code",
      "metadata": {
        "id": "1N-_ObQwY1qX",
        "colab_type": "code",
        "colab": {
          "base_uri": "https://localhost:8080/",
          "height": 34
        },
        "outputId": "41684a20-7791-48cc-aed5-e7cd9bc69abb"
      },
      "source": [
        "a[1]"
      ],
      "execution_count": 5,
      "outputs": [
        {
          "output_type": "execute_result",
          "data": {
            "text/plain": [
              "tensor(1.)"
            ]
          },
          "metadata": {
            "tags": []
          },
          "execution_count": 5
        }
      ]
    },
    {
      "cell_type": "code",
      "metadata": {
        "id": "O25NSAebY33F",
        "colab_type": "code",
        "colab": {}
      },
      "source": [
        "a[2] = 2.0"
      ],
      "execution_count": 0,
      "outputs": []
    },
    {
      "cell_type": "code",
      "metadata": {
        "id": "e8ymoCfQY9HM",
        "colab_type": "code",
        "colab": {
          "base_uri": "https://localhost:8080/",
          "height": 34
        },
        "outputId": "146bafd5-5ee8-41a7-c1e2-ed036708ce2a"
      },
      "source": [
        "a"
      ],
      "execution_count": 8,
      "outputs": [
        {
          "output_type": "execute_result",
          "data": {
            "text/plain": [
              "tensor([1., 1., 2.])"
            ]
          },
          "metadata": {
            "tags": []
          },
          "execution_count": 8
        }
      ]
    },
    {
      "cell_type": "markdown",
      "metadata": {
        "id": "YMYwtErgZdhg",
        "colab_type": "text"
      },
      "source": [
        "Sample: Coordinate points"
      ]
    },
    {
      "cell_type": "code",
      "metadata": {
        "id": "ffpKdfImY_Kw",
        "colab_type": "code",
        "colab": {}
      },
      "source": [
        "points = torch.zeros(6)\n",
        "points[0] = 4.0\n",
        "points[1] = 1.0\n",
        "points[2] = 5.0\n",
        "points[3] = 3.0\n",
        "points[4] = 2.0\n",
        "points[5] = 1.0\n"
      ],
      "execution_count": 0,
      "outputs": []
    },
    {
      "cell_type": "code",
      "metadata": {
        "id": "LGr9oEBjZr_0",
        "colab_type": "code",
        "colab": {
          "base_uri": "https://localhost:8080/",
          "height": 34
        },
        "outputId": "775c0c82-c1bf-4fdb-f588-f36403d992fb"
      },
      "source": [
        "points"
      ],
      "execution_count": 10,
      "outputs": [
        {
          "output_type": "execute_result",
          "data": {
            "text/plain": [
              "tensor([4., 1., 5., 3., 2., 1.])"
            ]
          },
          "metadata": {
            "tags": []
          },
          "execution_count": 10
        }
      ]
    },
    {
      "cell_type": "markdown",
      "metadata": {
        "id": "2SZWp8qIZ1KS",
        "colab_type": "text"
      },
      "source": [
        "Pass a python list into a tensor"
      ]
    },
    {
      "cell_type": "code",
      "metadata": {
        "id": "JVOuTkqlZthg",
        "colab_type": "code",
        "colab": {
          "base_uri": "https://localhost:8080/",
          "height": 34
        },
        "outputId": "9ed3655d-8305-4854-ea7c-063b6836e27e"
      },
      "source": [
        "points = torch.tensor([4.0, 1.0, 5.0, 3.0 ,2.0, 1.0])\n",
        "points"
      ],
      "execution_count": 11,
      "outputs": [
        {
          "output_type": "execute_result",
          "data": {
            "text/plain": [
              "tensor([4., 1., 5., 3., 2., 1.])"
            ]
          },
          "metadata": {
            "tags": []
          },
          "execution_count": 11
        }
      ]
    },
    {
      "cell_type": "markdown",
      "metadata": {
        "id": "cPKE0pjJZ6P6",
        "colab_type": "text"
      },
      "source": [
        "Get coordinates of the first point"
      ]
    },
    {
      "cell_type": "code",
      "metadata": {
        "id": "TrsppMaiZ0mi",
        "colab_type": "code",
        "colab": {
          "base_uri": "https://localhost:8080/",
          "height": 34
        },
        "outputId": "4d4eaffb-926f-4349-f8d4-d18a113d2024"
      },
      "source": [
        "float(points[0]), float(points[1])"
      ],
      "execution_count": 14,
      "outputs": [
        {
          "output_type": "execute_result",
          "data": {
            "text/plain": [
              "(4.0, 1.0)"
            ]
          },
          "metadata": {
            "tags": []
          },
          "execution_count": 14
        }
      ]
    },
    {
      "cell_type": "markdown",
      "metadata": {
        "id": "WAKfuaVXaGSJ",
        "colab_type": "text"
      },
      "source": [
        "2D tensor"
      ]
    },
    {
      "cell_type": "code",
      "metadata": {
        "id": "QXhVo0xqaARY",
        "colab_type": "code",
        "colab": {
          "base_uri": "https://localhost:8080/",
          "height": 68
        },
        "outputId": "ed28e896-b044-4544-ed3b-6f13c4126871"
      },
      "source": [
        "points = torch.tensor([[4.0, 2.0], [5.0, 3.0], [2.0, 1.0]])\n",
        "points"
      ],
      "execution_count": 15,
      "outputs": [
        {
          "output_type": "execute_result",
          "data": {
            "text/plain": [
              "tensor([[4., 2.],\n",
              "        [5., 3.],\n",
              "        [2., 1.]])"
            ]
          },
          "metadata": {
            "tags": []
          },
          "execution_count": 15
        }
      ]
    },
    {
      "cell_type": "code",
      "metadata": {
        "id": "7y130S_taS6u",
        "colab_type": "code",
        "colab": {
          "base_uri": "https://localhost:8080/",
          "height": 34
        },
        "outputId": "5818182c-2ab7-4cbe-c0aa-238568b46e14"
      },
      "source": [
        "points.shape"
      ],
      "execution_count": 16,
      "outputs": [
        {
          "output_type": "execute_result",
          "data": {
            "text/plain": [
              "torch.Size([3, 2])"
            ]
          },
          "metadata": {
            "tags": []
          },
          "execution_count": 16
        }
      ]
    },
    {
      "cell_type": "markdown",
      "metadata": {
        "id": "y9iX2l3taeML",
        "colab_type": "text"
      },
      "source": [
        "Initialize tensor with zeros and ones"
      ]
    },
    {
      "cell_type": "code",
      "metadata": {
        "id": "P1KDRDsIadQR",
        "colab_type": "code",
        "colab": {
          "base_uri": "https://localhost:8080/",
          "height": 68
        },
        "outputId": "3eae42e2-2793-4128-b5da-1405e9b973b6"
      },
      "source": [
        "points = torch.zeros(3,2)\n",
        "points"
      ],
      "execution_count": 17,
      "outputs": [
        {
          "output_type": "execute_result",
          "data": {
            "text/plain": [
              "tensor([[0., 0.],\n",
              "        [0., 0.],\n",
              "        [0., 0.]])"
            ]
          },
          "metadata": {
            "tags": []
          },
          "execution_count": 17
        }
      ]
    },
    {
      "cell_type": "code",
      "metadata": {
        "id": "NKCu6adIaoHQ",
        "colab_type": "code",
        "colab": {
          "base_uri": "https://localhost:8080/",
          "height": 68
        },
        "outputId": "a5f3b718-408a-45c5-c4a8-e7ca032303b1"
      },
      "source": [
        "points = torch.tensor([[4.0, 1.0], [5.0, 3.0], [2.0, 1.0]])\n",
        "points"
      ],
      "execution_count": 18,
      "outputs": [
        {
          "output_type": "execute_result",
          "data": {
            "text/plain": [
              "tensor([[4., 1.],\n",
              "        [5., 3.],\n",
              "        [2., 1.]])"
            ]
          },
          "metadata": {
            "tags": []
          },
          "execution_count": 18
        }
      ]
    },
    {
      "cell_type": "code",
      "metadata": {
        "id": "m9ZTPXoca0TI",
        "colab_type": "code",
        "colab": {
          "base_uri": "https://localhost:8080/",
          "height": 34
        },
        "outputId": "843efcbd-a74a-4191-e470-5d471f7de1ca"
      },
      "source": [
        "points[0,1]"
      ],
      "execution_count": 19,
      "outputs": [
        {
          "output_type": "execute_result",
          "data": {
            "text/plain": [
              "tensor(1.)"
            ]
          },
          "metadata": {
            "tags": []
          },
          "execution_count": 19
        }
      ]
    },
    {
      "cell_type": "code",
      "metadata": {
        "id": "8h4EYNysa16N",
        "colab_type": "code",
        "colab": {
          "base_uri": "https://localhost:8080/",
          "height": 34
        },
        "outputId": "b2d7976a-bc62-461a-adff-bd51769ae6ff"
      },
      "source": [
        "points[0]"
      ],
      "execution_count": 20,
      "outputs": [
        {
          "output_type": "execute_result",
          "data": {
            "text/plain": [
              "tensor([4., 1.])"
            ]
          },
          "metadata": {
            "tags": []
          },
          "execution_count": 20
        }
      ]
    },
    {
      "cell_type": "markdown",
      "metadata": {
        "id": "jNjWOgHBbGnq",
        "colab_type": "text"
      },
      "source": [
        "Indexing tensors"
      ]
    },
    {
      "cell_type": "code",
      "metadata": {
        "id": "3pufi7qqbHmW",
        "colab_type": "code",
        "colab": {}
      },
      "source": [
        "some_list = list(range(6))"
      ],
      "execution_count": 0,
      "outputs": []
    },
    {
      "cell_type": "code",
      "metadata": {
        "id": "LhM4TwzvbTcr",
        "colab_type": "code",
        "colab": {
          "base_uri": "https://localhost:8080/",
          "height": 34
        },
        "outputId": "9a088576-05ab-459c-bc4f-7bba4e516e98"
      },
      "source": [
        "some_list[:] # returns all elements of the list\n",
        "some_list[1:4] # returns elements at position 1 to 3 excluding 4\n",
        "some_list[1:] # returns all elements after position 1\n",
        "some_list[:4] # returns all elements up to 4 \n",
        "some_list[:-1] # returns all elements from the start to one before the last element\n",
        "some_list[1:4:2] # returns elements from 1 to 3 with steps of 2"
      ],
      "execution_count": 30,
      "outputs": [
        {
          "output_type": "execute_result",
          "data": {
            "text/plain": [
              "[1, 3]"
            ]
          },
          "metadata": {
            "tags": []
          },
          "execution_count": 30
        }
      ]
    },
    {
      "cell_type": "code",
      "metadata": {
        "id": "OIYTWEwybVCd",
        "colab_type": "code",
        "colab": {
          "base_uri": "https://localhost:8080/",
          "height": 68
        },
        "outputId": "ffa868a6-4805-4e49-d6f4-ad6b68885469"
      },
      "source": [
        "points[1:] # 1st row onwards\n",
        "points[1:, :] # 1st row onwards and all columns\n",
        "points[1:, 0] # 1st row onwards and 0th column\n",
        "points[None] # Add dimension of size one, just like unsqueeze"
      ],
      "execution_count": 42,
      "outputs": [
        {
          "output_type": "execute_result",
          "data": {
            "text/plain": [
              "tensor([[[4., 1.],\n",
              "         [5., 3.],\n",
              "         [2., 1.]]])"
            ]
          },
          "metadata": {
            "tags": []
          },
          "execution_count": 42
        }
      ]
    },
    {
      "cell_type": "markdown",
      "metadata": {
        "id": "VgXH8_VAdlhT",
        "colab_type": "text"
      },
      "source": [
        "Imagine we have a 3D tensor, we want to convert it to grayscale."
      ]
    },
    {
      "cell_type": "code",
      "metadata": {
        "id": "ukAGAwC3cqvy",
        "colab_type": "code",
        "colab": {}
      },
      "source": [
        "img_t = torch.randn(3, 5, 5) # shape [channels, rows, columns]\n",
        "weights = torch.tensor([0.2126, 0.7152, 0.0722]) # typical weights for colors to derive a single brightnes value"
      ],
      "execution_count": 0,
      "outputs": []
    },
    {
      "cell_type": "markdown",
      "metadata": {
        "id": "GUPaPTFceTmg",
        "colab_type": "text"
      },
      "source": [
        "Pretend we have an additional dimension; of batch size"
      ]
    },
    {
      "cell_type": "code",
      "metadata": {
        "id": "hQDr9qHkdytB",
        "colab_type": "code",
        "colab": {}
      },
      "source": [
        "batch_t = torch.randn(2, 3, 5, 5) # shape [batch, channels, rows, columns]"
      ],
      "execution_count": 0,
      "outputs": []
    },
    {
      "cell_type": "markdown",
      "metadata": {
        "id": "GuzGSP5_elZ3",
        "colab_type": "text"
      },
      "source": [
        "Sometimes RGB channels are in dimension 0 or 1. We can generalize by counting from the end: That is, they are always in dimension -3. "
      ]
    },
    {
      "cell_type": "code",
      "metadata": {
        "id": "oGYYcFVVdzh3",
        "colab_type": "code",
        "colab": {
          "base_uri": "https://localhost:8080/",
          "height": 34
        },
        "outputId": "911d0333-257a-4c2a-e1e2-c97b58a3a52b"
      },
      "source": [
        "img_gray_naive = img_t.mean(-3) # get mean of channels\n",
        "batch_gray_naive = batch_t.mean(-3) # get mean of channels\n",
        "img_gray_naive.shape, batch_gray_naive.shape"
      ],
      "execution_count": 55,
      "outputs": [
        {
          "output_type": "execute_result",
          "data": {
            "text/plain": [
              "(torch.Size([5, 5]), torch.Size([2, 5, 5]))"
            ]
          },
          "metadata": {
            "tags": []
          },
          "execution_count": 55
        }
      ]
    },
    {
      "cell_type": "code",
      "metadata": {
        "id": "Ysi2SYUGg4Me",
        "colab_type": "code",
        "colab": {
          "base_uri": "https://localhost:8080/",
          "height": 54
        },
        "outputId": "a14e2e96-5a33-4752-a8e7-1e1ea1688cac"
      },
      "source": [
        "# Can only multiply things that are of the same shape\n",
        "unsqueezed_weights = weights.unsqueeze(-1).unsqueeze_(-1) # Add 2 dimensions\n",
        "img_weights = (img_t * unsqueezed_weights) # Multiply by same D\n",
        "batch_weights = (batch_t * unsqueezed_weights) # broadcasting appends leading dimensions of size one automatically.\n",
        "img_gray_weights = img_weights.sum(-3)\n",
        "batch_gray_weighted = batch_weights.sum(-3)\n",
        "batch_weights.shape, batch_t.shape, unsqueezed_weights.shape"
      ],
      "execution_count": 81,
      "outputs": [
        {
          "output_type": "execute_result",
          "data": {
            "text/plain": [
              "(torch.Size([2, 3, 5, 5]), torch.Size([2, 3, 5, 5]), torch.Size([3, 1, 1]))"
            ]
          },
          "metadata": {
            "tags": []
          },
          "execution_count": 81
        }
      ]
    },
    {
      "cell_type": "markdown",
      "metadata": {
        "id": "7HMLYnnmi9Rp",
        "colab_type": "text"
      },
      "source": [
        "Above operations gets messy quickly, therefore the PyTorch function `einsum` makes it easier."
      ]
    },
    {
      "cell_type": "code",
      "metadata": {
        "id": "bZOQP6Z0hW7Q",
        "colab_type": "code",
        "colab": {
          "base_uri": "https://localhost:8080/",
          "height": 34
        },
        "outputId": "1afaed94-9cfc-477a-a773-eafbce6840dd"
      },
      "source": [
        "img_gray_weighted_fancy = torch.einsum('...chw,c->...hw', img_t, weights)\n",
        "batch_gray_weighted_fancy = torch.einsum('...chw,c->...hw', batch_t, weights)\n",
        "batch_gray_weighted_fancy.shape"
      ],
      "execution_count": 84,
      "outputs": [
        {
          "output_type": "execute_result",
          "data": {
            "text/plain": [
              "torch.Size([2, 5, 5])"
            ]
          },
          "metadata": {
            "tags": []
          },
          "execution_count": 84
        }
      ]
    },
    {
      "cell_type": "markdown",
      "metadata": {
        "id": "5tbXR8gDjxJX",
        "colab_type": "text"
      },
      "source": [
        "There is quite some bookkeeping invloved when doing tensor operations, therefore practitioners suggest giving names to the dimensions instead.\n",
        "\n",
        "Enter named tensors"
      ]
    },
    {
      "cell_type": "code",
      "metadata": {
        "id": "v_6qZMfHhXv4",
        "colab_type": "code",
        "colab": {
          "base_uri": "https://localhost:8080/",
          "height": 34
        },
        "outputId": "c92197ae-d4f2-4037-9e1d-d93a4d6189f4"
      },
      "source": [
        "weights_named = torch.tensor([0.2126, 0.7152, 0.0722], names=['channels']);\n",
        "weights_named"
      ],
      "execution_count": 88,
      "outputs": [
        {
          "output_type": "execute_result",
          "data": {
            "text/plain": [
              "tensor([0.2126, 0.7152, 0.0722], names=('channels',))"
            ]
          },
          "metadata": {
            "tags": []
          },
          "execution_count": 88
        }
      ]
    },
    {
      "cell_type": "markdown",
      "metadata": {
        "id": "s7cqvvRmkwkW",
        "colab_type": "text"
      },
      "source": [
        "When we already have tensors and only want to add names, we can call the method `refine_names`. the ellipsis `...` allows you to leave out any number of dimensions. With the `rename` sibling you can also overwrite or drop (by passing in `None`) existing names."
      ]
    },
    {
      "cell_type": "code",
      "metadata": {
        "id": "SY-alXBRiRAb",
        "colab_type": "code",
        "colab": {
          "base_uri": "https://localhost:8080/",
          "height": 71
        },
        "outputId": "1cb93c32-ff2a-4803-b35e-9b9b4a9ed110"
      },
      "source": [
        "img_named = img_t.refine_names(..., 'channels', 'rows', 'columns')\n",
        "batch_named = batch_t.refine_names(..., 'channels', 'rows', 'columns')\n",
        "print(f'img named: {img_named.shape}, {img_named.names}')\n",
        "print(f'batch named: {batch_named.shape}, {batch_named.names}')"
      ],
      "execution_count": 101,
      "outputs": [
        {
          "output_type": "stream",
          "text": [
            "img named: torch.Size([3, 5, 5]), ('channels', 'rows', 'columns')\n",
            "batch named: torch.Size([2, 3, 5, 5]), (None, 'channels', 'rows', 'columns')\n"
          ],
          "name": "stdout"
        }
      ]
    },
    {
      "cell_type": "markdown",
      "metadata": {
        "id": "Wttfq7dZm8bD",
        "colab_type": "text"
      },
      "source": [
        "In addition to the dimension checks, eg same size, or broadcasted, PyTorch will check names for us. It does not automatically align dimensions, so we need to do this explicitly. `align_as` returns a tensor with missing dimensions added and existing ones permuted to the right order."
      ]
    },
    {
      "cell_type": "code",
      "metadata": {
        "id": "eO6uk9bllIb9",
        "colab_type": "code",
        "colab": {
          "base_uri": "https://localhost:8080/",
          "height": 34
        },
        "outputId": "79cc285d-5c92-4cc8-9920-eda74a1b77b4"
      },
      "source": [
        "weights_aligned = weights_named.align_as(img_named)\n",
        "weights_aligned.shape, weights_aligned.names"
      ],
      "execution_count": 103,
      "outputs": [
        {
          "output_type": "execute_result",
          "data": {
            "text/plain": [
              "(torch.Size([3, 1, 1]), ('channels', 'rows', 'columns'))"
            ]
          },
          "metadata": {
            "tags": []
          },
          "execution_count": 103
        }
      ]
    },
    {
      "cell_type": "markdown",
      "metadata": {
        "id": "JImJlo_anePG",
        "colab_type": "text"
      },
      "source": [
        "Functions accepting dimension arguments eg: `sum`, `mean` also take named dimensions"
      ]
    },
    {
      "cell_type": "code",
      "metadata": {
        "id": "9-mHdod0mLm9",
        "colab_type": "code",
        "colab": {
          "base_uri": "https://localhost:8080/",
          "height": 34
        },
        "outputId": "603e00f8-37ea-470a-a0c3-abfd2fdce5be"
      },
      "source": [
        "gray_named = (img_named * weights_aligned).sum('channels')\n",
        "gray_named.shape, gray_named.names"
      ],
      "execution_count": 105,
      "outputs": [
        {
          "output_type": "execute_result",
          "data": {
            "text/plain": [
              "(torch.Size([5, 5]), ('rows', 'columns'))"
            ]
          },
          "metadata": {
            "tags": []
          },
          "execution_count": 105
        }
      ]
    },
    {
      "cell_type": "markdown",
      "metadata": {
        "id": "fc2uurSFnwGo",
        "colab_type": "text"
      },
      "source": [
        "Combining dimensions with different names give an **error**!"
      ]
    },
    {
      "cell_type": "code",
      "metadata": {
        "id": "UNPV9fJUmNO9",
        "colab_type": "code",
        "colab": {
          "base_uri": "https://localhost:8080/",
          "height": 184
        },
        "outputId": "44fefb70-5a98-4b39-c7f5-7d1ce92b379e"
      },
      "source": [
        "gray_named= (img_named[..., :3] * weights_named).sum('channels')\n"
      ],
      "execution_count": 110,
      "outputs": [
        {
          "output_type": "error",
          "ename": "RuntimeError",
          "evalue": "ignored",
          "traceback": [
            "\u001b[0;31m---------------------------------------------------------------------------\u001b[0m",
            "\u001b[0;31mRuntimeError\u001b[0m                              Traceback (most recent call last)",
            "\u001b[0;32m<ipython-input-110-c08083b862a9>\u001b[0m in \u001b[0;36m<module>\u001b[0;34m()\u001b[0m\n\u001b[0;32m----> 1\u001b[0;31m \u001b[0mgray_named\u001b[0m\u001b[0;34m=\u001b[0m \u001b[0;34m(\u001b[0m\u001b[0mimg_named\u001b[0m\u001b[0;34m[\u001b[0m\u001b[0;34m...\u001b[0m\u001b[0;34m,\u001b[0m \u001b[0;34m:\u001b[0m\u001b[0;36m3\u001b[0m\u001b[0;34m]\u001b[0m \u001b[0;34m*\u001b[0m \u001b[0mweights_named\u001b[0m\u001b[0;34m)\u001b[0m\u001b[0;34m.\u001b[0m\u001b[0msum\u001b[0m\u001b[0;34m(\u001b[0m\u001b[0;34m'channels'\u001b[0m\u001b[0;34m)\u001b[0m\u001b[0;34m\u001b[0m\u001b[0;34m\u001b[0m\u001b[0m\n\u001b[0m",
            "\u001b[0;31mRuntimeError\u001b[0m: Error when attempting to broadcast dims ['channels', 'rows', 'columns'] and dims ['channels']: dim 'columns' and dim 'channels' are at the same position from the right but do not match."
          ]
        }
      ]
    },
    {
      "cell_type": "markdown",
      "metadata": {
        "id": "uQyK98mOoOgZ",
        "colab_type": "text"
      },
      "source": [
        "If we want to use tensors outside functions to operate on named tensors, we have to drop names by renaming them with `None`."
      ]
    },
    {
      "cell_type": "code",
      "metadata": {
        "id": "W8k2JC2nn78X",
        "colab_type": "code",
        "colab": {
          "base_uri": "https://localhost:8080/",
          "height": 34
        },
        "outputId": "4e541c23-2040-48eb-9ad6-6d7dd1a632a2"
      },
      "source": [
        "gray_plain = gray_named.rename(None)\n",
        "gray_plain.shape, gray_plain.names"
      ],
      "execution_count": 111,
      "outputs": [
        {
          "output_type": "execute_result",
          "data": {
            "text/plain": [
              "(torch.Size([5, 5]), (None, None))"
            ]
          },
          "metadata": {
            "tags": []
          },
          "execution_count": 111
        }
      ]
    },
    {
      "cell_type": "code",
      "metadata": {
        "id": "AteeLid9n8jV",
        "colab_type": "code",
        "colab": {}
      },
      "source": [
        ""
      ],
      "execution_count": 0,
      "outputs": []
    }
  ]
}