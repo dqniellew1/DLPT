{
  "nbformat": 4,
  "nbformat_minor": 0,
  "metadata": {
    "colab": {
      "name": "Using a neural network to fit the data.ipynb",
      "provenance": [],
      "mount_file_id": "1SGOhS22e5n7QDe0xNkxULtHg398aBMut",
      "authorship_tag": "ABX9TyO/mpyLCKSohPTje1ow4dsd",
      "include_colab_link": true
    },
    "kernelspec": {
      "name": "python3",
      "display_name": "Python 3"
    }
  },
  "cells": [
    {
      "cell_type": "markdown",
      "metadata": {
        "id": "view-in-github",
        "colab_type": "text"
      },
      "source": [
        "<a href=\"https://colab.research.google.com/github/dqniellew1/DLPT/blob/master/Using_a_neural_network_to_fit_the_data.ipynb\" target=\"_parent\"><img src=\"https://colab.research.google.com/assets/colab-badge.svg\" alt=\"Open In Colab\"/></a>"
      ]
    },
    {
      "cell_type": "code",
      "metadata": {
        "id": "_99BhUe6KWaz",
        "colab_type": "code",
        "colab": {}
      },
      "source": [
        "drive_dir = 'drive/My Drive/dlwpt-code/data/'"
      ],
      "execution_count": 1,
      "outputs": []
    },
    {
      "cell_type": "code",
      "metadata": {
        "id": "7oVa1Z-8Kfoa",
        "colab_type": "code",
        "colab": {}
      },
      "source": [
        "import torch"
      ],
      "execution_count": 2,
      "outputs": []
    },
    {
      "cell_type": "markdown",
      "metadata": {
        "id": "n9QLBJpwMOoY",
        "colab_type": "text"
      },
      "source": [
        "Basic building block of the complicated functions that make up a neural networks are `neurons`. It consists of a linear transformation of the input and the application of a fixed non-linear function.\n",
        "\n",
        "Mathematically: `o = f(w * x + b)`\n",
        "- o for output\n",
        "- f for activation function\n",
        "- w for weights (can be a single scalar of matrix)\n",
        "- x for inputs (is a scalar or vector)\n",
        "- b for bias / offset\n",
        "\n",
        "**\\*the dimensionality of the inputs and weights must match**"
      ]
    },
    {
      "cell_type": "markdown",
      "metadata": {
        "id": "od-Vm9zePE5b",
        "colab_type": "text"
      },
      "source": [
        "Generalities about activation functions\n",
        "- are non-linear. The non-linearity allows the overall network to approximate more complex functions.\n",
        "- are differentiable, so that gradients can be computed through them, *with exceptions\n",
        "\n",
        "Without those, the network falls back to being a complicated polynomial or becomes difficult to train."
      ]
    },
    {
      "cell_type": "markdown",
      "metadata": {
        "id": "WNVeuYIrY-XD",
        "colab_type": "text"
      },
      "source": [
        "*Code from chapter 5"
      ]
    },
    {
      "cell_type": "code",
      "metadata": {
        "id": "STyXdKwfZGGO",
        "colab_type": "code",
        "colab": {}
      },
      "source": [
        "t_c = [0.5,  14.0, 15.0, 28.0, 11.0,  8.0,  3.0, -4.0,  6.0, 13.0, 21.0]\n",
        "t_u = [35.7, 55.9, 58.2, 81.9, 56.3, 48.9, 33.9, 21.8, 48.4, 60.4, 68.4]\n",
        "t_c = torch.tensor(t_c).unsqueeze(1) # temperatures in Celsius\n",
        "t_u = torch.tensor(t_u).unsqueeze(1) # Unknown units"
      ],
      "execution_count": 3,
      "outputs": []
    },
    {
      "cell_type": "code",
      "metadata": {
        "id": "SZWIfpdyY-CE",
        "colab_type": "code",
        "colab": {}
      },
      "source": [
        "n_samples = t_u.shape[0]\n",
        "n_val = int(0.2 * n_samples)\n",
        "\n",
        "shuffled_indices = torch.randperm(n_samples)"
      ],
      "execution_count": 4,
      "outputs": []
    },
    {
      "cell_type": "code",
      "metadata": {
        "id": "e9y9pGCEZR4m",
        "colab_type": "code",
        "colab": {
          "base_uri": "https://localhost:8080/",
          "height": 34
        },
        "outputId": "5634a283-1285-4c0f-9201-b77b19dc545b"
      },
      "source": [
        "train_indices = shuffled_indices[:-n_val]\n",
        "val_indices = shuffled_indices[-n_val:]\n",
        "\n",
        "train_indices, val_indices"
      ],
      "execution_count": 5,
      "outputs": [
        {
          "output_type": "execute_result",
          "data": {
            "text/plain": [
              "(tensor([10,  8,  2,  0,  7,  9,  5,  6,  3]), tensor([1, 4]))"
            ]
          },
          "metadata": {
            "tags": []
          },
          "execution_count": 5
        }
      ]
    },
    {
      "cell_type": "code",
      "metadata": {
        "id": "AQTvQ60PZR3K",
        "colab_type": "code",
        "colab": {}
      },
      "source": [
        "# Build training and validation set \n",
        "train_t_u = t_u[train_indices]\n",
        "train_t_c = t_c[train_indices]\n",
        "\n",
        "val_t_u = t_u[val_indices]\n",
        "val_t_c = t_c[val_indices]\n",
        "\n",
        "# scale our data\n",
        "train_t_un = 0.1 * train_t_u\n",
        "val_t_un = 0.1 * val_t_u"
      ],
      "execution_count": 6,
      "outputs": []
    },
    {
      "cell_type": "code",
      "metadata": {
        "id": "wI8SNSTsQdE7",
        "colab_type": "code",
        "colab": {}
      },
      "source": [
        "import torch.nn as nn"
      ],
      "execution_count": 7,
      "outputs": []
    },
    {
      "cell_type": "code",
      "metadata": {
        "id": "Pib2kTXbYicb",
        "colab_type": "code",
        "colab": {
          "base_uri": "https://localhost:8080/",
          "height": 51
        },
        "outputId": "9ddd5074-68dd-4bbc-d731-07aa8b9c7678"
      },
      "source": [
        "# nn.Linear is a subclass of nn.Module\n",
        "# Linear have their own `__call__` method, therefore we can call it like a function\n",
        "linear_model = nn.Linear(1, 1)\n",
        "linear_model(val_t_un)"
      ],
      "execution_count": 8,
      "outputs": [
        {
          "output_type": "execute_result",
          "data": {
            "text/plain": [
              "tensor([[-2.7810],\n",
              "        [-2.8040]], grad_fn=<AddmmBackward>)"
            ]
          },
          "metadata": {
            "tags": []
          },
          "execution_count": 8
        }
      ]
    },
    {
      "cell_type": "markdown",
      "metadata": {
        "id": "-1fp_2DFYqMR",
        "colab_type": "text"
      },
      "source": [
        "`y = model(x)` do this\n",
        "\n",
        "`y = model.forward(x)` dont do this"
      ]
    },
    {
      "cell_type": "markdown",
      "metadata": {
        "id": "0C6nB2OVazyd",
        "colab_type": "text"
      },
      "source": [
        "The constructor to `nn.Linear` accepts three arguments:\n",
        "1. the number of input features\n",
        "2. the number of output features\n",
        "3. Whether the linear model includes a bias or not (defaults to true)"
      ]
    },
    {
      "cell_type": "markdown",
      "metadata": {
        "id": "QV_4jwPFbXCt",
        "colab_type": "text"
      },
      "source": [
        "\\* The number of features in our case refers to the size of the input and the output tensor for the module.\n",
        "\n",
        "If we used both temperature and barometric pressure in input, for instance, we would have two features in input and one feature in output."
      ]
    },
    {
      "cell_type": "markdown",
      "metadata": {
        "id": "dGOE3wusb4dK",
        "colab_type": "text"
      },
      "source": [
        "Above we have an instance of `nn.Linear` with one input and one output feature. That only requires one weight and one bias."
      ]
    },
    {
      "cell_type": "code",
      "metadata": {
        "id": "wX4825_ScYup",
        "colab_type": "code",
        "colab": {
          "base_uri": "https://localhost:8080/",
          "height": 51
        },
        "outputId": "d0a32c1b-39eb-4197-ebce-ce3f8e949c1a"
      },
      "source": [
        "linear_model.weight"
      ],
      "execution_count": 9,
      "outputs": [
        {
          "output_type": "execute_result",
          "data": {
            "text/plain": [
              "Parameter containing:\n",
              "tensor([[-0.5741]], requires_grad=True)"
            ]
          },
          "metadata": {
            "tags": []
          },
          "execution_count": 9
        }
      ]
    },
    {
      "cell_type": "code",
      "metadata": {
        "id": "s0jSd6ofcbnk",
        "colab_type": "code",
        "colab": {
          "base_uri": "https://localhost:8080/",
          "height": 51
        },
        "outputId": "96c47b91-b71d-4213-9feb-2166370c47f3"
      },
      "source": [
        "linear_model.bias"
      ],
      "execution_count": 10,
      "outputs": [
        {
          "output_type": "execute_result",
          "data": {
            "text/plain": [
              "Parameter containing:\n",
              "tensor([0.4283], requires_grad=True)"
            ]
          },
          "metadata": {
            "tags": []
          },
          "execution_count": 10
        }
      ]
    },
    {
      "cell_type": "markdown",
      "metadata": {
        "id": "bRvQOgY-ceu-",
        "colab_type": "text"
      },
      "source": [
        "We can call the module with some inputs"
      ]
    },
    {
      "cell_type": "code",
      "metadata": {
        "id": "r09pLiO9cxCN",
        "colab_type": "code",
        "colab": {
          "base_uri": "https://localhost:8080/",
          "height": 34
        },
        "outputId": "6d7ce7bb-c5d7-4e3d-a15c-fce790325d58"
      },
      "source": [
        "x = torch.ones(1)\n",
        "linear_model(x)"
      ],
      "execution_count": 11,
      "outputs": [
        {
          "output_type": "execute_result",
          "data": {
            "text/plain": [
              "tensor([-0.1458], grad_fn=<AddBackward0>)"
            ]
          },
          "metadata": {
            "tags": []
          },
          "execution_count": 11
        }
      ]
    },
    {
      "cell_type": "markdown",
      "metadata": {
        "id": "q-c0Rx3hc4OD",
        "colab_type": "text"
      },
      "source": [
        "Although PyTorch let us get away with it, we didn't actually provide an input with the right dimensionality. We have a model that takes one input and produces one output, but PyTorch `nn.Module` and its subclasses are designed to do so on multiple samples at the same time. To accomodate multiple samples, modules expect the **zeroth dimension of the input to be the number of samples in the batch**."
      ]
    },
    {
      "cell_type": "markdown",
      "metadata": {
        "id": "BFfZKpDsdbYl",
        "colab_type": "text"
      },
      "source": [
        "Any module in `nn` is writtern to produce outputs for a batch of multiple inputs at the same time. Thus, assuming we need to run `nn.Linear` on 10 samples, we can create an input tensor of size `B x N_inputs`, where `B` is the size of the batch and `N_inputs` the number of input features, and run it once through the model."
      ]
    },
    {
      "cell_type": "code",
      "metadata": {
        "id": "FpipLzNLd6q7",
        "colab_type": "code",
        "colab": {
          "base_uri": "https://localhost:8080/",
          "height": 187
        },
        "outputId": "a5d40d43-174d-4979-c0e0-694d33d37c20"
      },
      "source": [
        "x = torch.ones(10, 1) # 10 batches, of 1 input\n",
        "linear_model(x)"
      ],
      "execution_count": 12,
      "outputs": [
        {
          "output_type": "execute_result",
          "data": {
            "text/plain": [
              "tensor([[-0.1458],\n",
              "        [-0.1458],\n",
              "        [-0.1458],\n",
              "        [-0.1458],\n",
              "        [-0.1458],\n",
              "        [-0.1458],\n",
              "        [-0.1458],\n",
              "        [-0.1458],\n",
              "        [-0.1458],\n",
              "        [-0.1458]], grad_fn=<AddmmBackward>)"
            ]
          },
          "metadata": {
            "tags": []
          },
          "execution_count": 12
        }
      ]
    },
    {
      "cell_type": "code",
      "metadata": {
        "id": "jRsF_tXWeAqQ",
        "colab_type": "code",
        "colab": {}
      },
      "source": [
        "import torch.optim as optim"
      ],
      "execution_count": 13,
      "outputs": []
    },
    {
      "cell_type": "markdown",
      "metadata": {
        "id": "Vifcj_3DfoLe",
        "colab_type": "text"
      },
      "source": [
        "Let's update our training code.\n"
      ]
    },
    {
      "cell_type": "code",
      "metadata": {
        "id": "sWf2X2HJgDvH",
        "colab_type": "code",
        "colab": {}
      },
      "source": [
        "# 1. replace our handmade model with nn.Linear(1,1)\n",
        "linear_model = nn.Linear(1, 1)\n",
        "# 2. pass the linear model parameters to the optimizer\n",
        "optimizer = optim.SGD(\n",
        "    linear_model.parameters(), # all the `w` and `b`'s of the model\n",
        "    lr = 1e-2)"
      ],
      "execution_count": 14,
      "outputs": []
    },
    {
      "cell_type": "markdown",
      "metadata": {
        "id": "0dsu1cypgbF3",
        "colab_type": "text"
      },
      "source": [
        "Earlier it was our responsibility to create parameters and pass them as first argument to `optim.SGD`. Now we can just ask any `nn.Module` for a list of parameters owned by it. or any of its submodules using the `paramters` method."
      ]
    },
    {
      "cell_type": "code",
      "metadata": {
        "id": "z3FdW92ygv4i",
        "colab_type": "code",
        "colab": {
          "base_uri": "https://localhost:8080/",
          "height": 34
        },
        "outputId": "f150183a-1a45-496c-b23c-b33209eda26b"
      },
      "source": [
        "linear_model.parameters()"
      ],
      "execution_count": 15,
      "outputs": [
        {
          "output_type": "execute_result",
          "data": {
            "text/plain": [
              "<generator object Module.parameters at 0x7f08a6caeca8>"
            ]
          },
          "metadata": {
            "tags": []
          },
          "execution_count": 15
        }
      ]
    },
    {
      "cell_type": "code",
      "metadata": {
        "id": "6FtLHG7Pgxhr",
        "colab_type": "code",
        "colab": {
          "base_uri": "https://localhost:8080/",
          "height": 68
        },
        "outputId": "6fd82be5-80a5-4be5-bbd2-f302be9f33c6"
      },
      "source": [
        "list(linear_model.parameters())"
      ],
      "execution_count": 16,
      "outputs": [
        {
          "output_type": "execute_result",
          "data": {
            "text/plain": [
              "[Parameter containing:\n",
              " tensor([[-0.8144]], requires_grad=True), Parameter containing:\n",
              " tensor([-0.1281], requires_grad=True)]"
            ]
          },
          "metadata": {
            "tags": []
          },
          "execution_count": 16
        }
      ]
    },
    {
      "cell_type": "code",
      "metadata": {
        "id": "eTYyIIeegzcS",
        "colab_type": "code",
        "colab": {}
      },
      "source": [
        "def training_loop(n_epochs, optimizer, model, loss_fn, t_u_train, t_u_val, t_c_train, t_c_val):\n",
        "  for epoch in range(1, n_epochs + 1):\n",
        "    t_p_train = model(t_u_train)\n",
        "    loss_train = loss_fn(t_p_train , t_c_train)\n",
        "\n",
        "    t_p_val = model(t_u_val)\n",
        "    loss_val = loss_fn(t_p_val, t_c_val)\n",
        "\n",
        "    optimizer.zero_grad()\n",
        "    loss_train.backward()\n",
        "    optimizer.step()\n",
        "\n",
        "    if epoch == 1 or epoch % 1000 == 0:\n",
        "      print('Epoch {}, Training loss {}, Validation loss {}'.format(\n",
        "          epoch, float(loss_train), float(loss_val)))"
      ],
      "execution_count": 17,
      "outputs": []
    },
    {
      "cell_type": "markdown",
      "metadata": {
        "id": "Dxm3jGZiiNi-",
        "colab_type": "text"
      },
      "source": [
        "The training loop does not change at all from our hand made example, **except that now we don't pass `params` explicitly to `model`** since the model itself holds its `Parameters` internally."
      ]
    },
    {
      "cell_type": "markdown",
      "metadata": {
        "id": "LMzO34gKift_",
        "colab_type": "text"
      },
      "source": [
        "We can leverage loss functions from `torch.nn`. `nn` comes with several common loss functions amoong which `nn.MSELoss` which is exactly what we defined earlier as our `loss_fn`. Loss functions in `nn` are still subclasses of `nn.Module`, so we will create an instance and call it as a function. In our case, we got rid of the hand-written `loss_fn` and replace it."
      ]
    },
    {
      "cell_type": "code",
      "metadata": {
        "id": "WsUvtDcGjGie",
        "colab_type": "code",
        "colab": {
          "base_uri": "https://localhost:8080/",
          "height": 190
        },
        "outputId": "600062af-855e-4f27-ac4f-c8ff38d17770"
      },
      "source": [
        "linear_model = nn.Linear(1, 1) # applies an affine transformation to its input via model parameters\n",
        "optimizer = optim.SGD(\n",
        "    linear_model.parameters(),\n",
        "    lr=1e-2)\n",
        "\n",
        "training_loop(\n",
        "    n_epochs = 3000,\n",
        "    optimizer = optimizer,\n",
        "    model = linear_model,\n",
        "    loss_fn = nn.MSELoss(), # create an instance and call it as a function\n",
        "    t_u_train = train_t_un,\n",
        "    t_u_val = val_t_un,\n",
        "    t_c_train = train_t_c,\n",
        "    t_c_val = val_t_c)\n",
        "\n",
        "print()\n",
        "print(linear_model.weight)\n",
        "print(linear_model.bias)"
      ],
      "execution_count": 18,
      "outputs": [
        {
          "output_type": "stream",
          "text": [
            "Epoch 1, Training loss 269.68682861328125, Validation loss 234.68382263183594\n",
            "Epoch 1000, Training loss 3.547642230987549, Validation loss 2.726200580596924\n",
            "Epoch 2000, Training loss 2.986647605895996, Validation loss 2.731076955795288\n",
            "Epoch 3000, Training loss 2.977858304977417, Validation loss 2.731765031814575\n",
            "\n",
            "Parameter containing:\n",
            "tensor([[5.3753]], requires_grad=True)\n",
            "Parameter containing:\n",
            "tensor([-17.2710], requires_grad=True)\n"
          ],
          "name": "stdout"
        }
      ]
    },
    {
      "cell_type": "markdown",
      "metadata": {
        "id": "BYHiULx_jsCF",
        "colab_type": "text"
      },
      "source": [
        "A neural network"
      ]
    },
    {
      "cell_type": "code",
      "metadata": {
        "id": "scbuGPzNRazs",
        "colab_type": "code",
        "colab": {
          "base_uri": "https://localhost:8080/",
          "height": 102
        },
        "outputId": "3dea435d-a1e3-497b-d101-1f08e4ca71c3"
      },
      "source": [
        "seq_model = nn.Sequential(\n",
        "    nn.Linear(1, 13), \n",
        "    nn.Tanh(),\n",
        "    nn.Linear(13, 1))\n",
        "\n",
        "seq_model"
      ],
      "execution_count": 19,
      "outputs": [
        {
          "output_type": "execute_result",
          "data": {
            "text/plain": [
              "Sequential(\n",
              "  (0): Linear(in_features=1, out_features=13, bias=True)\n",
              "  (1): Tanh()\n",
              "  (2): Linear(in_features=13, out_features=1, bias=True)\n",
              ")"
            ]
          },
          "metadata": {
            "tags": []
          },
          "execution_count": 19
        }
      ]
    },
    {
      "cell_type": "markdown",
      "metadata": {
        "id": "1fJnhKAISwPP",
        "colab_type": "text"
      },
      "source": [
        "**13 was chosen arbitrarily.** We wanted to pick a number that was a different size from the other various tensor shapes we have floating around."
      ]
    },
    {
      "cell_type": "markdown",
      "metadata": {
        "id": "vtINSReYWXy8",
        "colab_type": "text"
      },
      "source": [
        "Calling `model.parameters()` will collect `weight` and `bias` from both the first and second linear modules. It's instructive to inspect the parameters in this case by printing their shapes."
      ]
    },
    {
      "cell_type": "code",
      "metadata": {
        "id": "icyxWuTOS1CF",
        "colab_type": "code",
        "colab": {
          "base_uri": "https://localhost:8080/",
          "height": 54
        },
        "outputId": "1fd5a208-a54c-4ad7-e0e8-7cc020349800"
      },
      "source": [
        "[param.shape for param in seq_model.parameters()]"
      ],
      "execution_count": 20,
      "outputs": [
        {
          "output_type": "execute_result",
          "data": {
            "text/plain": [
              "[torch.Size([13, 1]), torch.Size([13]), torch.Size([1, 13]), torch.Size([1])]"
            ]
          },
          "metadata": {
            "tags": []
          },
          "execution_count": 20
        }
      ]
    },
    {
      "cell_type": "markdown",
      "metadata": {
        "id": "xyvS7Z51V-do",
        "colab_type": "text"
      },
      "source": [
        "Notes on parameters of `nn.Modules`:\n",
        "\n",
        "When inspecting parameters of a model made up of several submodules, it is handy to be able to identify parameters by their name. We can use a method called `named_parameters`."
      ]
    },
    {
      "cell_type": "code",
      "metadata": {
        "id": "_Gx0BECUZRK_",
        "colab_type": "code",
        "colab": {
          "base_uri": "https://localhost:8080/",
          "height": 85
        },
        "outputId": "2347ae91-c6ca-4881-d663-5d1d4a41bad7"
      },
      "source": [
        "for name, param in seq_model.named_parameters():\n",
        "  print(name, param.shape)"
      ],
      "execution_count": 21,
      "outputs": [
        {
          "output_type": "stream",
          "text": [
            "0.weight torch.Size([13, 1])\n",
            "0.bias torch.Size([13])\n",
            "2.weight torch.Size([1, 13])\n",
            "2.bias torch.Size([1])\n"
          ],
          "name": "stdout"
        }
      ]
    },
    {
      "cell_type": "markdown",
      "metadata": {
        "id": "9siiy0qmZWCI",
        "colab_type": "text"
      },
      "source": [
        "Each module in `Sequential` is just the ordinal with which the module has appeared in the arguments.\n",
        "\n",
        "`Sequential` also accepts an `OrderedDict`, where we can name each module passed to `Sequential`"
      ]
    },
    {
      "cell_type": "code",
      "metadata": {
        "id": "MIqXndFIZ4lx",
        "colab_type": "code",
        "colab": {
          "base_uri": "https://localhost:8080/",
          "height": 102
        },
        "outputId": "08cf1796-59d3-4864-ef90-1c9bec884141"
      },
      "source": [
        "from collections import OrderedDict\n",
        "\n",
        "seq_model = nn.Sequential(OrderedDict([\n",
        "  ('hidden_linear', nn.Linear(1, 8)),\n",
        "  ('hidden_activation', nn.Tanh()),\n",
        "  ('output_linear', nn.Linear(8, 1))\n",
        "]))\n",
        "\n",
        "seq_model"
      ],
      "execution_count": 22,
      "outputs": [
        {
          "output_type": "execute_result",
          "data": {
            "text/plain": [
              "Sequential(\n",
              "  (hidden_linear): Linear(in_features=1, out_features=8, bias=True)\n",
              "  (hidden_activation): Tanh()\n",
              "  (output_linear): Linear(in_features=8, out_features=1, bias=True)\n",
              ")"
            ]
          },
          "metadata": {
            "tags": []
          },
          "execution_count": 22
        }
      ]
    },
    {
      "cell_type": "markdown",
      "metadata": {
        "id": "bhi6FJCbaYp4",
        "colab_type": "text"
      },
      "source": [
        "This allows us to get more explanatory names for submodules."
      ]
    },
    {
      "cell_type": "code",
      "metadata": {
        "id": "aw_arfplaejZ",
        "colab_type": "code",
        "colab": {
          "base_uri": "https://localhost:8080/",
          "height": 85
        },
        "outputId": "4b0a951e-8c4d-40cc-8eff-f1d5b11c8fed"
      },
      "source": [
        "for name, param in seq_model.named_parameters():\n",
        "  print(name, param.shape)"
      ],
      "execution_count": 23,
      "outputs": [
        {
          "output_type": "stream",
          "text": [
            "hidden_linear.weight torch.Size([8, 1])\n",
            "hidden_linear.bias torch.Size([8])\n",
            "output_linear.weight torch.Size([1, 8])\n",
            "output_linear.bias torch.Size([1])\n"
          ],
          "name": "stdout"
        }
      ]
    },
    {
      "cell_type": "markdown",
      "metadata": {
        "id": "hd5vtt_dajBG",
        "colab_type": "text"
      },
      "source": [
        "Getting a particular `Parameter` by accessing submodules as if they were attributes."
      ]
    },
    {
      "cell_type": "code",
      "metadata": {
        "id": "H3BQOocmatmg",
        "colab_type": "code",
        "colab": {
          "base_uri": "https://localhost:8080/",
          "height": 51
        },
        "outputId": "9263fa55-181a-43c6-9b76-633bf7166cc6"
      },
      "source": [
        "# access submodules with named parameters\n",
        "seq_model.output_linear.bias"
      ],
      "execution_count": 24,
      "outputs": [
        {
          "output_type": "execute_result",
          "data": {
            "text/plain": [
              "Parameter containing:\n",
              "tensor([-0.2402], requires_grad=True)"
            ]
          },
          "metadata": {
            "tags": []
          },
          "execution_count": 24
        }
      ]
    },
    {
      "cell_type": "markdown",
      "metadata": {
        "id": "1Lnex9AsavkN",
        "colab_type": "text"
      },
      "source": [
        "This is useful for inspecting parameters or their gradients, for instance to monitor gradients during training. Say we want to print out the gradients of `weight` of the linear portion of the hidden layer. We can run the training loop for the new neural network, then look at the resulting gradients after the last epoch."
      ]
    },
    {
      "cell_type": "code",
      "metadata": {
        "id": "isM7lLT_bVfN",
        "colab_type": "code",
        "colab": {
          "base_uri": "https://localhost:8080/",
          "height": 360
        },
        "outputId": "89f32bfc-90d1-457e-910d-186144630a43"
      },
      "source": [
        "optimizer = optim.SGD(seq_model.parameters(), lr=1e-3)\n",
        "\n",
        "training_loop(\n",
        "    n_epochs = 5000,\n",
        "    optimizer = optimizer,\n",
        "    model = seq_model,\n",
        "    loss_fn = nn.MSELoss(),\n",
        "    t_u_train = train_t_un,\n",
        "    t_u_val = val_t_un,\n",
        "    t_c_train = train_t_c,\n",
        "    t_c_val = val_t_c)\n",
        "\n",
        "print()\n",
        "print('output', seq_model(val_t_un))\n",
        "print('answer', val_t_c)\n",
        "print('hidden', seq_model.hidden_linear.weight.grad)"
      ],
      "execution_count": 25,
      "outputs": [
        {
          "output_type": "stream",
          "text": [
            "Epoch 1, Training loss 211.77630615234375, Validation loss 181.38186645507812\n",
            "Epoch 1000, Training loss 5.706830024719238, Validation loss 3.1043033599853516\n",
            "Epoch 2000, Training loss 3.871067523956299, Validation loss 5.265519618988037\n",
            "Epoch 3000, Training loss 2.4359922409057617, Validation loss 3.1837515830993652\n",
            "Epoch 4000, Training loss 1.7194355726242065, Validation loss 2.704766035079956\n",
            "Epoch 5000, Training loss 1.5804448127746582, Validation loss 2.8087449073791504\n",
            "\n",
            "output tensor([[11.2616],\n",
            "        [11.5299]], grad_fn=<AddmmBackward>)\n",
            "answer tensor([[14.],\n",
            "        [11.]])\n",
            "hidden tensor([[-0.2851],\n",
            "        [ 0.1043],\n",
            "        [ 9.3268],\n",
            "        [ 8.7398],\n",
            "        [-0.3371],\n",
            "        [-9.1195],\n",
            "        [ 0.0220],\n",
            "        [ 9.8607]])\n"
          ],
          "name": "stdout"
        }
      ]
    },
    {
      "cell_type": "markdown",
      "metadata": {
        "id": "VmnRefWFb-1N",
        "colab_type": "text"
      },
      "source": [
        "We can also evaluate the model on the whole data and see how different that is from a line."
      ]
    },
    {
      "cell_type": "code",
      "metadata": {
        "id": "ZkXOCbuLcQPL",
        "colab_type": "code",
        "colab": {
          "base_uri": "https://localhost:8080/",
          "height": 446
        },
        "outputId": "ab1dc054-5d33-49da-8188-272bf0be3cad"
      },
      "source": [
        "from matplotlib import pyplot as plt\n",
        "\n",
        "t_range = torch.arange(20., 90.).unsqueeze(1)\n",
        "\n",
        "fig = plt.figure(dpi=600)\n",
        "plt.xlabel(\"Fahrenheit\")\n",
        "plt.ylabel(\"Celsius\")\n",
        "plt.plot(t_u.numpy(), t_c.numpy(), 'o')\n",
        "plt.plot(t_range.numpy(), seq_model(0.1 * t_range).detach().numpy(), 'c-')\n",
        "plt.plot(t_u.numpy(), seq_model(0.1 * t_u).detach().numpy(), 'kx');"
      ],
      "execution_count": 26,
      "outputs": [
        {
          "output_type": "display_data",
          "data": {
            "image/png": "[encoded data removed]",
            "text/plain": [
              "<Figure size 3600x2400 with 1 Axes>"
            ]
          },
          "metadata": {
            "tags": [],
            "needs_background": "light"
          }
        }
      ]
    },
    {
      "cell_type": "markdown",
      "metadata": {
        "id": "fgHUsh5LebhA",
        "colab_type": "text"
      },
      "source": [
        "## Subclassing nn.Module"
      ]
    },
    {
      "cell_type": "markdown",
      "metadata": {
        "id": "xncXC_VRe0st",
        "colab_type": "text"
      },
      "source": [
        "For larger and more complex projectsm we need to leave `nn.Sequential` behind in favor of something that gives us more flexibility: subclassing `nn.Module`. In order to subclass `nn.Module`, **at a minimum we need to define a `.forward(...)` function** that takes the input to the module and returns the output. If we use standard `torch` operations, `autograd` will take care of the backward pass automatically."
      ]
    },
    {
      "cell_type": "markdown",
      "metadata": {
        "id": "wR3sqDWvg_hm",
        "colab_type": "text"
      },
      "source": [
        "**3 different ways to implement the same network structure**\n",
        "\n",
        "using increasingly more complex PyTorch functionality to do so. As we do so, we will vary the number of neurons in the hidden layer to make it easier to differentiate between approaches. The first will be a simple instance of `nn.Sequential` like we've already seen."
      ]
    },
    {
      "cell_type": "code",
      "metadata": {
        "id": "gWVDDfAEhckt",
        "colab_type": "code",
        "colab": {
          "base_uri": "https://localhost:8080/",
          "height": 0
        },
        "outputId": "695e1b5f-52ff-44c1-ec68-3945974344bd"
      },
      "source": [
        "# 1 \n",
        "seq_model = nn.Sequential(\n",
        "    nn.Linear(1, 11),\n",
        "    nn.Tanh(),\n",
        "    nn.Linear(11, 1))\n",
        "\n",
        "seq_model"
      ],
      "execution_count": 27,
      "outputs": [
        {
          "output_type": "execute_result",
          "data": {
            "text/plain": [
              "Sequential(\n",
              "  (0): Linear(in_features=1, out_features=11, bias=True)\n",
              "  (1): Tanh()\n",
              "  (2): Linear(in_features=11, out_features=1, bias=True)\n",
              ")"
            ]
          },
          "metadata": {
            "tags": []
          },
          "execution_count": 27
        }
      ]
    },
    {
      "cell_type": "markdown",
      "metadata": {
        "id": "HhoVST-6hn5X",
        "colab_type": "text"
      },
      "source": [
        "While this works, we dont have any semantic information about what the various layers are intended to be. We can rectify that by giving each layer a label, using an ordered dictionary instead of a list as input."
      ]
    },
    {
      "cell_type": "code",
      "metadata": {
        "id": "WirPirPfh8FR",
        "colab_type": "code",
        "colab": {
          "base_uri": "https://localhost:8080/",
          "height": 0
        },
        "outputId": "9b229a30-031b-4ee3-cc3d-65a110334c11"
      },
      "source": [
        "# 2\n",
        "namedseq_model = nn.Sequential(OrderedDict(\n",
        "    [('hidden_linear', nn.Linear(1, 12)),\n",
        "     ('hidden_activation', nn.Tanh()),\n",
        "     ('output_linear', nn.Linear(12, 1))\n",
        "]))\n",
        "\n",
        "namedseq_model"
      ],
      "execution_count": 28,
      "outputs": [
        {
          "output_type": "execute_result",
          "data": {
            "text/plain": [
              "Sequential(\n",
              "  (hidden_linear): Linear(in_features=1, out_features=12, bias=True)\n",
              "  (hidden_activation): Tanh()\n",
              "  (output_linear): Linear(in_features=12, out_features=1, bias=True)\n",
              ")"
            ]
          },
          "metadata": {
            "tags": []
          },
          "execution_count": 28
        }
      ]
    },
    {
      "cell_type": "markdown",
      "metadata": {
        "id": "g6OoFSJwilhk",
        "colab_type": "text"
      },
      "source": [
        "Much better. We don't have any ability to control the flow of data through the network, however, aside from the purely sequential pass-through provided by `nn.Sequential`. We can take **full control** of the processing of input data by subclassing `nn.Module` ourselves:"
      ]
    },
    {
      "cell_type": "code",
      "metadata": {
        "id": "4pDn1HhhjM58",
        "colab_type": "code",
        "colab": {
          "base_uri": "https://localhost:8080/",
          "height": 0
        },
        "outputId": "909df939-ab86-48c5-f266-cae41bca3d1b"
      },
      "source": [
        "# 3\n",
        "class SubClassModel(nn.Module):\n",
        "  def __init__(self):\n",
        "    super().__init__()\n",
        "\n",
        "    self.hidden_linear = nn.Linear(1, 13)\n",
        "    self.hidden_activation = nn.Tanh()\n",
        "    self.output_linear = nn.Linear(13, 1)\n",
        "\n",
        "  def forward(self, input):\n",
        "    hidden_t = self.hidden_linear(input)\n",
        "    activated_t = self.hidden_activation(hidden_t)\n",
        "    output_t = self.output_linear(activated_t)\n",
        "\n",
        "    return output_t\n",
        "\n",
        "subclass_model = SubClassModel()\n",
        "subclass_model"
      ],
      "execution_count": 29,
      "outputs": [
        {
          "output_type": "execute_result",
          "data": {
            "text/plain": [
              "SubClassModel(\n",
              "  (hidden_linear): Linear(in_features=1, out_features=13, bias=True)\n",
              "  (hidden_activation): Tanh()\n",
              "  (output_linear): Linear(in_features=13, out_features=1, bias=True)\n",
              ")"
            ]
          },
          "metadata": {
            "tags": []
          },
          "execution_count": 29
        }
      ]
    },
    {
      "cell_type": "markdown",
      "metadata": {
        "id": "NjTFT99DjwrH",
        "colab_type": "text"
      },
      "source": [
        "This method ends up being somewhat more verbose, since we have to both \n",
        "\n",
        "1.   define the layers we wish to have\n",
        "2.   and to then define how and in what order they should be applied in the `forward` function.\n",
        "\n",
        "\n",
        "That **repetition** grants us an incredible amount of flexibility over the sequential models, however as we are now free to do all sorts of interesting things inside the `forward` function."
      ]
    },
    {
      "cell_type": "markdown",
      "metadata": {
        "id": "Iya9P0O7k0WK",
        "colab_type": "text"
      },
      "source": [
        "While this example is unlikely to make sense, we could implement:\n",
        "```\n",
        "activated_t = self.hidden_activation(hidden_t) if random.random() > 0.5 else hidden_t\n",
        "```\n",
        "to only apply the activation function half of the time!\n",
        "\n"
      ]
    },
    {
      "cell_type": "code",
      "metadata": {
        "id": "9ZTIgAfcl3Mz",
        "colab_type": "code",
        "colab": {
          "base_uri": "https://localhost:8080/",
          "height": 0
        },
        "outputId": "b4f1b166-7ba1-4594-b31c-1a911056a401"
      },
      "source": [
        "# Internals of all 3 models\n",
        "for type_str, model in [('seq', seq_model), ('namedseq', namedseq_model), ('subclass', subclass_model)]:\n",
        "  print(type_str)\n",
        "  for name_str, param in model.named_parameters():\n",
        "    print(\"{:21} {:19} {}\".format(name_str, str(param.shape), param.numel()))\n",
        "  \n",
        "  print()"
      ],
      "execution_count": 30,
      "outputs": [
        {
          "output_type": "stream",
          "text": [
            "seq\n",
            "0.weight              torch.Size([11, 1]) 11\n",
            "0.bias                torch.Size([11])    11\n",
            "2.weight              torch.Size([1, 11]) 11\n",
            "2.bias                torch.Size([1])     1\n",
            "\n",
            "namedseq\n",
            "hidden_linear.weight  torch.Size([12, 1]) 12\n",
            "hidden_linear.bias    torch.Size([12])    12\n",
            "output_linear.weight  torch.Size([1, 12]) 12\n",
            "output_linear.bias    torch.Size([1])     1\n",
            "\n",
            "subclass\n",
            "hidden_linear.weight  torch.Size([13, 1]) 13\n",
            "hidden_linear.bias    torch.Size([13])    13\n",
            "output_linear.weight  torch.Size([1, 13]) 13\n",
            "output_linear.bias    torch.Size([1])     1\n",
            "\n"
          ],
          "name": "stdout"
        }
      ]
    },
    {
      "cell_type": "markdown",
      "metadata": {
        "id": "dbW6onPlrSOt",
        "colab_type": "text"
      },
      "source": [
        "## Functional api\n",
        "\n",
        "PyTorch has functional counterparts of every `nn` module. They have no **internal states**, which means their output value is solely determined by the value input arguments.\n",
        "\n",
        "how `nn.functional.linear` differs from `nn.Linear` is the former is a function `linear(input, weight, bias=None)` which `weight` and `bias` are arguments to the function."
      ]
    },
    {
      "cell_type": "code",
      "metadata": {
        "id": "Oos0whv76oMl",
        "colab_type": "code",
        "colab": {
          "base_uri": "https://localhost:8080/",
          "height": 85
        },
        "outputId": "dc089cc8-8155-4491-f8b9-c5d5221cad98"
      },
      "source": [
        "# Subclass Functional model\n",
        "class SubclassFunctionalModel(nn.Module):\n",
        "  def __init__(self):\n",
        "    super().__init__()\n",
        "\n",
        "    self.hidden_linear = nn.Linear(1, 5000)\n",
        "    # self.hidden_activation missing here\n",
        "    self.output_linear = nn.Linear(5000, 1)\n",
        "\n",
        "  def forward(self, input):\n",
        "    hidden_t = self.hidden_linear(input)\n",
        "    activated_t = torch.tanh(hidden_t) # replaced with functional equivalent here\n",
        "    output_t = self.output_linear(activated_t)\n",
        "\n",
        "    return output_t\n",
        "\n",
        "func_model = SubclassFunctionalModel()\n",
        "func_model"
      ],
      "execution_count": 73,
      "outputs": [
        {
          "output_type": "execute_result",
          "data": {
            "text/plain": [
              "SubclassFunctionalModel(\n",
              "  (hidden_linear): Linear(in_features=1, out_features=5000, bias=True)\n",
              "  (output_linear): Linear(in_features=5000, out_features=1, bias=True)\n",
              ")"
            ]
          },
          "metadata": {
            "tags": []
          },
          "execution_count": 73
        }
      ]
    },
    {
      "cell_type": "code",
      "metadata": {
        "id": "338NbrAA8nAd",
        "colab_type": "code",
        "colab": {}
      },
      "source": [
        "optimizer = optim.SGD(func_model.parameters(), lr=1e-5)"
      ],
      "execution_count": 74,
      "outputs": []
    },
    {
      "cell_type": "code",
      "metadata": {
        "id": "wTRNHNzN7SvQ",
        "colab_type": "code",
        "colab": {
          "base_uri": "https://localhost:8080/",
          "height": 445
        },
        "outputId": "2765ce64-188b-4982-cbf1-1e588e1d26b0"
      },
      "source": [
        "training_loop(n_epochs=5000,\n",
        "              optimizer=optimizer,\n",
        "              model=func_model,\n",
        "              loss_fn=nn.MSELoss(),\n",
        "              t_u_train = train_t_un,\n",
        "              t_u_val = val_t_un,\n",
        "              t_c_train = train_t_c,\n",
        "              t_c_val = val_t_c)\n",
        "\n",
        "print()\n",
        "print('output', func_model(val_t_un))\n",
        "print('answer', val_t_c)\n",
        "print('hidden', func_model.hidden_linear.weight.grad)"
      ],
      "execution_count": 43,
      "outputs": [
        {
          "output_type": "stream",
          "text": [
            "Epoch 1, Training loss 193.69998168945312, Validation loss 158.41061401367188\n",
            "Epoch 1000, Training loss 3.5232410430908203, Validation loss 4.649674415588379\n",
            "Epoch 2000, Training loss 1.681070327758789, Validation loss 3.0580990314483643\n",
            "Epoch 3000, Training loss 1.507872462272644, Validation loss 3.0019781589508057\n",
            "Epoch 4000, Training loss 1.4051522016525269, Validation loss 2.980046272277832\n",
            "Epoch 5000, Training loss 1.331236481666565, Validation loss 2.974571943283081\n",
            "\n",
            "output tensor([[12.2929],\n",
            "        [12.4906]], grad_fn=<AddmmBackward>)\n",
            "answer tensor([[14.],\n",
            "        [11.]])\n",
            "hidden tensor([[ 1.0130e-01],\n",
            "        [ 1.0006e-01],\n",
            "        [ 9.2111e-02],\n",
            "        [ 6.9672e-04],\n",
            "        [ 5.9814e+00],\n",
            "        [-1.0063e-01],\n",
            "        [ 5.0829e+00],\n",
            "        [ 1.4717e+00],\n",
            "        [ 2.2791e-03],\n",
            "        [ 2.9921e+00],\n",
            "        [-6.1711e+00],\n",
            "        [ 6.6498e-02],\n",
            "        [ 2.0167e-02]])\n"
          ],
          "name": "stdout"
        }
      ]
    },
    {
      "cell_type": "markdown",
      "metadata": {
        "id": "IvB9PlK28bTl",
        "colab_type": "text"
      },
      "source": [
        "# Exercise"
      ]
    },
    {
      "cell_type": "code",
      "metadata": {
        "id": "evgM-zI_izq5",
        "colab_type": "code",
        "colab": {}
      },
      "source": [
        "import csv\n",
        "import numpy as np"
      ],
      "execution_count": 44,
      "outputs": []
    },
    {
      "cell_type": "code",
      "metadata": {
        "id": "1P3te0BalPom",
        "colab_type": "code",
        "colab": {}
      },
      "source": [
        "wine_path = drive_dir + 'p1ch4/tabular-wine/winequality-white.csv'\n",
        "wineq_numpy = np.loadtxt(wine_path, dtype=np.float32, delimiter=';', skiprows = 1)"
      ],
      "execution_count": 45,
      "outputs": []
    },
    {
      "cell_type": "code",
      "metadata": {
        "id": "bqnunD9zljte",
        "colab_type": "code",
        "colab": {
          "base_uri": "https://localhost:8080/",
          "height": 34
        },
        "outputId": "630a6d50-1040-4921-dc27-17e3b537fcc7"
      },
      "source": [
        "wineq = torch.from_numpy(wineq_numpy)\n",
        "wineq.shape"
      ],
      "execution_count": 49,
      "outputs": [
        {
          "output_type": "execute_result",
          "data": {
            "text/plain": [
              "torch.Size([4898, 12])"
            ]
          },
          "metadata": {
            "tags": []
          },
          "execution_count": 49
        }
      ]
    },
    {
      "cell_type": "code",
      "metadata": {
        "id": "VrsEtxjZlxdH",
        "colab_type": "code",
        "colab": {
          "base_uri": "https://localhost:8080/",
          "height": 34
        },
        "outputId": "08cedb84-2a7d-4c67-9a83-ed3a2c5acc86"
      },
      "source": [
        "data = wineq[:, :-1]\n",
        "data.shape"
      ],
      "execution_count": 51,
      "outputs": [
        {
          "output_type": "execute_result",
          "data": {
            "text/plain": [
              "torch.Size([4898, 11])"
            ]
          },
          "metadata": {
            "tags": []
          },
          "execution_count": 51
        }
      ]
    },
    {
      "cell_type": "code",
      "metadata": {
        "id": "Q8etO4IkpQ7Q",
        "colab_type": "code",
        "colab": {}
      },
      "source": [
        "target = wineq[:, -1].long()"
      ],
      "execution_count": 64,
      "outputs": []
    },
    {
      "cell_type": "code",
      "metadata": {
        "id": "3YI02vcgqdlE",
        "colab_type": "code",
        "colab": {
          "base_uri": "https://localhost:8080/",
          "height": 34
        },
        "outputId": "40c56b0a-094d-4a5b-ef06-1bc98185052e"
      },
      "source": [
        "target.shape"
      ],
      "execution_count": 70,
      "outputs": [
        {
          "output_type": "execute_result",
          "data": {
            "text/plain": [
              "torch.Size([4898])"
            ]
          },
          "metadata": {
            "tags": []
          },
          "execution_count": 70
        }
      ]
    },
    {
      "cell_type": "code",
      "metadata": {
        "id": "fEG963NUpWax",
        "colab_type": "code",
        "colab": {
          "base_uri": "https://localhost:8080/",
          "height": 34
        },
        "outputId": "042e8793-7650-4888-e36a-858e68a79c57"
      },
      "source": [
        "target.unique()\n",
        "# 7 values in targets"
      ],
      "execution_count": 65,
      "outputs": [
        {
          "output_type": "execute_result",
          "data": {
            "text/plain": [
              "tensor([3, 4, 5, 6, 7, 8, 9])"
            ]
          },
          "metadata": {
            "tags": []
          },
          "execution_count": 65
        }
      ]
    },
    {
      "cell_type": "code",
      "metadata": {
        "id": "KzNK3aEppbO1",
        "colab_type": "code",
        "colab": {}
      },
      "source": [
        "target_onehot = torch.zeros(target.shape[0], 10)"
      ],
      "execution_count": 66,
      "outputs": []
    },
    {
      "cell_type": "code",
      "metadata": {
        "id": "Fsj1CeWBqCC3",
        "colab_type": "code",
        "colab": {
          "base_uri": "https://localhost:8080/",
          "height": 136
        },
        "outputId": "41c1a240-627c-48ef-d9e7-0da9c2444852"
      },
      "source": [
        "target_onehot.scatter_(1, target.unsqueeze(1), 1.0)"
      ],
      "execution_count": 67,
      "outputs": [
        {
          "output_type": "execute_result",
          "data": {
            "text/plain": [
              "tensor([[0., 0., 0.,  ..., 0., 0., 0.],\n",
              "        [0., 0., 0.,  ..., 0., 0., 0.],\n",
              "        [0., 0., 0.,  ..., 0., 0., 0.],\n",
              "        ...,\n",
              "        [0., 0., 0.,  ..., 0., 0., 0.],\n",
              "        [0., 0., 0.,  ..., 1., 0., 0.],\n",
              "        [0., 0., 0.,  ..., 0., 0., 0.]])"
            ]
          },
          "metadata": {
            "tags": []
          },
          "execution_count": 67
        }
      ]
    },
    {
      "cell_type": "code",
      "metadata": {
        "id": "26xQL8QsqNWX",
        "colab_type": "code",
        "colab": {
          "base_uri": "https://localhost:8080/",
          "height": 136
        },
        "outputId": "18d7dc8d-3e1f-4551-96f5-cf07b57b6e33"
      },
      "source": [
        "target_unsqueezed = target.unsqueeze(1)\n",
        "target_unsqueezed"
      ],
      "execution_count": 72,
      "outputs": [
        {
          "output_type": "execute_result",
          "data": {
            "text/plain": [
              "tensor([[6],\n",
              "        [6],\n",
              "        [6],\n",
              "        ...,\n",
              "        [6],\n",
              "        [7],\n",
              "        [6]])"
            ]
          },
          "metadata": {
            "tags": []
          },
          "execution_count": 72
        }
      ]
    },
    {
      "cell_type": "code",
      "metadata": {
        "id": "bnW0bqD6qWG0",
        "colab_type": "code",
        "colab": {}
      },
      "source": [
        "# Wine model\n",
        "# Create train/val split\n",
        "n_samples = data.shape[0]\n",
        "n_val = int(0.2 * n_samples)\n",
        "\n",
        "shuffled_indices = torch.randperm(n_samples)\n",
        "\n",
        "train_indices = shuffled_indices[:-n_val]\n",
        "val_indices = shuffled_indices[-n_val:]\n",
        "\n",
        "wine_train = data[train_indices]\n",
        "wine_val = data[val_indices]\n",
        "\n",
        "wine_train_un = 0.1 * wine_train\n",
        "wine_val_un = 0.1 * wine_val"
      ],
      "execution_count": 75,
      "outputs": []
    },
    {
      "cell_type": "code",
      "metadata": {
        "id": "qQMh0XgLsUVb",
        "colab_type": "code",
        "colab": {
          "base_uri": "https://localhost:8080/",
          "height": 85
        },
        "outputId": "f7078e78-2e38-4e52-fc15-438c82cf2954"
      },
      "source": [
        "class WineModel(nn.Module):\n",
        "  def __init__(self):\n",
        "    super().__init__()\n",
        "\n",
        "    self.hidden_linear = nn.Linear(11, 5000)\n",
        "    self.output_linear = nn.Linear(5000, 11)\n",
        "\n",
        "  def forward(self, input):\n",
        "    hidden_t = self.hidden_linear(input)\n",
        "    activated_t = torch.tanh(hidden_t)\n",
        "    output_t = self.output_linear(activated_t)\n",
        "\n",
        "    return output_t\n",
        "\n",
        "winemodel = WineModel()\n",
        "winemodel"
      ],
      "execution_count": 76,
      "outputs": [
        {
          "output_type": "execute_result",
          "data": {
            "text/plain": [
              "WineModel(\n",
              "  (hidden_linear): Linear(in_features=11, out_features=5000, bias=True)\n",
              "  (output_linear): Linear(in_features=5000, out_features=11, bias=True)\n",
              ")"
            ]
          },
          "metadata": {
            "tags": []
          },
          "execution_count": 76
        }
      ]
    },
    {
      "cell_type": "code",
      "metadata": {
        "id": "V3kQ4kdPtE82",
        "colab_type": "code",
        "colab": {}
      },
      "source": [
        "optimizer = optim.SGD(winemodel.parameters(), lr=1e-2)"
      ],
      "execution_count": 77,
      "outputs": []
    },
    {
      "cell_type": "code",
      "metadata": {
        "id": "UfhKK4nltN-w",
        "colab_type": "code",
        "colab": {}
      },
      "source": [
        "def training_loop(n_epochs, optimizer, model, loss_fn, t_u_train, t_c_train):\n",
        "  for epochs in range(1, n_epochs + 1):\n",
        "    t_p_train = model(t_u_train)\n",
        "    loss_train = loss_fn(t_p_train, t_c_train)\n",
        "\n",
        "    optimizer.zero_grad()\n",
        "    loss_train.forward()\n",
        "    optimizer.step()\n",
        "\n",
        "    if epoch == 1 or epoch % 1000 == 0:\n",
        "      print('Epoch {}, Training loss {}'.format(epoch, float(loss_train)))"
      ],
      "execution_count": 78,
      "outputs": []
    },
    {
      "cell_type": "code",
      "metadata": {
        "id": "56i3kgMnv2pO",
        "colab_type": "code",
        "colab": {
          "base_uri": "https://localhost:8080/",
          "height": 153
        },
        "outputId": "587b866c-5018-4fdb-97c4-9baff6838a3a"
      },
      "source": [
        "winemodel(wine_train_un)"
      ],
      "execution_count": 79,
      "outputs": [
        {
          "output_type": "execute_result",
          "data": {
            "text/plain": [
              "tensor([[ 0.3241,  0.6139, -0.2784,  ...,  0.5091, -0.3509, -0.2297],\n",
              "        [ 0.5696,  0.7081, -0.4732,  ...,  0.4179, -0.4318, -0.3117],\n",
              "        [ 0.4712,  0.7055, -0.3483,  ...,  0.4396, -0.4711, -0.2456],\n",
              "        ...,\n",
              "        [ 0.2600,  0.6222, -0.2532,  ...,  0.5632, -0.3162, -0.1990],\n",
              "        [ 0.3317,  0.6666, -0.2257,  ...,  0.4637, -0.4532, -0.1500],\n",
              "        [ 0.1799,  0.6026, -0.1531,  ...,  0.5865, -0.3052, -0.1513]],\n",
              "       grad_fn=<AddmmBackward>)"
            ]
          },
          "metadata": {
            "tags": []
          },
          "execution_count": 79
        }
      ]
    },
    {
      "cell_type": "code",
      "metadata": {
        "id": "67S30McwwAfr",
        "colab_type": "code",
        "colab": {
          "base_uri": "https://localhost:8080/",
          "height": 136
        },
        "outputId": "17721ca7-529d-4e44-c906-49c38b736e01"
      },
      "source": [
        "wine_train_un"
      ],
      "execution_count": 81,
      "outputs": [
        {
          "output_type": "execute_result",
          "data": {
            "text/plain": [
              "tensor([[0.7600, 0.0360, 0.0440,  ..., 0.3120, 0.0430, 1.0200],\n",
              "        [0.6700, 0.0280, 0.0140,  ..., 0.3170, 0.0390, 1.0000],\n",
              "        [0.6600, 0.0260, 0.0460,  ..., 0.3200, 0.0450, 0.9300],\n",
              "        ...,\n",
              "        [0.7400, 0.0340, 0.0420,  ..., 0.3120, 0.0530, 1.1300],\n",
              "        [0.7400, 0.0190, 0.0300,  ..., 0.3140, 0.0490, 0.9100],\n",
              "        [0.7100, 0.0310, 0.0500,  ..., 0.2940, 0.0440, 0.9100]])"
            ]
          },
          "metadata": {
            "tags": []
          },
          "execution_count": 81
        }
      ]
    },
    {
      "cell_type": "code",
      "metadata": {
        "id": "sTx2QryIwDyd",
        "colab_type": "code",
        "colab": {}
      },
      "source": [
        ""
      ],
      "execution_count": null,
      "outputs": []
    }
  ]
}