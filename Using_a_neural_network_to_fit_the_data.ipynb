{
  "nbformat": 4,
  "nbformat_minor": 0,
  "metadata": {
    "colab": {
      "name": "Using a neural network to fit the data.ipynb",
      "provenance": [],
      "mount_file_id": "1SGOhS22e5n7QDe0xNkxULtHg398aBMut",
      "authorship_tag": "ABX9TyMv28wQE0XD4i+DTEffMkhT",
      "include_colab_link": true
    },
    "kernelspec": {
      "name": "python3",
      "display_name": "Python 3"
    }
  },
  "cells": [
    {
      "cell_type": "markdown",
      "metadata": {
        "id": "view-in-github",
        "colab_type": "text"
      },
      "source": [
        "<a href=\"https://colab.research.google.com/github/dqniellew1/DLPT/blob/master/Using_a_neural_network_to_fit_the_data.ipynb\" target=\"_parent\"><img src=\"https://colab.research.google.com/assets/colab-badge.svg\" alt=\"Open In Colab\"/></a>"
      ]
    },
    {
      "cell_type": "code",
      "metadata": {
        "id": "_99BhUe6KWaz",
        "colab_type": "code",
        "colab": {}
      },
      "source": [
        "drive_dir = 'drive/My Drive/dlwpt-code/data/'"
      ],
      "execution_count": 34,
      "outputs": []
    },
    {
      "cell_type": "code",
      "metadata": {
        "id": "7oVa1Z-8Kfoa",
        "colab_type": "code",
        "colab": {}
      },
      "source": [
        "import torch"
      ],
      "execution_count": 35,
      "outputs": []
    },
    {
      "cell_type": "markdown",
      "metadata": {
        "id": "n9QLBJpwMOoY",
        "colab_type": "text"
      },
      "source": [
        "Basic building block of the complicated functions that make up a neural networks are `neurons`. It consists of a linear transformation of the input and the application of a fixed non-linear function.\n",
        "\n",
        "Mathematically: `o = f(w * x + b)`\n",
        "- o for output\n",
        "- f for activation function\n",
        "- w for weights (can be a single scalar of matrix)\n",
        "- x for inputs (is a scalar or vector)\n",
        "- b for bias / offset\n",
        "\n",
        "**\\*the dimensionality of the inputs and weights must match**"
      ]
    },
    {
      "cell_type": "markdown",
      "metadata": {
        "id": "od-Vm9zePE5b",
        "colab_type": "text"
      },
      "source": [
        "Generalities about activation functions\n",
        "- are non-linear. The non-linearity allows the overall network to approximate more complex functions.\n",
        "- are differentiable, so that gradients can be computed through them, *with exceptions\n",
        "\n",
        "Without those, the network falls back to being a complicated polynomial or becomes difficult to train."
      ]
    },
    {
      "cell_type": "markdown",
      "metadata": {
        "id": "WNVeuYIrY-XD",
        "colab_type": "text"
      },
      "source": [
        "*Code from chapter 5"
      ]
    },
    {
      "cell_type": "code",
      "metadata": {
        "id": "STyXdKwfZGGO",
        "colab_type": "code",
        "colab": {}
      },
      "source": [
        "t_c = [0.5,  14.0, 15.0, 28.0, 11.0,  8.0,  3.0, -4.0,  6.0, 13.0, 21.0]\n",
        "t_u = [35.7, 55.9, 58.2, 81.9, 56.3, 48.9, 33.9, 21.8, 48.4, 60.4, 68.4]\n",
        "t_c = torch.tensor(t_c).unsqueeze(1) # temperatures in Celsius\n",
        "t_u = torch.tensor(t_u).unsqueeze(1) # Unknown units"
      ],
      "execution_count": 36,
      "outputs": []
    },
    {
      "cell_type": "code",
      "metadata": {
        "id": "SZWIfpdyY-CE",
        "colab_type": "code",
        "colab": {}
      },
      "source": [
        "n_samples = t_u.shape[0]\n",
        "n_val = int(0.2 * n_samples)\n",
        "\n",
        "shuffled_indices = torch.randperm(n_samples)"
      ],
      "execution_count": 37,
      "outputs": []
    },
    {
      "cell_type": "code",
      "metadata": {
        "id": "e9y9pGCEZR4m",
        "colab_type": "code",
        "colab": {
          "base_uri": "https://localhost:8080/",
          "height": 34
        },
        "outputId": "90db2c82-c24c-45c3-cc6d-398eba22b2b4"
      },
      "source": [
        "train_indices = shuffled_indices[:-n_val]\n",
        "val_indices = shuffled_indices[-n_val:]\n",
        "\n",
        "train_indices, val_indices"
      ],
      "execution_count": 38,
      "outputs": [
        {
          "output_type": "execute_result",
          "data": {
            "text/plain": [
              "(tensor([ 1,  5,  0,  6, 10,  3,  4,  9,  8]), tensor([2, 7]))"
            ]
          },
          "metadata": {
            "tags": []
          },
          "execution_count": 38
        }
      ]
    },
    {
      "cell_type": "code",
      "metadata": {
        "id": "AQTvQ60PZR3K",
        "colab_type": "code",
        "colab": {}
      },
      "source": [
        "# Build training and validation set \n",
        "train_t_u = t_u[train_indices]\n",
        "train_t_c = t_c[train_indices]\n",
        "\n",
        "val_t_u = t_u[val_indices]\n",
        "val_t_c = t_c[val_indices]\n",
        "\n",
        "# scale our data\n",
        "train_t_un = 0.1 * train_t_u\n",
        "val_t_un = 0.1 * val_t_u"
      ],
      "execution_count": 39,
      "outputs": []
    },
    {
      "cell_type": "code",
      "metadata": {
        "id": "wI8SNSTsQdE7",
        "colab_type": "code",
        "colab": {}
      },
      "source": [
        "import torch.nn as nn"
      ],
      "execution_count": 40,
      "outputs": []
    },
    {
      "cell_type": "code",
      "metadata": {
        "id": "Pib2kTXbYicb",
        "colab_type": "code",
        "colab": {
          "base_uri": "https://localhost:8080/",
          "height": 51
        },
        "outputId": "0d50f6c4-0c18-4d5f-c953-53f5025a4b82"
      },
      "source": [
        "# nn.Linear is a subclass of nn.Module\n",
        "# Linear have their own `__call__` method, therefore we can call it like a function\n",
        "linear_model = nn.Linear(1, 1)\n",
        "linear_model(val_t_un)"
      ],
      "execution_count": 41,
      "outputs": [
        {
          "output_type": "execute_result",
          "data": {
            "text/plain": [
              "tensor([[-6.4456],\n",
              "        [-2.8979]], grad_fn=<AddmmBackward>)"
            ]
          },
          "metadata": {
            "tags": []
          },
          "execution_count": 41
        }
      ]
    },
    {
      "cell_type": "markdown",
      "metadata": {
        "id": "-1fp_2DFYqMR",
        "colab_type": "text"
      },
      "source": [
        "`y = model(x)` do this\n",
        "\n",
        "`y = model.forward(x)` dont do this"
      ]
    },
    {
      "cell_type": "markdown",
      "metadata": {
        "id": "0C6nB2OVazyd",
        "colab_type": "text"
      },
      "source": [
        "The constructor to `nn.Linear` accepts three arguments:\n",
        "1. the number of input features\n",
        "2. the number of output features\n",
        "3. Whether the linear model includes a bias or not (defaults to true)"
      ]
    },
    {
      "cell_type": "markdown",
      "metadata": {
        "id": "QV_4jwPFbXCt",
        "colab_type": "text"
      },
      "source": [
        "\\* The number of features in our case refers to the size of the input and the output tensor for the module.\n",
        "\n",
        "If we used both temperature and barometric pressure in input, for instance, we would have two features in input and one feature in output."
      ]
    },
    {
      "cell_type": "markdown",
      "metadata": {
        "id": "dGOE3wusb4dK",
        "colab_type": "text"
      },
      "source": [
        "Above we have an instance of `nn.Linear` with one input and one output feature. That only requires one weight and one bias."
      ]
    },
    {
      "cell_type": "code",
      "metadata": {
        "id": "wX4825_ScYup",
        "colab_type": "code",
        "colab": {
          "base_uri": "https://localhost:8080/",
          "height": 51
        },
        "outputId": "257b6ca3-6816-44b9-9908-e23d91727f07"
      },
      "source": [
        "linear_model.weight"
      ],
      "execution_count": 42,
      "outputs": [
        {
          "output_type": "execute_result",
          "data": {
            "text/plain": [
              "Parameter containing:\n",
              "tensor([[-0.9746]], requires_grad=True)"
            ]
          },
          "metadata": {
            "tags": []
          },
          "execution_count": 42
        }
      ]
    },
    {
      "cell_type": "code",
      "metadata": {
        "id": "s0jSd6ofcbnk",
        "colab_type": "code",
        "colab": {
          "base_uri": "https://localhost:8080/",
          "height": 51
        },
        "outputId": "0af24957-e890-4474-b0d5-27677bc24a4e"
      },
      "source": [
        "linear_model.bias"
      ],
      "execution_count": 43,
      "outputs": [
        {
          "output_type": "execute_result",
          "data": {
            "text/plain": [
              "Parameter containing:\n",
              "tensor([-0.7732], requires_grad=True)"
            ]
          },
          "metadata": {
            "tags": []
          },
          "execution_count": 43
        }
      ]
    },
    {
      "cell_type": "markdown",
      "metadata": {
        "id": "bRvQOgY-ceu-",
        "colab_type": "text"
      },
      "source": [
        "We can call the module with some inputs"
      ]
    },
    {
      "cell_type": "code",
      "metadata": {
        "id": "r09pLiO9cxCN",
        "colab_type": "code",
        "colab": {
          "base_uri": "https://localhost:8080/",
          "height": 34
        },
        "outputId": "9013383a-1202-4506-9573-5d52adcd2b76"
      },
      "source": [
        "x = torch.ones(1)\n",
        "linear_model(x)"
      ],
      "execution_count": 44,
      "outputs": [
        {
          "output_type": "execute_result",
          "data": {
            "text/plain": [
              "tensor([-1.7478], grad_fn=<AddBackward0>)"
            ]
          },
          "metadata": {
            "tags": []
          },
          "execution_count": 44
        }
      ]
    },
    {
      "cell_type": "markdown",
      "metadata": {
        "id": "q-c0Rx3hc4OD",
        "colab_type": "text"
      },
      "source": [
        "Although PyTorch let us get away with it, we didn't actually provide an input with the right dimensionality. We have a model that takes one input and produces one output, but PyTorch `nn.Module` and its subclasses are designed to do so on multiple samples at the same time. To accomodate multiple samples, modules expect the **zeroth dimension of the input to be the number of samples in the batch**."
      ]
    },
    {
      "cell_type": "markdown",
      "metadata": {
        "id": "BFfZKpDsdbYl",
        "colab_type": "text"
      },
      "source": [
        "Any module in `nn` is writtern to produce outputs for a batch of multiple inputs at the same time. Thus, assuming we need to run `nn.Linear` on 10 samples, we can create an input tensor of size `B x N_inputs`, where `B` is the size of the batch and `N_inputs` the number of input features, and run it once through the model."
      ]
    },
    {
      "cell_type": "code",
      "metadata": {
        "id": "FpipLzNLd6q7",
        "colab_type": "code",
        "colab": {
          "base_uri": "https://localhost:8080/",
          "height": 187
        },
        "outputId": "cf18ecf6-0d37-4db1-cd8b-b999b47ac6d3"
      },
      "source": [
        "x = torch.ones(10, 1) # 10 batches, of 1 input\n",
        "linear_model(x)"
      ],
      "execution_count": 45,
      "outputs": [
        {
          "output_type": "execute_result",
          "data": {
            "text/plain": [
              "tensor([[-1.7478],\n",
              "        [-1.7478],\n",
              "        [-1.7478],\n",
              "        [-1.7478],\n",
              "        [-1.7478],\n",
              "        [-1.7478],\n",
              "        [-1.7478],\n",
              "        [-1.7478],\n",
              "        [-1.7478],\n",
              "        [-1.7478]], grad_fn=<AddmmBackward>)"
            ]
          },
          "metadata": {
            "tags": []
          },
          "execution_count": 45
        }
      ]
    },
    {
      "cell_type": "code",
      "metadata": {
        "id": "jRsF_tXWeAqQ",
        "colab_type": "code",
        "colab": {}
      },
      "source": [
        "import torch.optim as optim"
      ],
      "execution_count": 46,
      "outputs": []
    },
    {
      "cell_type": "markdown",
      "metadata": {
        "id": "Vifcj_3DfoLe",
        "colab_type": "text"
      },
      "source": [
        "Let's update our training code.\n"
      ]
    },
    {
      "cell_type": "code",
      "metadata": {
        "id": "sWf2X2HJgDvH",
        "colab_type": "code",
        "colab": {}
      },
      "source": [
        "# 1. replace our handmade model with nn.Linear(1,1)\n",
        "linear_model = nn.Linear(1, 1)\n",
        "# 2. pass the linear model parameters to the optimizer\n",
        "optimizer = optim.SGD(\n",
        "    linear_model.parameters(), # all the `w` and `b`'s of the model\n",
        "    lr = 1e-2)"
      ],
      "execution_count": 47,
      "outputs": []
    },
    {
      "cell_type": "markdown",
      "metadata": {
        "id": "0dsu1cypgbF3",
        "colab_type": "text"
      },
      "source": [
        "Earlier it was our responsibility to create parameters and pass them as first argument to `optim.SGD`. Now we can just ask any `nn.Module` for a list of parameters owned by it. or any of its submodules using the `paramters` method."
      ]
    },
    {
      "cell_type": "code",
      "metadata": {
        "id": "z3FdW92ygv4i",
        "colab_type": "code",
        "colab": {
          "base_uri": "https://localhost:8080/",
          "height": 34
        },
        "outputId": "2fb32dea-a9bc-4261-fa37-bb42cbb37c36"
      },
      "source": [
        "linear_model.parameters()"
      ],
      "execution_count": 48,
      "outputs": [
        {
          "output_type": "execute_result",
          "data": {
            "text/plain": [
              "<generator object Module.parameters at 0x7fb2a1a69518>"
            ]
          },
          "metadata": {
            "tags": []
          },
          "execution_count": 48
        }
      ]
    },
    {
      "cell_type": "code",
      "metadata": {
        "id": "6FtLHG7Pgxhr",
        "colab_type": "code",
        "colab": {
          "base_uri": "https://localhost:8080/",
          "height": 68
        },
        "outputId": "6f4c359e-bdfc-4353-80e6-23595eb744df"
      },
      "source": [
        "list(linear_model.parameters())"
      ],
      "execution_count": 49,
      "outputs": [
        {
          "output_type": "execute_result",
          "data": {
            "text/plain": [
              "[Parameter containing:\n",
              " tensor([[0.6903]], requires_grad=True), Parameter containing:\n",
              " tensor([-0.2674], requires_grad=True)]"
            ]
          },
          "metadata": {
            "tags": []
          },
          "execution_count": 49
        }
      ]
    },
    {
      "cell_type": "code",
      "metadata": {
        "id": "eTYyIIeegzcS",
        "colab_type": "code",
        "colab": {}
      },
      "source": [
        "def training_loop(n_epochs, optimizer, model, loss_fn, t_u_train, t_u_val, t_c_train, t_c_val):\n",
        "  for epoch in range(1, n_epochs + 1):\n",
        "    t_p_train = model(t_u_train)\n",
        "    loss_train = loss_fn(t_p_train , t_c_train)\n",
        "\n",
        "    t_p_val = model(t_u_val)\n",
        "    loss_val = loss_fn(t_p_val, t_c_val)\n",
        "\n",
        "    optimizer.zero_grad()\n",
        "    loss_train.backward()\n",
        "    optimizer.step()\n",
        "\n",
        "    if epoch == 1 or epoch % 1000 == 0:\n",
        "      print('Epoch {}, Training loss {}, Validation loss {}'.format(\n",
        "          epoch, float(loss_train), float(loss_val)))"
      ],
      "execution_count": 50,
      "outputs": []
    },
    {
      "cell_type": "markdown",
      "metadata": {
        "id": "Dxm3jGZiiNi-",
        "colab_type": "text"
      },
      "source": [
        "The training loop does not change at all from our hand made example, **except that now we don't pass `params` explicitly to `model`** since the model itself holds its `Parameters` internally."
      ]
    },
    {
      "cell_type": "markdown",
      "metadata": {
        "id": "LMzO34gKift_",
        "colab_type": "text"
      },
      "source": [
        "We can leverage loss functions from `torch.nn`. `nn` comes with several common loss functions amoong which `nn.MSELoss` which is exactly what we defined earlier as our `loss_fn`. Loss functions in `nn` are still subclasses of `nn.Module`, so we will create an instance and call it as a function. In our case, we got rid of the hand-written `loss_fn` and replace it."
      ]
    },
    {
      "cell_type": "code",
      "metadata": {
        "id": "WsUvtDcGjGie",
        "colab_type": "code",
        "colab": {
          "base_uri": "https://localhost:8080/",
          "height": 190
        },
        "outputId": "3ff3b158-08b1-46ab-b94e-59ce2d5a2972"
      },
      "source": [
        "linear_model = nn.Linear(1, 1) # applies an affine transformation to its input via model parameters\n",
        "optimizer = optim.SGD(\n",
        "    linear_model.parameters(),\n",
        "    lr=1e-2)\n",
        "\n",
        "training_loop(\n",
        "    n_epochs = 3000,\n",
        "    optimizer = optimizer,\n",
        "    model = linear_model,\n",
        "    loss_fn = nn.MSELoss(), # create an instance and call it as a function\n",
        "    t_u_train = train_t_un,\n",
        "    t_u_val = val_t_un,\n",
        "    t_c_train = train_t_c,\n",
        "    t_c_val = val_t_c)\n",
        "\n",
        "print()\n",
        "print(linear_model.weight)\n",
        "print(linear_model.bias)"
      ],
      "execution_count": 51,
      "outputs": [
        {
          "output_type": "stream",
          "text": [
            "Epoch 1, Training loss 284.19354248046875, Validation loss 164.2691650390625\n",
            "Epoch 1000, Training loss 4.948125839233398, Validation loss 1.08330237865448\n",
            "Epoch 2000, Training loss 3.1028056144714355, Validation loss 2.3465075492858887\n",
            "Epoch 3000, Training loss 2.9509806632995605, Validation loss 3.854159355163574\n",
            "\n",
            "Parameter containing:\n",
            "tensor([[5.5523]], requires_grad=True)\n",
            "Parameter containing:\n",
            "tensor([-18.5770], requires_grad=True)\n"
          ],
          "name": "stdout"
        }
      ]
    },
    {
      "cell_type": "markdown",
      "metadata": {
        "id": "BYHiULx_jsCF",
        "colab_type": "text"
      },
      "source": [
        "A neural network"
      ]
    },
    {
      "cell_type": "code",
      "metadata": {
        "id": "scbuGPzNRazs",
        "colab_type": "code",
        "colab": {
          "base_uri": "https://localhost:8080/",
          "height": 102
        },
        "outputId": "88f3be2a-ebd1-432a-9e1b-d3f30be7cac0"
      },
      "source": [
        "seq_model = nn.Sequential(\n",
        "    nn.Linear(1, 13), \n",
        "    nn.Tanh(),\n",
        "    nn.Linear(13, 1))\n",
        "\n",
        "seq_model"
      ],
      "execution_count": 52,
      "outputs": [
        {
          "output_type": "execute_result",
          "data": {
            "text/plain": [
              "Sequential(\n",
              "  (0): Linear(in_features=1, out_features=13, bias=True)\n",
              "  (1): Tanh()\n",
              "  (2): Linear(in_features=13, out_features=1, bias=True)\n",
              ")"
            ]
          },
          "metadata": {
            "tags": []
          },
          "execution_count": 52
        }
      ]
    },
    {
      "cell_type": "markdown",
      "metadata": {
        "id": "1fJnhKAISwPP",
        "colab_type": "text"
      },
      "source": [
        "**13 was chosen arbitrarily.** We wanted to pick a number that was a different size from the other various tensor shapes we have floating around."
      ]
    },
    {
      "cell_type": "markdown",
      "metadata": {
        "id": "vtINSReYWXy8",
        "colab_type": "text"
      },
      "source": [
        "Calling `model.parameters()` will collect `weight` and `bias` from both the first and second linear modules. It's instructive to inspect the parameters in this case by printing their shapes."
      ]
    },
    {
      "cell_type": "code",
      "metadata": {
        "id": "icyxWuTOS1CF",
        "colab_type": "code",
        "colab": {
          "base_uri": "https://localhost:8080/",
          "height": 54
        },
        "outputId": "154ed8d1-812a-475b-cd8d-2424791b0114"
      },
      "source": [
        "[param.shape for param in seq_model.parameters()]"
      ],
      "execution_count": 53,
      "outputs": [
        {
          "output_type": "execute_result",
          "data": {
            "text/plain": [
              "[torch.Size([13, 1]), torch.Size([13]), torch.Size([1, 13]), torch.Size([1])]"
            ]
          },
          "metadata": {
            "tags": []
          },
          "execution_count": 53
        }
      ]
    },
    {
      "cell_type": "markdown",
      "metadata": {
        "id": "xyvS7Z51V-do",
        "colab_type": "text"
      },
      "source": [
        "Notes on parameters of `nn.Modules`:\n",
        "\n",
        "When inspecting parameters of a model made up of several submodules, it is handy to be able to identify parameters by their name. We can use a method called `named_parameters`."
      ]
    },
    {
      "cell_type": "code",
      "metadata": {
        "id": "_Gx0BECUZRK_",
        "colab_type": "code",
        "colab": {
          "base_uri": "https://localhost:8080/",
          "height": 85
        },
        "outputId": "7756060d-ebba-4933-9e52-9097dc10e902"
      },
      "source": [
        "for name, param in seq_model.named_parameters():\n",
        "  print(name, param.shape)"
      ],
      "execution_count": 54,
      "outputs": [
        {
          "output_type": "stream",
          "text": [
            "0.weight torch.Size([13, 1])\n",
            "0.bias torch.Size([13])\n",
            "2.weight torch.Size([1, 13])\n",
            "2.bias torch.Size([1])\n"
          ],
          "name": "stdout"
        }
      ]
    },
    {
      "cell_type": "markdown",
      "metadata": {
        "id": "9siiy0qmZWCI",
        "colab_type": "text"
      },
      "source": [
        "Each module in `Sequential` is just the ordinal with which the module has appeared in the arguments.\n",
        "\n",
        "`Sequential` also accepts an `OrderedDict`, where we can name each module passed to `Sequential`"
      ]
    },
    {
      "cell_type": "code",
      "metadata": {
        "id": "MIqXndFIZ4lx",
        "colab_type": "code",
        "colab": {
          "base_uri": "https://localhost:8080/",
          "height": 102
        },
        "outputId": "edf9de1f-d37e-4ead-9a87-641cff59a76b"
      },
      "source": [
        "from collections import OrderedDict\n",
        "\n",
        "seq_model = nn.Sequential(OrderedDict([\n",
        "  ('hidden_linear', nn.Linear(1, 8)),\n",
        "  ('hidden_activation', nn.Tanh()),\n",
        "  ('output_linear', nn.Linear(8, 1))\n",
        "]))\n",
        "\n",
        "seq_model"
      ],
      "execution_count": 55,
      "outputs": [
        {
          "output_type": "execute_result",
          "data": {
            "text/plain": [
              "Sequential(\n",
              "  (hidden_linear): Linear(in_features=1, out_features=8, bias=True)\n",
              "  (hidden_activation): Tanh()\n",
              "  (output_linear): Linear(in_features=8, out_features=1, bias=True)\n",
              ")"
            ]
          },
          "metadata": {
            "tags": []
          },
          "execution_count": 55
        }
      ]
    },
    {
      "cell_type": "markdown",
      "metadata": {
        "id": "bhi6FJCbaYp4",
        "colab_type": "text"
      },
      "source": [
        "This allows us to get more explanatory names for submodules."
      ]
    },
    {
      "cell_type": "code",
      "metadata": {
        "id": "aw_arfplaejZ",
        "colab_type": "code",
        "colab": {
          "base_uri": "https://localhost:8080/",
          "height": 85
        },
        "outputId": "b9d31dcc-e37e-4079-c86c-0b7ba0d9e1e7"
      },
      "source": [
        "for name, param in seq_model.named_parameters():\n",
        "  print(name, param.shape)"
      ],
      "execution_count": 56,
      "outputs": [
        {
          "output_type": "stream",
          "text": [
            "hidden_linear.weight torch.Size([8, 1])\n",
            "hidden_linear.bias torch.Size([8])\n",
            "output_linear.weight torch.Size([1, 8])\n",
            "output_linear.bias torch.Size([1])\n"
          ],
          "name": "stdout"
        }
      ]
    },
    {
      "cell_type": "markdown",
      "metadata": {
        "id": "hd5vtt_dajBG",
        "colab_type": "text"
      },
      "source": [
        "Getting a particular `Parameter` by accessing submodules as if they were attributes."
      ]
    },
    {
      "cell_type": "code",
      "metadata": {
        "id": "H3BQOocmatmg",
        "colab_type": "code",
        "colab": {
          "base_uri": "https://localhost:8080/",
          "height": 51
        },
        "outputId": "46865223-c345-41b3-dd60-6659466fa463"
      },
      "source": [
        "# access submodules with named parameters\n",
        "seq_model.output_linear.bias"
      ],
      "execution_count": 57,
      "outputs": [
        {
          "output_type": "execute_result",
          "data": {
            "text/plain": [
              "Parameter containing:\n",
              "tensor([0.2364], requires_grad=True)"
            ]
          },
          "metadata": {
            "tags": []
          },
          "execution_count": 57
        }
      ]
    },
    {
      "cell_type": "markdown",
      "metadata": {
        "id": "1Lnex9AsavkN",
        "colab_type": "text"
      },
      "source": [
        "This is useful for inspecting parameters or their gradients, for instance to monitor gradients during training. Say we want to print out the gradients of `weight` of the linear portion of the hidden layer. We can run the training loop for the new neural network, then look at the resulting gradients after the last epoch."
      ]
    },
    {
      "cell_type": "code",
      "metadata": {
        "id": "isM7lLT_bVfN",
        "colab_type": "code",
        "colab": {
          "base_uri": "https://localhost:8080/",
          "height": 360
        },
        "outputId": "77df4e1c-9087-45df-b263-66aa7dd0f416"
      },
      "source": [
        "optimizer = optim.SGD(seq_model.parameters(), lr=1e-3)\n",
        "\n",
        "training_loop(\n",
        "    n_epochs = 5000,\n",
        "    optimizer = optimizer,\n",
        "    model = seq_model,\n",
        "    loss_fn = nn.MSELoss(),\n",
        "    t_u_train = train_t_un,\n",
        "    t_u_val = val_t_un,\n",
        "    t_c_train = train_t_c,\n",
        "    t_c_val = val_t_c)\n",
        "\n",
        "print()\n",
        "print('output', seq_model(val_t_un))\n",
        "print('answer', val_t_c)\n",
        "print('hidden', seq_model.hidden_linear.weight.grad)"
      ],
      "execution_count": 58,
      "outputs": [
        {
          "output_type": "stream",
          "text": [
            "Epoch 1, Training loss 195.2603302001953, Validation loss 116.6618423461914\n",
            "Epoch 1000, Training loss 5.70233678817749, Validation loss 0.6177080869674683\n",
            "Epoch 2000, Training loss 3.9812724590301514, Validation loss 4.19509744644165\n",
            "Epoch 3000, Training loss 2.3120126724243164, Validation loss 3.9149389266967773\n",
            "Epoch 4000, Training loss 1.94834303855896, Validation loss 4.032260417938232\n",
            "Epoch 5000, Training loss 1.870513916015625, Validation loss 4.209074974060059\n",
            "\n",
            "output tensor([[13.4143],\n",
            "        [-2.1453]], grad_fn=<AddmmBackward>)\n",
            "answer tensor([[15.],\n",
            "        [-4.]])\n",
            "hidden tensor([[-8.6117e+00],\n",
            "        [-9.5180e+00],\n",
            "        [-2.7782e+00],\n",
            "        [ 6.6142e+00],\n",
            "        [ 8.8115e-02],\n",
            "        [ 1.6864e-03],\n",
            "        [ 1.8257e-01],\n",
            "        [-9.2086e+00]])\n"
          ],
          "name": "stdout"
        }
      ]
    },
    {
      "cell_type": "markdown",
      "metadata": {
        "id": "VmnRefWFb-1N",
        "colab_type": "text"
      },
      "source": [
        "We can also evaluate the model on the whole data and see how different that is from a line."
      ]
    },
    {
      "cell_type": "code",
      "metadata": {
        "id": "ZkXOCbuLcQPL",
        "colab_type": "code",
        "colab": {
          "base_uri": "https://localhost:8080/",
          "height": 446
        },
        "outputId": "2824341e-caf4-477a-ed02-e049612f8979"
      },
      "source": [
        "from matplotlib import pyplot as plt\n",
        "\n",
        "t_range = torch.arange(20., 90.).unsqueeze(1)\n",
        "\n",
        "fig = plt.figure(dpi=600)\n",
        "plt.xlabel(\"Fahrenheit\")\n",
        "plt.ylabel(\"Celsius\")\n",
        "plt.plot(t_u.numpy(), t_c.numpy(), 'o')\n",
        "plt.plot(t_range.numpy(), seq_model(0.1 * t_range).detach().numpy(), 'c-')\n",
        "plt.plot(t_u.numpy(), seq_model(0.1 * t_u).detach().numpy(), 'kx');"
      ],
      "execution_count": 59,
      "outputs": [
        {
          "output_type": "display_data",
          "data": {
            "image/png": "[encoded data removed]",
            "text/plain": [
              "<Figure size 3600x2400 with 1 Axes>"
            ]
          },
          "metadata": {
            "tags": [],
            "needs_background": "light"
          }
        }
      ]
    },
    {
      "cell_type": "markdown",
      "metadata": {
        "id": "fgHUsh5LebhA",
        "colab_type": "text"
      },
      "source": [
        "## Subclassing nn.Module"
      ]
    },
    {
      "cell_type": "markdown",
      "metadata": {
        "id": "xncXC_VRe0st",
        "colab_type": "text"
      },
      "source": [
        "For larger and more complex projectsm we need to leave `nn.Sequential` behind in favor of something that gives us more flexibility: subclassing `nn.Module`. In order to subclass `nn.Module`, **at a minimum we need to define a `.forward(...)` function** that takes the input to the module and returns the output. If we use standard `torch` operations, `autograd` will take care of the backward pass automatically."
      ]
    },
    {
      "cell_type": "markdown",
      "metadata": {
        "id": "wR3sqDWvg_hm",
        "colab_type": "text"
      },
      "source": [
        "**3 different ways to implement the same network structure**\n",
        "\n",
        "using increasingly more complex PyTorch functionality to do so. As we do so, we will vary the number of neurons in the hidden layer to make it easier to differentiate between approaches. The first will be a simple instance of `nn.Sequential` like we've already seen."
      ]
    },
    {
      "cell_type": "code",
      "metadata": {
        "id": "gWVDDfAEhckt",
        "colab_type": "code",
        "colab": {
          "base_uri": "https://localhost:8080/",
          "height": 102
        },
        "outputId": "3497837a-6771-49e6-d5f1-fed2b44e9e92"
      },
      "source": [
        "# 1 \n",
        "seq_model = nn.Sequential(\n",
        "    nn.Linear(1, 11),\n",
        "    nn.Tanh(),\n",
        "    nn.Linear(11, 1))\n",
        "\n",
        "seq_model"
      ],
      "execution_count": 60,
      "outputs": [
        {
          "output_type": "execute_result",
          "data": {
            "text/plain": [
              "Sequential(\n",
              "  (0): Linear(in_features=1, out_features=11, bias=True)\n",
              "  (1): Tanh()\n",
              "  (2): Linear(in_features=11, out_features=1, bias=True)\n",
              ")"
            ]
          },
          "metadata": {
            "tags": []
          },
          "execution_count": 60
        }
      ]
    },
    {
      "cell_type": "markdown",
      "metadata": {
        "id": "HhoVST-6hn5X",
        "colab_type": "text"
      },
      "source": [
        "While this works, we dont have any semantic information about what the various layers are intended to be. We can rectify that by giving each layer a label, using an ordered dictionary instead of a list as input."
      ]
    },
    {
      "cell_type": "code",
      "metadata": {
        "id": "WirPirPfh8FR",
        "colab_type": "code",
        "colab": {
          "base_uri": "https://localhost:8080/",
          "height": 102
        },
        "outputId": "9ccf4636-7b54-4fb8-8184-b0ca3636bcd9"
      },
      "source": [
        "# 2\n",
        "namedseq_model = nn.Sequential(OrderedDict(\n",
        "    [('hidden_linear', nn.Linear(1, 12)),\n",
        "     ('hidden_activation', nn.Tanh()),\n",
        "     ('output_linear', nn.Linear(12, 1))\n",
        "]))\n",
        "\n",
        "namedseq_model"
      ],
      "execution_count": 61,
      "outputs": [
        {
          "output_type": "execute_result",
          "data": {
            "text/plain": [
              "Sequential(\n",
              "  (hidden_linear): Linear(in_features=1, out_features=12, bias=True)\n",
              "  (hidden_activation): Tanh()\n",
              "  (output_linear): Linear(in_features=12, out_features=1, bias=True)\n",
              ")"
            ]
          },
          "metadata": {
            "tags": []
          },
          "execution_count": 61
        }
      ]
    },
    {
      "cell_type": "markdown",
      "metadata": {
        "id": "g6OoFSJwilhk",
        "colab_type": "text"
      },
      "source": [
        "Much better. We don't have any ability to control the flow of data through the network, however, aside from the purely sequential pass-through provided by `nn.Sequential`. We can take **full control** of the processing of input data by subclassing `nn.Module` ourselves:"
      ]
    },
    {
      "cell_type": "code",
      "metadata": {
        "id": "4pDn1HhhjM58",
        "colab_type": "code",
        "colab": {
          "base_uri": "https://localhost:8080/",
          "height": 102
        },
        "outputId": "8e54acbe-bc0b-40e5-f819-3f59f4b396f8"
      },
      "source": [
        "# 3\n",
        "class SubClassModel(nn.Module):\n",
        "  def __init__(self):\n",
        "    super().__init__()\n",
        "\n",
        "    self.hidden_linear = nn.Linear(1, 13)\n",
        "    self.hidden_activation = nn.Tanh()\n",
        "    self.output_linear = nn.Linear(13, 1)\n",
        "\n",
        "  def forward(self, input):\n",
        "    hidden_t = self.hidden_linear(input)\n",
        "    activated_t = self.hidden_activation(hidden_t)\n",
        "    output_t = self.output_linear(activated_t)\n",
        "\n",
        "    return output_t\n",
        "\n",
        "subclass_model = SubClassModel()\n",
        "subclass_model"
      ],
      "execution_count": 62,
      "outputs": [
        {
          "output_type": "execute_result",
          "data": {
            "text/plain": [
              "SubClassModel(\n",
              "  (hidden_linear): Linear(in_features=1, out_features=13, bias=True)\n",
              "  (hidden_activation): Tanh()\n",
              "  (output_linear): Linear(in_features=13, out_features=1, bias=True)\n",
              ")"
            ]
          },
          "metadata": {
            "tags": []
          },
          "execution_count": 62
        }
      ]
    },
    {
      "cell_type": "markdown",
      "metadata": {
        "id": "NjTFT99DjwrH",
        "colab_type": "text"
      },
      "source": [
        "This method ends up being somewhat more verbose, since we have to both \n",
        "\n",
        "1.   define the layers we wish to have\n",
        "2.   and to then define how and in what order they should be applied in the `forward` function.\n",
        "\n",
        "\n",
        "That **repetition** grants us an incredible amount of flexibility over the sequential models, however as we are now free to do all sorts of interesting things inside the `forward` function."
      ]
    },
    {
      "cell_type": "markdown",
      "metadata": {
        "id": "Iya9P0O7k0WK",
        "colab_type": "text"
      },
      "source": [
        "While this example is unlikely to make sense, we could implement:\n",
        "```\n",
        "activated_t = self.hidden_activation(hidden_t) if random.random() > 0.5 else hidden_t\n",
        "```\n",
        "to only apply the activation function half of the time!\n",
        "\n"
      ]
    },
    {
      "cell_type": "code",
      "metadata": {
        "id": "9ZTIgAfcl3Mz",
        "colab_type": "code",
        "colab": {
          "base_uri": "https://localhost:8080/",
          "height": 323
        },
        "outputId": "73e470ff-82d4-4edb-bec8-58373551771d"
      },
      "source": [
        "# Internals of all 3 models\n",
        "for type_str, model in [('seq', seq_model), ('namedseq', namedseq_model), ('subclass', subclass_model)]:\n",
        "  print(type_str)\n",
        "  for name_str, param in model.named_parameters():\n",
        "    print(\"{:21} {:19} {}\".format(name_str, str(param.shape), param.numel()))\n",
        "  \n",
        "  print()"
      ],
      "execution_count": 63,
      "outputs": [
        {
          "output_type": "stream",
          "text": [
            "seq\n",
            "0.weight              torch.Size([11, 1]) 11\n",
            "0.bias                torch.Size([11])    11\n",
            "2.weight              torch.Size([1, 11]) 11\n",
            "2.bias                torch.Size([1])     1\n",
            "\n",
            "namedseq\n",
            "hidden_linear.weight  torch.Size([12, 1]) 12\n",
            "hidden_linear.bias    torch.Size([12])    12\n",
            "output_linear.weight  torch.Size([1, 12]) 12\n",
            "output_linear.bias    torch.Size([1])     1\n",
            "\n",
            "subclass\n",
            "hidden_linear.weight  torch.Size([13, 1]) 13\n",
            "hidden_linear.bias    torch.Size([13])    13\n",
            "output_linear.weight  torch.Size([1, 13]) 13\n",
            "output_linear.bias    torch.Size([1])     1\n",
            "\n"
          ],
          "name": "stdout"
        }
      ]
    },
    {
      "cell_type": "markdown",
      "metadata": {
        "id": "dbW6onPlrSOt",
        "colab_type": "text"
      },
      "source": [
        "## Functional api\n",
        "\n",
        "PyTorch has functional counterparts of every `nn` module. They have no **internal states**, which means their output value is solely determined by the value input arguments.\n",
        "\n",
        "how `nn.functional.linear` differs from `nn.Linear` is the former is a function `linear(input, weight, bias=None)` which `weight` and `bias` are arguments to the function."
      ]
    },
    {
      "cell_type": "code",
      "metadata": {
        "id": "Oos0whv76oMl",
        "colab_type": "code",
        "colab": {
          "base_uri": "https://localhost:8080/",
          "height": 85
        },
        "outputId": "eb7d99fd-bb0e-4d94-ae9b-3bd18fe7d1ca"
      },
      "source": [
        "# Subclass Functional model\n",
        "class SubclassFunctionalModel(nn.Module):\n",
        "  def __init__(self):\n",
        "    super().__init__()\n",
        "\n",
        "    self.hidden_linear = nn.Linear(1, 20)\n",
        "    # self.hidden_activation missing here\n",
        "    self.output_linear = nn.Linear(20, 1)\n",
        "\n",
        "  def forward(self, input):\n",
        "    hidden_t = self.hidden_linear(input)\n",
        "    activated_t = torch.tanh(hidden_t) # replaced with functional equivalent here\n",
        "    output_t = self.output_linear(activated_t)\n",
        "\n",
        "    return output_t\n",
        "\n",
        "func_model = SubclassFunctionalModel()\n",
        "func_model"
      ],
      "execution_count": 91,
      "outputs": [
        {
          "output_type": "execute_result",
          "data": {
            "text/plain": [
              "SubclassFunctionalModel(\n",
              "  (hidden_linear): Linear(in_features=1, out_features=20, bias=True)\n",
              "  (output_linear): Linear(in_features=20, out_features=1, bias=True)\n",
              ")"
            ]
          },
          "metadata": {
            "tags": []
          },
          "execution_count": 91
        }
      ]
    },
    {
      "cell_type": "code",
      "metadata": {
        "id": "338NbrAA8nAd",
        "colab_type": "code",
        "colab": {}
      },
      "source": [
        "optimizer = optim.SGD(func_model.parameters(), lr=2e-5)"
      ],
      "execution_count": 96,
      "outputs": []
    },
    {
      "cell_type": "code",
      "metadata": {
        "id": "wTRNHNzN7SvQ",
        "colab_type": "code",
        "colab": {
          "base_uri": "https://localhost:8080/",
          "height": 564
        },
        "outputId": "3551d9f2-958a-4561-fd20-f6a165d92197"
      },
      "source": [
        "training_loop(n_epochs=5000,\n",
        "              optimizer=optimizer,\n",
        "              model=func_model,\n",
        "              loss_fn=nn.MSELoss(),\n",
        "              t_u_train = train_t_un,\n",
        "              t_u_val = val_t_un,\n",
        "              t_c_train = train_t_c,\n",
        "              t_c_val = val_t_c)\n",
        "\n",
        "print()\n",
        "print('output', func_model(val_t_un))\n",
        "print('answer', val_t_c)\n",
        "print('hidden', func_model.hidden_linear.weight.grad)"
      ],
      "execution_count": 97,
      "outputs": [
        {
          "output_type": "stream",
          "text": [
            "Epoch 1, Training loss 1.229866623878479, Validation loss 12.511860847473145\n",
            "Epoch 1000, Training loss 1.2254228591918945, Validation loss 12.544401168823242\n",
            "Epoch 2000, Training loss 1.2221460342407227, Validation loss 12.569259643554688\n",
            "Epoch 3000, Training loss 1.2196263074874878, Validation loss 12.58655071258545\n",
            "Epoch 4000, Training loss 1.2176167964935303, Validation loss 12.596821784973145\n",
            "Epoch 5000, Training loss 1.21597421169281, Validation loss 12.603398323059082\n",
            "\n",
            "output tensor([[12.7998],\n",
            "        [ 0.5128]], grad_fn=<AddmmBackward>)\n",
            "answer tensor([[15.],\n",
            "        [-4.]])\n",
            "hidden tensor([[ 0.0011],\n",
            "        [-0.0042],\n",
            "        [ 0.0106],\n",
            "        [-0.0309],\n",
            "        [-0.0003],\n",
            "        [ 0.0038],\n",
            "        [ 0.1693],\n",
            "        [ 0.0006],\n",
            "        [-0.0013],\n",
            "        [-0.0400],\n",
            "        [-0.0089],\n",
            "        [-0.0003],\n",
            "        [ 0.0944],\n",
            "        [-0.1500],\n",
            "        [-0.0005],\n",
            "        [ 0.0020],\n",
            "        [ 0.0002],\n",
            "        [-0.0013],\n",
            "        [ 0.0020],\n",
            "        [ 0.0089]])\n"
          ],
          "name": "stdout"
        }
      ]
    },
    {
      "cell_type": "code",
      "metadata": {
        "id": "IvB9PlK28bTl",
        "colab_type": "code",
        "colab": {}
      },
      "source": [
        ""
      ],
      "execution_count": null,
      "outputs": []
    }
  ]
}