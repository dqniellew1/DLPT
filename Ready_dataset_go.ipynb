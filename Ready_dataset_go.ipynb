{
  "nbformat": 4,
  "nbformat_minor": 0,
  "metadata": {
    "colab": {
      "name": "Ready_dataset_go.ipynb",
      "provenance": [],
      "mount_file_id": "1IZ4KZWZlU6uvwlVqSWmWz2mXLQxC_G_r",
      "authorship_tag": "ABX9TyM5Nk/GvvY+rZFTl0l16XFz",
      "include_colab_link": true
    },
    "kernelspec": {
      "name": "python3",
      "display_name": "Python 3"
    }
  },
  "cells": [
    {
      "cell_type": "markdown",
      "metadata": {
        "id": "view-in-github",
        "colab_type": "text"
      },
      "source": [
        "<a href=\"https://colab.research.google.com/github/dqniellew1/DLPT/blob/master/Ready_dataset_go.ipynb\" target=\"_parent\"><img src=\"https://colab.research.google.com/assets/colab-badge.svg\" alt=\"Open In Colab\"/></a>"
      ]
    },
    {
      "cell_type": "code",
      "metadata": {
        "id": "5_I3T5w0F_X6",
        "colab_type": "code",
        "colab": {}
      },
      "source": [
        "drive_dir = 'drive/My Drive/dlwpt-code/data/'"
      ],
      "execution_count": null,
      "outputs": []
    },
    {
      "cell_type": "markdown",
      "metadata": {
        "id": "9wGOPb46GHjh",
        "colab_type": "text"
      },
      "source": [
        "Bash shell\n",
        "\n",
        "`$wc -l candidates.csv` Counts the number of lines in the file.\n",
        "\n",
        "`$head candidates.csv` Prints the first few lines of the file.\n",
        "\n",
        "`$grep $',1\\r' candidates.csv | wc -l` Counts the number of lines that end with a 1, which indicates malignancy.\n"
      ]
    },
    {
      "cell_type": "code",
      "metadata": {
        "id": "5XMtrE7TOQnz",
        "colab_type": "code",
        "colab": {}
      },
      "source": [
        ""
      ],
      "execution_count": null,
      "outputs": []
    }
  ]
}