{
  "nbformat": 4,
  "nbformat_minor": 0,
  "metadata": {
    "colab": {
      "name": "Using convolutions to generalize.ipynb",
      "provenance": [],
      "collapsed_sections": [],
      "mount_file_id": "1CkVi73x_T9YI_RHVdh5aZJy-dYEn4C5c",
      "authorship_tag": "ABX9TyMygJoq4qkusFERRFBW3zxR",
      "include_colab_link": true
    },
    "kernelspec": {
      "name": "python3",
      "display_name": "Python 3"
    },
    "widgets": {
      "application/vnd.jupyter.widget-state+json": {
        "082368674667424aa958264c43dfa8d9": {
          "model_module": "@jupyter-widgets/controls",
          "model_name": "HBoxModel",
          "state": {
            "_view_name": "HBoxView",
            "_dom_classes": [],
            "_model_name": "HBoxModel",
            "_view_module": "@jupyter-widgets/controls",
            "_model_module_version": "1.5.0",
            "_view_count": null,
            "_view_module_version": "1.5.0",
            "box_style": "",
            "layout": "IPY_MODEL_1c1771f1eb514c14bc6e6596e4400396",
            "_model_module": "@jupyter-widgets/controls",
            "children": [
              "IPY_MODEL_5aa31fba20b84d33bd922aa59491a4e1",
              "IPY_MODEL_3df199d0938f443f95d5aebdccb2d9de"
            ]
          }
        },
        "1c1771f1eb514c14bc6e6596e4400396": {
          "model_module": "@jupyter-widgets/base",
          "model_name": "LayoutModel",
          "state": {
            "_view_name": "LayoutView",
            "grid_template_rows": null,
            "right": null,
            "justify_content": null,
            "_view_module": "@jupyter-widgets/base",
            "overflow": null,
            "_model_module_version": "1.2.0",
            "_view_count": null,
            "flex_flow": null,
            "width": null,
            "min_width": null,
            "border": null,
            "align_items": null,
            "bottom": null,
            "_model_module": "@jupyter-widgets/base",
            "top": null,
            "grid_column": null,
            "overflow_y": null,
            "overflow_x": null,
            "grid_auto_flow": null,
            "grid_area": null,
            "grid_template_columns": null,
            "flex": null,
            "_model_name": "LayoutModel",
            "justify_items": null,
            "grid_row": null,
            "max_height": null,
            "align_content": null,
            "visibility": null,
            "align_self": null,
            "height": null,
            "min_height": null,
            "padding": null,
            "grid_auto_rows": null,
            "grid_gap": null,
            "max_width": null,
            "order": null,
            "_view_module_version": "1.2.0",
            "grid_template_areas": null,
            "object_position": null,
            "object_fit": null,
            "grid_auto_columns": null,
            "margin": null,
            "display": null,
            "left": null
          }
        },
        "5aa31fba20b84d33bd922aa59491a4e1": {
          "model_module": "@jupyter-widgets/controls",
          "model_name": "FloatProgressModel",
          "state": {
            "_view_name": "ProgressView",
            "style": "IPY_MODEL_b9787ca69d4f48d5be857f62b7f25ce4",
            "_dom_classes": [],
            "description": "",
            "_model_name": "FloatProgressModel",
            "bar_style": "info",
            "max": 1,
            "_view_module": "@jupyter-widgets/controls",
            "_model_module_version": "1.5.0",
            "value": 1,
            "_view_count": null,
            "_view_module_version": "1.5.0",
            "orientation": "horizontal",
            "min": 0,
            "description_tooltip": null,
            "_model_module": "@jupyter-widgets/controls",
            "layout": "IPY_MODEL_a9e51b9cb5734f1395a2e3285b01b225"
          }
        },
        "3df199d0938f443f95d5aebdccb2d9de": {
          "model_module": "@jupyter-widgets/controls",
          "model_name": "HTMLModel",
          "state": {
            "_view_name": "HTMLView",
            "style": "IPY_MODEL_59430c8d4a6649acb379c96718a5ee81",
            "_dom_classes": [],
            "description": "",
            "_model_name": "HTMLModel",
            "placeholder": "​",
            "_view_module": "@jupyter-widgets/controls",
            "_model_module_version": "1.5.0",
            "value": " 170500096/? [00:30&lt;00:00, 13436475.35it/s]",
            "_view_count": null,
            "_view_module_version": "1.5.0",
            "description_tooltip": null,
            "_model_module": "@jupyter-widgets/controls",
            "layout": "IPY_MODEL_7622390f97604a0caaffbe2a05844520"
          }
        },
        "b9787ca69d4f48d5be857f62b7f25ce4": {
          "model_module": "@jupyter-widgets/controls",
          "model_name": "ProgressStyleModel",
          "state": {
            "_view_name": "StyleView",
            "_model_name": "ProgressStyleModel",
            "description_width": "initial",
            "_view_module": "@jupyter-widgets/base",
            "_model_module_version": "1.5.0",
            "_view_count": null,
            "_view_module_version": "1.2.0",
            "bar_color": null,
            "_model_module": "@jupyter-widgets/controls"
          }
        },
        "a9e51b9cb5734f1395a2e3285b01b225": {
          "model_module": "@jupyter-widgets/base",
          "model_name": "LayoutModel",
          "state": {
            "_view_name": "LayoutView",
            "grid_template_rows": null,
            "right": null,
            "justify_content": null,
            "_view_module": "@jupyter-widgets/base",
            "overflow": null,
            "_model_module_version": "1.2.0",
            "_view_count": null,
            "flex_flow": null,
            "width": null,
            "min_width": null,
            "border": null,
            "align_items": null,
            "bottom": null,
            "_model_module": "@jupyter-widgets/base",
            "top": null,
            "grid_column": null,
            "overflow_y": null,
            "overflow_x": null,
            "grid_auto_flow": null,
            "grid_area": null,
            "grid_template_columns": null,
            "flex": null,
            "_model_name": "LayoutModel",
            "justify_items": null,
            "grid_row": null,
            "max_height": null,
            "align_content": null,
            "visibility": null,
            "align_self": null,
            "height": null,
            "min_height": null,
            "padding": null,
            "grid_auto_rows": null,
            "grid_gap": null,
            "max_width": null,
            "order": null,
            "_view_module_version": "1.2.0",
            "grid_template_areas": null,
            "object_position": null,
            "object_fit": null,
            "grid_auto_columns": null,
            "margin": null,
            "display": null,
            "left": null
          }
        },
        "59430c8d4a6649acb379c96718a5ee81": {
          "model_module": "@jupyter-widgets/controls",
          "model_name": "DescriptionStyleModel",
          "state": {
            "_view_name": "StyleView",
            "_model_name": "DescriptionStyleModel",
            "description_width": "",
            "_view_module": "@jupyter-widgets/base",
            "_model_module_version": "1.5.0",
            "_view_count": null,
            "_view_module_version": "1.2.0",
            "_model_module": "@jupyter-widgets/controls"
          }
        },
        "7622390f97604a0caaffbe2a05844520": {
          "model_module": "@jupyter-widgets/base",
          "model_name": "LayoutModel",
          "state": {
            "_view_name": "LayoutView",
            "grid_template_rows": null,
            "right": null,
            "justify_content": null,
            "_view_module": "@jupyter-widgets/base",
            "overflow": null,
            "_model_module_version": "1.2.0",
            "_view_count": null,
            "flex_flow": null,
            "width": null,
            "min_width": null,
            "border": null,
            "align_items": null,
            "bottom": null,
            "_model_module": "@jupyter-widgets/base",
            "top": null,
            "grid_column": null,
            "overflow_y": null,
            "overflow_x": null,
            "grid_auto_flow": null,
            "grid_area": null,
            "grid_template_columns": null,
            "flex": null,
            "_model_name": "LayoutModel",
            "justify_items": null,
            "grid_row": null,
            "max_height": null,
            "align_content": null,
            "visibility": null,
            "align_self": null,
            "height": null,
            "min_height": null,
            "padding": null,
            "grid_auto_rows": null,
            "grid_gap": null,
            "max_width": null,
            "order": null,
            "_view_module_version": "1.2.0",
            "grid_template_areas": null,
            "object_position": null,
            "object_fit": null,
            "grid_auto_columns": null,
            "margin": null,
            "display": null,
            "left": null
          }
        }
      }
    },
    "accelerator": "GPU"
  },
  "cells": [
    {
      "cell_type": "markdown",
      "metadata": {
        "id": "view-in-github",
        "colab_type": "text"
      },
      "source": [
        "<a href=\"https://colab.research.google.com/github/dqniellew1/DLPT/blob/master/Using_convolutions_to_generalize.ipynb\" target=\"_parent\"><img src=\"https://colab.research.google.com/assets/colab-badge.svg\" alt=\"Open In Colab\"/></a>"
      ]
    },
    {
      "cell_type": "code",
      "metadata": {
        "id": "f9T3pQNnL7Ud",
        "colab_type": "code",
        "colab": {}
      },
      "source": [
        "drive_dir = 'drive/My Drive/dlwpt-code/data/'"
      ],
      "execution_count": 1,
      "outputs": []
    },
    {
      "cell_type": "markdown",
      "metadata": {
        "id": "ph0WLgkvL-KU",
        "colab_type": "text"
      },
      "source": [
        "Taking a 1D view of our input image and multiplying it with a `n_output_features x n_input_features` weight matrix, as done in `nn.Linear`, means taking all pixels in the image, and for each channel computing a weighted sum of all pixels multiplied by a set of weights, one per output feature."
      ]
    },
    {
      "cell_type": "code",
      "metadata": {
        "id": "QHdHZ-Na86hS",
        "colab_type": "code",
        "colab": {
          "base_uri": "https://localhost:8080/",
          "height": 34
        },
        "outputId": "75577bc5-fa67-4518-a7e7-9eca10627567"
      },
      "source": [
        "%matplotlib inline \n",
        "from matplotlib import pyplot as plt\n",
        "import numpy as np\n",
        "import collections\n",
        "\n",
        "import torch\n",
        "import torch.nn as nn\n",
        "import torch.optim as optim\n",
        "import torch.nn.functional as F\n",
        "\n",
        "torch.set_printoptions(edgeitems=2)\n",
        "torch.manual_seed(123)"
      ],
      "execution_count": 2,
      "outputs": [
        {
          "output_type": "execute_result",
          "data": {
            "text/plain": [
              "<torch._C.Generator at 0x7fa54d961990>"
            ]
          },
          "metadata": {
            "tags": []
          },
          "execution_count": 2
        }
      ]
    },
    {
      "cell_type": "code",
      "metadata": {
        "id": "2heZVKv4Qw49",
        "colab_type": "code",
        "colab": {}
      },
      "source": [
        "class_names = ['airplane','automobile','bird','cat','deer',\n",
        "               'dog','frog','horse','ship','truck']"
      ],
      "execution_count": 3,
      "outputs": []
    },
    {
      "cell_type": "code",
      "metadata": {
        "id": "acwAHrZSQzkI",
        "colab_type": "code",
        "colab": {
          "base_uri": "https://localhost:8080/",
          "height": 103,
          "referenced_widgets": [
            "082368674667424aa958264c43dfa8d9",
            "1c1771f1eb514c14bc6e6596e4400396",
            "5aa31fba20b84d33bd922aa59491a4e1",
            "3df199d0938f443f95d5aebdccb2d9de",
            "b9787ca69d4f48d5be857f62b7f25ce4",
            "a9e51b9cb5734f1395a2e3285b01b225",
            "59430c8d4a6649acb379c96718a5ee81",
            "7622390f97604a0caaffbe2a05844520"
          ]
        },
        "outputId": "65b0f7cc-3d30-4a21-ab07-d28433361b0d"
      },
      "source": [
        "from torchvision import datasets, transforms\n",
        "\n",
        "data_path = '../data-unversioned/p1ch6/'\n",
        "cifar10 = datasets.CIFAR10(data_path, train=True, download=True,\n",
        "                           transform=transforms.Compose([\n",
        "                                                         transforms.ToTensor(),\n",
        "                                                         transforms.Normalize(\n",
        "                                                             (0.4915, 0.4823, 0.4468),\n",
        "                                                             (0.2470, 0.2435, 0.2616))\n",
        "                                                         ]))"
      ],
      "execution_count": 4,
      "outputs": [
        {
          "output_type": "stream",
          "text": [
            "Downloading https://www.cs.toronto.edu/~kriz/cifar-10-python.tar.gz to ../data-unversioned/p1ch6/cifar-10-python.tar.gz\n"
          ],
          "name": "stdout"
        },
        {
          "output_type": "display_data",
          "data": {
            "application/vnd.jupyter.widget-view+json": {
              "model_id": "082368674667424aa958264c43dfa8d9",
              "version_minor": 0,
              "version_major": 2
            },
            "text/plain": [
              "HBox(children=(FloatProgress(value=1.0, bar_style='info', max=1.0), HTML(value='')))"
            ]
          },
          "metadata": {
            "tags": []
          }
        },
        {
          "output_type": "stream",
          "text": [
            "Extracting ../data-unversioned/p1ch6/cifar-10-python.tar.gz to ../data-unversioned/p1ch6/\n"
          ],
          "name": "stdout"
        }
      ]
    },
    {
      "cell_type": "code",
      "metadata": {
        "id": "Cfcpy1TkROuR",
        "colab_type": "code",
        "colab": {
          "base_uri": "https://localhost:8080/",
          "height": 34
        },
        "outputId": "1c2f5ae3-9a53-4570-c990-75cd2447e624"
      },
      "source": [
        "cifar10_val = datasets.CIFAR10(data_path, train=False, download=True,\n",
        "                               transform=transforms.Compose([\n",
        "                              transforms.ToTensor(),\n",
        "                              transforms.Normalize((0.4915, 0.4823, 0.4468),\n",
        "                                                   (0.2470, 0.2435, 0.2616))\n",
        "                              ]))"
      ],
      "execution_count": 107,
      "outputs": [
        {
          "output_type": "stream",
          "text": [
            "Files already downloaded and verified\n"
          ],
          "name": "stdout"
        }
      ]
    },
    {
      "cell_type": "code",
      "metadata": {
        "id": "dMcmHmVXRc_v",
        "colab_type": "code",
        "colab": {}
      },
      "source": [
        "label_map = {0:1, 2:1}\n",
        "class_names = ['airplane', 'bird']\n",
        "cifar2 = [(img, label_map[label]) for img, label in cifar10 if label in [0, 2]]\n",
        "cifar2_val = [(img, label_map[label]) for img, label in cifar10_val if label in [0, 2]]"
      ],
      "execution_count": 6,
      "outputs": []
    },
    {
      "cell_type": "markdown",
      "metadata": {
        "id": "x7qRa8T9D2S2",
        "colab_type": "text"
      },
      "source": [
        "# Convolutions"
      ]
    },
    {
      "cell_type": "markdown",
      "metadata": {
        "id": "OV3bQ3GsO8S-",
        "colab_type": "text"
      },
      "source": [
        "`nn.Conv1d` for time series, `nn.Conv2d` for images and `nn.Conv3d` for volumes or videos.\n",
        "\n",
        "The arguments we provide to `nn.Conv2d` are the:\n",
        "1. The number of input features (or channels, since we are dealing with so-called multi-channel images, i.e. more than one value per pixel)\n",
        "2. The number of output features (arbitrary number, the more channels in the output image, the more the capacity of the network)\n",
        "3. The size of the kernel\n"
      ]
    },
    {
      "cell_type": "code",
      "metadata": {
        "id": "wzaFtlFNPrNk",
        "colab_type": "code",
        "colab": {
          "base_uri": "https://localhost:8080/",
          "height": 34
        },
        "outputId": "6c87ec57-b619-4e5b-ff56-5ce59f27f31d"
      },
      "source": [
        "conv = nn.Conv2d(3, 16, kernel_size=3)\n",
        "conv"
      ],
      "execution_count": 7,
      "outputs": [
        {
          "output_type": "execute_result",
          "data": {
            "text/plain": [
              "Conv2d(3, 16, kernel_size=(3, 3), stride=(1, 1))"
            ]
          },
          "metadata": {
            "tags": []
          },
          "execution_count": 7
        }
      ]
    },
    {
      "cell_type": "markdown",
      "metadata": {
        "id": "WqTcXjlrQEQF",
        "colab_type": "text"
      },
      "source": [
        "We expect the weight tensor to be sized `n_input_channels x 3 x 3 x n_output_channels`. The bias is just a constant value we add to each channel of the output image.\n",
        "\n",
        "\\* weights are initialized randomly\n",
        "\n",
        "**As usual we need to add the zero-th batch dimension with unsqueeze** if we want to call the `conv` module with one input image. `nn.Conv2d` expects `B x C x H x W`."
      ]
    },
    {
      "cell_type": "code",
      "metadata": {
        "id": "AkrnnzkSPv_W",
        "colab_type": "code",
        "colab": {
          "base_uri": "https://localhost:8080/",
          "height": 34
        },
        "outputId": "8108eefa-74c0-44a0-d3e0-e8600f892fad"
      },
      "source": [
        "conv.weight.shape, conv.bias.shape"
      ],
      "execution_count": 8,
      "outputs": [
        {
          "output_type": "execute_result",
          "data": {
            "text/plain": [
              "(torch.Size([16, 3, 3, 3]), torch.Size([16]))"
            ]
          },
          "metadata": {
            "tags": []
          },
          "execution_count": 8
        }
      ]
    },
    {
      "cell_type": "code",
      "metadata": {
        "id": "kK6YCWphP4Ue",
        "colab_type": "code",
        "colab": {
          "base_uri": "https://localhost:8080/",
          "height": 34
        },
        "outputId": "e634dcd1-c936-45bf-8450-8b537be498d2"
      },
      "source": [
        "img, _ = cifar2[0]\n",
        "output = conv(img.unsqueeze(0))\n",
        "img.unsqueeze(0).shape, output.shape"
      ],
      "execution_count": 9,
      "outputs": [
        {
          "output_type": "execute_result",
          "data": {
            "text/plain": [
              "(torch.Size([1, 3, 32, 32]), torch.Size([1, 16, 30, 30]))"
            ]
          },
          "metadata": {
            "tags": []
          },
          "execution_count": 9
        }
      ]
    },
    {
      "cell_type": "code",
      "metadata": {
        "id": "0M-U7tZkSffd",
        "colab_type": "code",
        "colab": {
          "base_uri": "https://localhost:8080/",
          "height": 266
        },
        "outputId": "ce407027-b9bc-49a3-829a-a596e460565a"
      },
      "source": [
        "plt.imshow(output[0,0].detach(), cmap='gray')\n",
        "plt.show()\n",
        "# Bird after a random convolution treatment"
      ],
      "execution_count": 10,
      "outputs": [
        {
          "output_type": "display_data",
          "data": {
            "image/png": "[encoded data removed]",
            "text/plain": [
              "<Figure size 432x288 with 1 Axes>"
            ]
          },
          "metadata": {
            "tags": [],
            "needs_background": "light"
          }
        }
      ]
    },
    {
      "cell_type": "code",
      "metadata": {
        "id": "1XIzl9NPyZCy",
        "colab_type": "code",
        "colab": {
          "base_uri": "https://localhost:8080/",
          "height": 318
        },
        "outputId": "d4bb475e-bf67-4670-f0d8-3b8947186f5b"
      },
      "source": [
        "plt.figure(figsize=(10, 4.8))\n",
        "ax1 = plt.subplot(1, 2, 1)\n",
        "plt.title(\"output\")\n",
        "plt.imshow(output[0, 0].detach(), cmap='gray')\n",
        "plt.subplot(1, 2, 2, sharex=ax1, sharey=ax1)\n",
        "plt.imshow(img.mean(0), cmap='gray')\n",
        "plt.title(\"input\")\n",
        "plt.show()"
      ],
      "execution_count": 11,
      "outputs": [
        {
          "output_type": "display_data",
          "data": {
            "image/png": "[encoded data removed]",
            "text/plain": [
              "<Figure size 720x345.6 with 2 Axes>"
            ]
          },
          "metadata": {
            "tags": [],
            "needs_background": "light"
          }
        }
      ]
    },
    {
      "cell_type": "markdown",
      "metadata": {
        "id": "oa2SWeq4SrS_",
        "colab_type": "text"
      },
      "source": [
        "The output size is slightly less because it is a side effect of deciding what to do at the boundary of the image."
      ]
    },
    {
      "cell_type": "markdown",
      "metadata": {
        "id": "nfFK_RdXTy0L",
        "colab_type": "text"
      },
      "source": [
        "To preserve image size, PyTorch gives us the possibility of padding the image, creating ghost pixels around the border that value zero as far as the convolution is concerned."
      ]
    },
    {
      "cell_type": "markdown",
      "metadata": {
        "id": "9-Shp8w7UOuU",
        "colab_type": "text"
      },
      "source": [
        "Specifying `padding=1` when `kernel_size=3` means that now `i00` has an extra set of neighbours above and left, so that an output of the convolution can be computed even in the corner of our original image."
      ]
    },
    {
      "cell_type": "code",
      "metadata": {
        "id": "TnxVl1lPUimx",
        "colab_type": "code",
        "colab": {
          "base_uri": "https://localhost:8080/",
          "height": 34
        },
        "outputId": "bf8f977c-cfb0-4c64-97b9-0982feb6ba61"
      },
      "source": [
        "conv = nn.Conv2d(3, 1, kernel_size=3, padding=1)\n",
        "output = conv(img.unsqueeze(0))\n",
        "img.unsqueeze(0).shape, output.shape"
      ],
      "execution_count": null,
      "outputs": [
        {
          "output_type": "execute_result",
          "data": {
            "text/plain": [
              "(torch.Size([1, 3, 32, 32]), torch.Size([1, 1, 32, 32]))"
            ]
          },
          "metadata": {
            "tags": []
          },
          "execution_count": 11
        }
      ]
    },
    {
      "cell_type": "markdown",
      "metadata": {
        "id": "nsvuHQAXUub8",
        "colab_type": "text"
      },
      "source": [
        "\\* the size of `weight` and `bias` dont change whether padding is used or not."
      ]
    },
    {
      "cell_type": "code",
      "metadata": {
        "id": "tmD23APjU2yT",
        "colab_type": "code",
        "colab": {}
      },
      "source": [
        "# play with convolution setting; weights by hand\n",
        "with torch.no_grad():\n",
        "  conv.bias.zero_() # zero out bias to remove any confounding factor\n",
        "\n",
        "with torch.no_grad():\n",
        "  conv.weight.fill_(1.0 / 9.0)"
      ],
      "execution_count": null,
      "outputs": []
    },
    {
      "cell_type": "code",
      "metadata": {
        "id": "STcDRDoGVWV9",
        "colab_type": "code",
        "colab": {
          "base_uri": "https://localhost:8080/",
          "height": 266
        },
        "outputId": "c67510b3-6ab7-40b6-effe-c073beca8c3c"
      },
      "source": [
        "# See the results in the output image\n",
        "output = conv(img.unsqueeze(0))\n",
        "plt.imshow(output[0, 0].detach(), cmap='gray')\n",
        "plt.show()\n",
        "# bird, this time blurred thanks to a constant convolution kernel."
      ],
      "execution_count": null,
      "outputs": [
        {
          "output_type": "display_data",
          "data": {
            "image/png": "[encoded data removed]",
            "text/plain": [
              "<Figure size 432x288 with 1 Axes>"
            ]
          },
          "metadata": {
            "tags": [],
            "needs_background": "light"
          }
        }
      ]
    },
    {
      "cell_type": "markdown",
      "metadata": {
        "id": "uxkqKjzpVy5M",
        "colab_type": "text"
      },
      "source": [
        "Every pixel of the output is the average of a neighborhood of the input, so output pixels of the output will be correlated and change more smoothly."
      ]
    },
    {
      "cell_type": "code",
      "metadata": {
        "id": "_WXt3K-sWZx4",
        "colab_type": "code",
        "colab": {}
      },
      "source": [
        "# We can try something different\n",
        "conv = nn.Conv2d(3, 1, kernel_size=3, padding=1)\n",
        "\n",
        "with torch.no_grad():\n",
        "  conv.weight[:] = torch.tensor([[-1.0, 0.0, 1.0],\n",
        "                                   [-1.0, 0.0, 1.0],\n",
        "                                   [-1.0, 0.0, 1.0]])\n",
        "  conv.bias.zero_()"
      ],
      "execution_count": null,
      "outputs": []
    },
    {
      "cell_type": "code",
      "metadata": {
        "id": "jAXDV5FmWogb",
        "colab_type": "code",
        "colab": {
          "base_uri": "https://localhost:8080/",
          "height": 266
        },
        "outputId": "ff57c877-f47e-4265-fc92-14dad74c3237"
      },
      "source": [
        "output = conv(img.unsqueeze(0))\n",
        "plt.imshow(output[0, 0].detach(), cmap='gray')\n",
        "plt.show()\n",
        "# Vertical edges throughout our bird because of hand-crafted kernel"
      ],
      "execution_count": null,
      "outputs": [
        {
          "output_type": "display_data",
          "data": {
            "image/png": "[encoded data removed]",
            "text/plain": [
              "<Figure size 432x288 with 1 Axes>"
            ]
          },
          "metadata": {
            "tags": [],
            "needs_background": "light"
          }
        }
      ]
    },
    {
      "cell_type": "markdown",
      "metadata": {
        "id": "JwIhMfXOW1kz",
        "colab_type": "text"
      },
      "source": [
        "## Depth and pooling"
      ]
    },
    {
      "cell_type": "markdown",
      "metadata": {
        "id": "huQCAKDIacBI",
        "colab_type": "text"
      },
      "source": [
        "If we wish to downsample our image by half, we'll want to use a size of 2."
      ]
    },
    {
      "cell_type": "code",
      "metadata": {
        "id": "eIuTchTSeE8J",
        "colab_type": "code",
        "colab": {
          "base_uri": "https://localhost:8080/",
          "height": 34
        },
        "outputId": "8ca89fb4-170f-4c3c-9ff8-591c80f31eb3"
      },
      "source": [
        "pool = nn.MaxPool2d(2)\n",
        "output = pool(img.unsqueeze(0))\n",
        "\n",
        "img.unsqueeze(0).shape, output.shape"
      ],
      "execution_count": null,
      "outputs": [
        {
          "output_type": "execute_result",
          "data": {
            "text/plain": [
              "(torch.Size([1, 3, 32, 32]), torch.Size([1, 3, 16, 16]))"
            ]
          },
          "metadata": {
            "tags": []
          },
          "execution_count": 16
        }
      ]
    },
    {
      "cell_type": "markdown",
      "metadata": {
        "id": "H4VwbjBeeMLg",
        "colab_type": "text"
      },
      "source": [
        "Proceed to building our convolutional neural network for detecting birds and planes."
      ]
    },
    {
      "cell_type": "code",
      "metadata": {
        "id": "H3kmtKWieYys",
        "colab_type": "code",
        "colab": {}
      },
      "source": [
        "model = nn.Sequential(\n",
        "    nn.Conv2d(3, 16, kernel_size=3, padding=1),\n",
        "    nn.Tanh(),\n",
        "    nn.MaxPool2d(2),\n",
        "    nn.Conv2d(16, 8, kernel_size=3, padding=1),\n",
        "    nn.Tanh(),\n",
        "    nn.MaxPool2d(2),\n",
        ")"
      ],
      "execution_count": null,
      "outputs": []
    },
    {
      "cell_type": "markdown",
      "metadata": {
        "id": "Wx_374mvenbK",
        "colab_type": "text"
      },
      "source": [
        "Gone from 3 RGB channels to 16, thereby giving the network a chance to generate 16 independent features that will operate to hopefully discriminate low-level features of birds and airplanes. \n",
        "\n",
        "After the activation is applied, the 16-channel 32x32 image will be pooled to a 16-channel 16x16 image. \n",
        "\n",
        "At this point, the downsampled image will undergo another convolution that will generate a 8-channel 16x16 output, which again after the activation, will be pooled to a 8-channel 8x8 output."
      ]
    },
    {
      "cell_type": "markdown",
      "metadata": {
        "id": "6MEpuJGgfSDB",
        "colab_type": "text"
      },
      "source": [
        "After the input image has been reduced to a set of 8x8 features, we expect some output of probabilities, so that we can feed our negative log likelihood. \n",
        "\n",
        "However, probabilities are a pair of numbers in a 1D vector (1 for bird, 1 for airplane, while we are still dealing with multi-channel 2D features."
      ]
    },
    {
      "cell_type": "code",
      "metadata": {
        "id": "4hWy94u6fzYs",
        "colab_type": "code",
        "colab": {}
      },
      "source": [
        "# Turn our 8-channel 8x8 image into a 1D vector \n",
        "# Complete our network with a set of fully connected layers.\n",
        "model = nn.Sequential(\n",
        "    nn.Conv2d(3, 16, kernel_size=3, padding=1),\n",
        "    nn.Tanh(),\n",
        "    nn.MaxPool2d(2),\n",
        "    nn.Conv2d(16, 8, kernel_size=3, padding=1),\n",
        "    nn.Tanh(),\n",
        "    nn.MaxPool2d(2),\n",
        "    # ... Missing something important?\n",
        "    nn.Linear(8 * 8 * 8, 32),\n",
        "    nn.Tanh(),\n",
        "    nn.Linear(32, 2))\n",
        "# Linear layer is dependent on the expected size of the MaxPool2d output\n",
        "# i.e. 8 * 8 * 8 = 512"
      ],
      "execution_count": null,
      "outputs": []
    },
    {
      "cell_type": "code",
      "metadata": {
        "id": "faiClP3OgT4V",
        "colab_type": "code",
        "colab": {
          "base_uri": "https://localhost:8080/",
          "height": 34
        },
        "outputId": "3b234ac9-ceff-4e3d-a066-8f6e4d907634"
      },
      "source": [
        "numel_list = [p.numel() for p in model.parameters()]\n",
        "sum(numel_list), numel_list"
      ],
      "execution_count": null,
      "outputs": [
        {
          "output_type": "execute_result",
          "data": {
            "text/plain": [
              "(18090, [432, 16, 1152, 8, 16384, 32, 64, 2])"
            ]
          },
          "metadata": {
            "tags": []
          },
          "execution_count": 19
        }
      ]
    },
    {
      "cell_type": "markdown",
      "metadata": {
        "id": "5x78-X5XgsbK",
        "colab_type": "text"
      },
      "source": [
        "Reasonable! In order to increase the capacity of the model, we could\n",
        "1. increase the number of output channels for the conv layers (which would lead to the linear layer increasing in size as well)"
      ]
    },
    {
      "cell_type": "code",
      "metadata": {
        "id": "Di1QZ0sMhFl6",
        "colab_type": "code",
        "colab": {
          "base_uri": "https://localhost:8080/",
          "height": 327
        },
        "outputId": "53a3d263-1526-4e9d-e73b-ba5759b07742"
      },
      "source": [
        "model(img.unsqueeze(0))"
      ],
      "execution_count": null,
      "outputs": [
        {
          "output_type": "error",
          "ename": "RuntimeError",
          "evalue": "ignored",
          "traceback": [
            "\u001b[0;31m---------------------------------------------------------------------------\u001b[0m",
            "\u001b[0;31mRuntimeError\u001b[0m                              Traceback (most recent call last)",
            "\u001b[0;32m<ipython-input-20-9c784fd7714c>\u001b[0m in \u001b[0;36m<module>\u001b[0;34m()\u001b[0m\n\u001b[0;32m----> 1\u001b[0;31m \u001b[0mmodel\u001b[0m\u001b[0;34m(\u001b[0m\u001b[0mimg\u001b[0m\u001b[0;34m.\u001b[0m\u001b[0munsqueeze\u001b[0m\u001b[0;34m(\u001b[0m\u001b[0;36m0\u001b[0m\u001b[0;34m)\u001b[0m\u001b[0;34m)\u001b[0m\u001b[0;34m\u001b[0m\u001b[0;34m\u001b[0m\u001b[0m\n\u001b[0m",
            "\u001b[0;32m/usr/local/lib/python3.6/dist-packages/torch/nn/modules/module.py\u001b[0m in \u001b[0;36m__call__\u001b[0;34m(self, *input, **kwargs)\u001b[0m\n\u001b[1;32m    548\u001b[0m             \u001b[0mresult\u001b[0m \u001b[0;34m=\u001b[0m \u001b[0mself\u001b[0m\u001b[0;34m.\u001b[0m\u001b[0m_slow_forward\u001b[0m\u001b[0;34m(\u001b[0m\u001b[0;34m*\u001b[0m\u001b[0minput\u001b[0m\u001b[0;34m,\u001b[0m \u001b[0;34m**\u001b[0m\u001b[0mkwargs\u001b[0m\u001b[0;34m)\u001b[0m\u001b[0;34m\u001b[0m\u001b[0;34m\u001b[0m\u001b[0m\n\u001b[1;32m    549\u001b[0m         \u001b[0;32melse\u001b[0m\u001b[0;34m:\u001b[0m\u001b[0;34m\u001b[0m\u001b[0;34m\u001b[0m\u001b[0m\n\u001b[0;32m--> 550\u001b[0;31m             \u001b[0mresult\u001b[0m \u001b[0;34m=\u001b[0m \u001b[0mself\u001b[0m\u001b[0;34m.\u001b[0m\u001b[0mforward\u001b[0m\u001b[0;34m(\u001b[0m\u001b[0;34m*\u001b[0m\u001b[0minput\u001b[0m\u001b[0;34m,\u001b[0m \u001b[0;34m**\u001b[0m\u001b[0mkwargs\u001b[0m\u001b[0;34m)\u001b[0m\u001b[0;34m\u001b[0m\u001b[0;34m\u001b[0m\u001b[0m\n\u001b[0m\u001b[1;32m    551\u001b[0m         \u001b[0;32mfor\u001b[0m \u001b[0mhook\u001b[0m \u001b[0;32min\u001b[0m \u001b[0mself\u001b[0m\u001b[0;34m.\u001b[0m\u001b[0m_forward_hooks\u001b[0m\u001b[0;34m.\u001b[0m\u001b[0mvalues\u001b[0m\u001b[0;34m(\u001b[0m\u001b[0;34m)\u001b[0m\u001b[0;34m:\u001b[0m\u001b[0;34m\u001b[0m\u001b[0;34m\u001b[0m\u001b[0m\n\u001b[1;32m    552\u001b[0m             \u001b[0mhook_result\u001b[0m \u001b[0;34m=\u001b[0m \u001b[0mhook\u001b[0m\u001b[0;34m(\u001b[0m\u001b[0mself\u001b[0m\u001b[0;34m,\u001b[0m \u001b[0minput\u001b[0m\u001b[0;34m,\u001b[0m \u001b[0mresult\u001b[0m\u001b[0;34m)\u001b[0m\u001b[0;34m\u001b[0m\u001b[0;34m\u001b[0m\u001b[0m\n",
            "\u001b[0;32m/usr/local/lib/python3.6/dist-packages/torch/nn/modules/container.py\u001b[0m in \u001b[0;36mforward\u001b[0;34m(self, input)\u001b[0m\n\u001b[1;32m     98\u001b[0m     \u001b[0;32mdef\u001b[0m \u001b[0mforward\u001b[0m\u001b[0;34m(\u001b[0m\u001b[0mself\u001b[0m\u001b[0;34m,\u001b[0m \u001b[0minput\u001b[0m\u001b[0;34m)\u001b[0m\u001b[0;34m:\u001b[0m\u001b[0;34m\u001b[0m\u001b[0;34m\u001b[0m\u001b[0m\n\u001b[1;32m     99\u001b[0m         \u001b[0;32mfor\u001b[0m \u001b[0mmodule\u001b[0m \u001b[0;32min\u001b[0m \u001b[0mself\u001b[0m\u001b[0;34m:\u001b[0m\u001b[0;34m\u001b[0m\u001b[0;34m\u001b[0m\u001b[0m\n\u001b[0;32m--> 100\u001b[0;31m             \u001b[0minput\u001b[0m \u001b[0;34m=\u001b[0m \u001b[0mmodule\u001b[0m\u001b[0;34m(\u001b[0m\u001b[0minput\u001b[0m\u001b[0;34m)\u001b[0m\u001b[0;34m\u001b[0m\u001b[0;34m\u001b[0m\u001b[0m\n\u001b[0m\u001b[1;32m    101\u001b[0m         \u001b[0;32mreturn\u001b[0m \u001b[0minput\u001b[0m\u001b[0;34m\u001b[0m\u001b[0;34m\u001b[0m\u001b[0m\n\u001b[1;32m    102\u001b[0m \u001b[0;34m\u001b[0m\u001b[0m\n",
            "\u001b[0;32m/usr/local/lib/python3.6/dist-packages/torch/nn/modules/module.py\u001b[0m in \u001b[0;36m__call__\u001b[0;34m(self, *input, **kwargs)\u001b[0m\n\u001b[1;32m    548\u001b[0m             \u001b[0mresult\u001b[0m \u001b[0;34m=\u001b[0m \u001b[0mself\u001b[0m\u001b[0;34m.\u001b[0m\u001b[0m_slow_forward\u001b[0m\u001b[0;34m(\u001b[0m\u001b[0;34m*\u001b[0m\u001b[0minput\u001b[0m\u001b[0;34m,\u001b[0m \u001b[0;34m**\u001b[0m\u001b[0mkwargs\u001b[0m\u001b[0;34m)\u001b[0m\u001b[0;34m\u001b[0m\u001b[0;34m\u001b[0m\u001b[0m\n\u001b[1;32m    549\u001b[0m         \u001b[0;32melse\u001b[0m\u001b[0;34m:\u001b[0m\u001b[0;34m\u001b[0m\u001b[0;34m\u001b[0m\u001b[0m\n\u001b[0;32m--> 550\u001b[0;31m             \u001b[0mresult\u001b[0m \u001b[0;34m=\u001b[0m \u001b[0mself\u001b[0m\u001b[0;34m.\u001b[0m\u001b[0mforward\u001b[0m\u001b[0;34m(\u001b[0m\u001b[0;34m*\u001b[0m\u001b[0minput\u001b[0m\u001b[0;34m,\u001b[0m \u001b[0;34m**\u001b[0m\u001b[0mkwargs\u001b[0m\u001b[0;34m)\u001b[0m\u001b[0;34m\u001b[0m\u001b[0;34m\u001b[0m\u001b[0m\n\u001b[0m\u001b[1;32m    551\u001b[0m         \u001b[0;32mfor\u001b[0m \u001b[0mhook\u001b[0m \u001b[0;32min\u001b[0m \u001b[0mself\u001b[0m\u001b[0;34m.\u001b[0m\u001b[0m_forward_hooks\u001b[0m\u001b[0;34m.\u001b[0m\u001b[0mvalues\u001b[0m\u001b[0;34m(\u001b[0m\u001b[0;34m)\u001b[0m\u001b[0;34m:\u001b[0m\u001b[0;34m\u001b[0m\u001b[0;34m\u001b[0m\u001b[0m\n\u001b[1;32m    552\u001b[0m             \u001b[0mhook_result\u001b[0m \u001b[0;34m=\u001b[0m \u001b[0mhook\u001b[0m\u001b[0;34m(\u001b[0m\u001b[0mself\u001b[0m\u001b[0;34m,\u001b[0m \u001b[0minput\u001b[0m\u001b[0;34m,\u001b[0m \u001b[0mresult\u001b[0m\u001b[0;34m)\u001b[0m\u001b[0;34m\u001b[0m\u001b[0;34m\u001b[0m\u001b[0m\n",
            "\u001b[0;32m/usr/local/lib/python3.6/dist-packages/torch/nn/modules/linear.py\u001b[0m in \u001b[0;36mforward\u001b[0;34m(self, input)\u001b[0m\n\u001b[1;32m     85\u001b[0m \u001b[0;34m\u001b[0m\u001b[0m\n\u001b[1;32m     86\u001b[0m     \u001b[0;32mdef\u001b[0m \u001b[0mforward\u001b[0m\u001b[0;34m(\u001b[0m\u001b[0mself\u001b[0m\u001b[0;34m,\u001b[0m \u001b[0minput\u001b[0m\u001b[0;34m)\u001b[0m\u001b[0;34m:\u001b[0m\u001b[0;34m\u001b[0m\u001b[0;34m\u001b[0m\u001b[0m\n\u001b[0;32m---> 87\u001b[0;31m         \u001b[0;32mreturn\u001b[0m \u001b[0mF\u001b[0m\u001b[0;34m.\u001b[0m\u001b[0mlinear\u001b[0m\u001b[0;34m(\u001b[0m\u001b[0minput\u001b[0m\u001b[0;34m,\u001b[0m \u001b[0mself\u001b[0m\u001b[0;34m.\u001b[0m\u001b[0mweight\u001b[0m\u001b[0;34m,\u001b[0m \u001b[0mself\u001b[0m\u001b[0;34m.\u001b[0m\u001b[0mbias\u001b[0m\u001b[0;34m)\u001b[0m\u001b[0;34m\u001b[0m\u001b[0;34m\u001b[0m\u001b[0m\n\u001b[0m\u001b[1;32m     88\u001b[0m \u001b[0;34m\u001b[0m\u001b[0m\n\u001b[1;32m     89\u001b[0m     \u001b[0;32mdef\u001b[0m \u001b[0mextra_repr\u001b[0m\u001b[0;34m(\u001b[0m\u001b[0mself\u001b[0m\u001b[0;34m)\u001b[0m\u001b[0;34m:\u001b[0m\u001b[0;34m\u001b[0m\u001b[0;34m\u001b[0m\u001b[0m\n",
            "\u001b[0;32m/usr/local/lib/python3.6/dist-packages/torch/nn/functional.py\u001b[0m in \u001b[0;36mlinear\u001b[0;34m(input, weight, bias)\u001b[0m\n\u001b[1;32m   1610\u001b[0m         \u001b[0mret\u001b[0m \u001b[0;34m=\u001b[0m \u001b[0mtorch\u001b[0m\u001b[0;34m.\u001b[0m\u001b[0maddmm\u001b[0m\u001b[0;34m(\u001b[0m\u001b[0mbias\u001b[0m\u001b[0;34m,\u001b[0m \u001b[0minput\u001b[0m\u001b[0;34m,\u001b[0m \u001b[0mweight\u001b[0m\u001b[0;34m.\u001b[0m\u001b[0mt\u001b[0m\u001b[0;34m(\u001b[0m\u001b[0;34m)\u001b[0m\u001b[0;34m)\u001b[0m\u001b[0;34m\u001b[0m\u001b[0;34m\u001b[0m\u001b[0m\n\u001b[1;32m   1611\u001b[0m     \u001b[0;32melse\u001b[0m\u001b[0;34m:\u001b[0m\u001b[0;34m\u001b[0m\u001b[0;34m\u001b[0m\u001b[0m\n\u001b[0;32m-> 1612\u001b[0;31m         \u001b[0moutput\u001b[0m \u001b[0;34m=\u001b[0m \u001b[0minput\u001b[0m\u001b[0;34m.\u001b[0m\u001b[0mmatmul\u001b[0m\u001b[0;34m(\u001b[0m\u001b[0mweight\u001b[0m\u001b[0;34m.\u001b[0m\u001b[0mt\u001b[0m\u001b[0;34m(\u001b[0m\u001b[0;34m)\u001b[0m\u001b[0;34m)\u001b[0m\u001b[0;34m\u001b[0m\u001b[0;34m\u001b[0m\u001b[0m\n\u001b[0m\u001b[1;32m   1613\u001b[0m         \u001b[0;32mif\u001b[0m \u001b[0mbias\u001b[0m \u001b[0;32mis\u001b[0m \u001b[0;32mnot\u001b[0m \u001b[0;32mNone\u001b[0m\u001b[0;34m:\u001b[0m\u001b[0;34m\u001b[0m\u001b[0;34m\u001b[0m\u001b[0m\n\u001b[1;32m   1614\u001b[0m             \u001b[0moutput\u001b[0m \u001b[0;34m+=\u001b[0m \u001b[0mbias\u001b[0m\u001b[0;34m\u001b[0m\u001b[0;34m\u001b[0m\u001b[0m\n",
            "\u001b[0;31mRuntimeError\u001b[0m: size mismatch, m1: [64 x 8], m2: [512 x 32] at /pytorch/aten/src/TH/generic/THTensorMath.cpp:41"
          ]
        }
      ]
    },
    {
      "cell_type": "markdown",
      "metadata": {
        "id": "wFx1p_YUhKpD",
        "colab_type": "text"
      },
      "source": [
        "What is missing there is the **reshaping step** from a 8-channel 8x8 image to a 512-element, 1D vector.\n",
        "\n",
        "We could use `view` on the output of the last `nn.MaxPool2d` but we dont have visibility of output of each module when we use `nn.Sequential`."
      ]
    },
    {
      "cell_type": "markdown",
      "metadata": {
        "id": "iiW0_iJNhiet",
        "colab_type": "text"
      },
      "source": [
        "# Subclassing nn.Module"
      ]
    },
    {
      "cell_type": "markdown",
      "metadata": {
        "id": "OTHF_tcEL2hq",
        "colab_type": "text"
      },
      "source": [
        "we need some flexibility therefore we need to subclass. In order to subclass, at the minimum we need to define the `forward` function"
      ]
    },
    {
      "cell_type": "code",
      "metadata": {
        "id": "PeULIn1RMBcE",
        "colab_type": "code",
        "colab": {}
      },
      "source": [
        "class Net(nn.Module):\n",
        "  def __init__(self):\n",
        "    super(Net, self).__init__()\n",
        "    self.conv1 = nn.Conv2d(3, 16, kernel_size=3, padding=1)\n",
        "    self.act1 = nn.Tanh()\n",
        "    self.pool1 = nn.MaxPool2d(2)\n",
        "    self.conv2 = nn.Conv2d(16, 8, kernel_size=3, padding=1)\n",
        "    self.act2 = nn.Tanh()\n",
        "    self.pool2 = nn.MaxPool2d(2)\n",
        "    self.fc1 = nn.Linear(8 * 8 * 8, 32)\n",
        "    self.act3 = nn.Tanh()\n",
        "    self.fc2 = nn.Linear(32, 2)\n",
        "\n",
        "  def forward(self, x):\n",
        "    out = self.pool1(self.act1(self.conv1(x)))\n",
        "    out = self.pool2(self.act2(self.conv2(out)))\n",
        "    out = self.view(-1, 8 * 8 * 8) # The reshape. we have been missing\n",
        "    out = self.act3(self.fc1(out))\n",
        "    out = self.fc2(out)\n",
        "    return out"
      ],
      "execution_count": 12,
      "outputs": []
    },
    {
      "cell_type": "markdown",
      "metadata": {
        "id": "Cx_UPHUKNN5y",
        "colab_type": "text"
      },
      "source": [
        "This `Net` class is equivalent to the `nn.Sequential` model we build in terms of submodules, by writing the `forward` function explicitly, we were able to manipulate the output of `self.pool3` directly and call `view` om it to turn it into a BxN vector. Note that we leave the batch dimension as -1 in the call to view, since in principle we don't know how many samples there'll be in the batch."
      ]
    },
    {
      "cell_type": "code",
      "metadata": {
        "id": "VNxds2SuN5ne",
        "colab_type": "code",
        "colab": {}
      },
      "source": [
        "model = Net()"
      ],
      "execution_count": 13,
      "outputs": []
    },
    {
      "cell_type": "code",
      "metadata": {
        "id": "C17-szgZTCvF",
        "colab_type": "code",
        "colab": {
          "base_uri": "https://localhost:8080/",
          "height": 34
        },
        "outputId": "3ce3666f-4189-43ff-83af-95aba20a3024"
      },
      "source": [
        "numel_list = [p.numel() for p in model.parameters()]\n",
        "sum(numel_list), numel_list"
      ],
      "execution_count": 14,
      "outputs": [
        {
          "output_type": "execute_result",
          "data": {
            "text/plain": [
              "(18090, [432, 16, 1152, 8, 16384, 32, 64, 2])"
            ]
          },
          "metadata": {
            "tags": []
          },
          "execution_count": 14
        }
      ]
    },
    {
      "cell_type": "markdown",
      "metadata": {
        "id": "C55w2zCPTIZh",
        "colab_type": "text"
      },
      "source": [
        "It would appear as a waste to be registering submodules with no parameters such as `nn.Tanh` and `nn.MaxPool2d`. We can call those in the `forward` function. PyToch has functional counterparts for every `nn` module. \"Functional\" meaning no internal state or whose output value is solely and fully determined by the value input arguments."
      ]
    },
    {
      "cell_type": "code",
      "metadata": {
        "id": "fbAn9gb3XM7Z",
        "colab_type": "code",
        "colab": {}
      },
      "source": [
        "class Net(nn.Module):\n",
        "  def __init__(self):\n",
        "    super(Net, self).__init__()\n",
        "    self.conv1 = nn.Conv2d(3, 16, kernel_size=3, padding=1)\n",
        "    self.conv2 = nn.Conv2d(16, 8, kernel_size=3, padding=1)\n",
        "    self.fc1 = nn.Linear(8 * 8 * 8, 32)\n",
        "    self.fc2 = nn.Linear(32, 2)\n",
        "\n",
        "  def forward(self, x):\n",
        "    out = F.max_pool2d(torch.tanh(self.conv1(x)), 2)\n",
        "    out = F.max_pool2d(torch.tanh(self.conv2(out)), 2)\n",
        "    out = out.view(-1, 8 * 8 * 8)\n",
        "    out = torch.tanh(self.fc1(out))\n",
        "    out = self.fc2(out)\n",
        "    return out"
      ],
      "execution_count": 15,
      "outputs": []
    },
    {
      "cell_type": "code",
      "metadata": {
        "id": "G8zGNk6QYMHO",
        "colab_type": "code",
        "colab": {
          "base_uri": "https://localhost:8080/",
          "height": 34
        },
        "outputId": "9628a693-2df0-4df6-ef76-8240c38e01d5"
      },
      "source": [
        "model = Net()\n",
        "numel_list = [p.numel() for p in model.parameters()]\n",
        "sum(numel_list), numel_list"
      ],
      "execution_count": 16,
      "outputs": [
        {
          "output_type": "execute_result",
          "data": {
            "text/plain": [
              "(18090, [432, 16, 1152, 8, 16384, 32, 64, 2])"
            ]
          },
          "metadata": {
            "tags": []
          },
          "execution_count": 16
        }
      ]
    },
    {
      "cell_type": "code",
      "metadata": {
        "id": "3GcwNlFXYpvw",
        "colab_type": "code",
        "colab": {
          "base_uri": "https://localhost:8080/",
          "height": 34
        },
        "outputId": "3f3f9184-db72-4504-bc1d-309eb446918d"
      },
      "source": [
        "# Double check our model runs\n",
        "model(img.unsqueeze(0))"
      ],
      "execution_count": 17,
      "outputs": [
        {
          "output_type": "execute_result",
          "data": {
            "text/plain": [
              "tensor([[ 0.1176, -0.1158]], grad_fn=<AddmmBackward>)"
            ]
          },
          "metadata": {
            "tags": []
          },
          "execution_count": 17
        }
      ]
    },
    {
      "cell_type": "markdown",
      "metadata": {
        "id": "50F0uxd4ZTAL",
        "colab_type": "text"
      },
      "source": [
        "We've got 2 numbers out! Information flows correctly. "
      ]
    },
    {
      "cell_type": "markdown",
      "metadata": {
        "id": "YFbWBX9-Zu5s",
        "colab_type": "text"
      },
      "source": [
        "# Training our Convnet"
      ]
    },
    {
      "cell_type": "code",
      "metadata": {
        "id": "LhIz5IJOzsR6",
        "colab_type": "code",
        "colab": {
          "base_uri": "https://localhost:8080/",
          "height": 34
        },
        "outputId": "df17ba44-ba53-43f7-ef7e-dea7aee0b5a7"
      },
      "source": [
        "device = torch.device('cuda') if torch.cuda.is_available() else torch.device('cpu')\n",
        "print(f\"Training on device {device}.\")"
      ],
      "execution_count": 38,
      "outputs": [
        {
          "output_type": "stream",
          "text": [
            "Training on device cuda.\n"
          ],
          "name": "stdout"
        }
      ]
    },
    {
      "cell_type": "code",
      "metadata": {
        "id": "a6l-IBWNZyIe",
        "colab_type": "code",
        "colab": {}
      },
      "source": [
        "# Writing the training loop\n",
        "import datetime\n",
        "\n",
        "def training_loop(n_epochs, optimizer, model, loss_fn, train_loader):\n",
        "  for epoch in range(1, n_epochs + 1):\n",
        "    loss_train = 0.0\n",
        "    for imgs, labels in train_loader:\n",
        "      imgs = imgs.to(device=device)\n",
        "      labels = labels.to(device=device)\n",
        "      outputs = model(imgs)\n",
        "      loss = loss_fn(outputs, labels)\n",
        "\n",
        "      optimizer.zero_grad()\n",
        "      loss.backward()\n",
        "      optimizer.step()\n",
        "\n",
        "      loss_train += loss.item()\n",
        "\n",
        "    if epoch == 1 or epoch % 10 == 0:\n",
        "      print('{} Epoch {}, Training loss {}'.format(\n",
        "          datetime.datetime.now(), epoch, float(loss_train)))\n"
      ],
      "execution_count": 39,
      "outputs": []
    },
    {
      "cell_type": "code",
      "metadata": {
        "id": "Pid1DcqOalV8",
        "colab_type": "code",
        "colab": {
          "base_uri": "https://localhost:8080/",
          "height": 204
        },
        "outputId": "88fed928-532d-4069-bfc8-7de869c2e080"
      },
      "source": [
        "# Train our model\n",
        "train_loader = torch.utils.data.DataLoader(cifar2, batch_size=64, shuffle=True)\n",
        "\n",
        "model = Net().to(device=device)\n",
        "optimizer = optim.SGD(model.parameters(), lr=1e-2)\n",
        "loss_fn = nn.CrossEntropyLoss()\n",
        "\n",
        "training_loop(\n",
        "    n_epochs = 100,\n",
        "    optimizer = optimizer, \n",
        "    model = model,\n",
        "    loss_fn = loss_fn,\n",
        "    train_loader = train_loader,\n",
        ")"
      ],
      "execution_count": 40,
      "outputs": [
        {
          "output_type": "stream",
          "text": [
            "2020-06-27 03:37:41.647184 Epoch 1, Training loss 21.67556913383305\n",
            "2020-06-27 03:37:44.675656 Epoch 10, Training loss 0.2099430188536644\n",
            "2020-06-27 03:37:47.987282 Epoch 20, Training loss 0.09772227704524994\n",
            "2020-06-27 03:37:51.349432 Epoch 30, Training loss 0.06313114240765572\n",
            "2020-06-27 03:37:54.740249 Epoch 40, Training loss 0.046441905200481415\n",
            "2020-06-27 03:37:58.058597 Epoch 50, Training loss 0.03664662316441536\n",
            "2020-06-27 03:38:01.399238 Epoch 60, Training loss 0.030214853584766388\n",
            "2020-06-27 03:38:04.748245 Epoch 70, Training loss 0.025674592703580856\n",
            "2020-06-27 03:38:08.090368 Epoch 80, Training loss 0.022296961396932602\n",
            "2020-06-27 03:38:11.487913 Epoch 90, Training loss 0.019705064594745636\n",
            "2020-06-27 03:38:14.809684 Epoch 100, Training loss 0.017630696296691895\n"
          ],
          "name": "stdout"
        }
      ]
    },
    {
      "cell_type": "code",
      "metadata": {
        "id": "2PPVft6RczWE",
        "colab_type": "code",
        "colab": {}
      },
      "source": [
        "# Look at accuracies on the training and val sets\n",
        "train_loader = torch.utils.data.DataLoader(cifar2, batch_size=64, shuffle=False)\n",
        "val_loader = torch.utils.data.DataLoader(cifar2_val, batch_size=64, shuffle=False)\n",
        "all_acc_dict = collections.OrderedDict()\n",
        "\n",
        "def validate(model, training_loader, val_loader):\n",
        "  accdict = {}\n",
        "  for name, loader in [(\"train\", train_loader), (\"val\", val_loader)]:\n",
        "    correct = 0\n",
        "    total = 0\n",
        "\n",
        "    with torch.no_grad():\n",
        "      for imgs, labels in loader:\n",
        "        imgs = imgs.to(device=device)\n",
        "        labels = labels.to(device=device)\n",
        "        outputs = model(imgs)\n",
        "        _, predicted = torch.max(outputs, dim=1) # This will give us the index of the highest value in output\n",
        "        total += labels.shape[0]\n",
        "        correct += int((predicted == labels).sum())\n",
        "    print(\"Accuracy {}: {:.2f}\".format(name, correct / total))\n",
        "    accdict[name] = correct / total\n",
        "  return accdict"
      ],
      "execution_count": 48,
      "outputs": []
    },
    {
      "cell_type": "code",
      "metadata": {
        "id": "eOlccOpF2uTS",
        "colab_type": "code",
        "colab": {
          "base_uri": "https://localhost:8080/",
          "height": 51
        },
        "outputId": "bf52b6ca-fdd6-486a-c519-14164bc30a9f"
      },
      "source": [
        "all_acc_dict[\"baseline\"] = validate(model, train_loader, val_loader)"
      ],
      "execution_count": 49,
      "outputs": [
        {
          "output_type": "stream",
          "text": [
            "Accuracy train: 1.00\n",
            "Accuracy val: 1.00\n"
          ],
          "name": "stdout"
        }
      ]
    },
    {
      "cell_type": "code",
      "metadata": {
        "id": "oLd7letGgWu1",
        "colab_type": "code",
        "colab": {}
      },
      "source": [
        "torch.save(model.state_dict(), data_path + 'birds_vs_planes.pt')"
      ],
      "execution_count": 50,
      "outputs": []
    },
    {
      "cell_type": "markdown",
      "metadata": {
        "id": "_wLyt9PfhI7W",
        "colab_type": "text"
      },
      "source": [
        "The `birds_vs_planes.pt` file now contains all the parametes of the `model`, that is weights and biases for the two convolution modules and the two linear modules.\n",
        "\n",
        "So, no structure, just the weights. This means that when we deploy the model in production for our friend, we'll need to keep the model class handy, create an instance and then load parameters back into it:"
      ]
    },
    {
      "cell_type": "code",
      "metadata": {
        "id": "v1ThCarkiMdo",
        "colab_type": "code",
        "colab": {
          "base_uri": "https://localhost:8080/",
          "height": 34
        },
        "outputId": "2d7cb7d6-9943-4aa1-ba76-21eb5269e904"
      },
      "source": [
        "loaded_model = Net().to(device=device)\n",
        "loaded_model.load_state_dict(torch.load('../data-unversioned/p1ch6/birds_vs_planes.pt', map_location=device))"
      ],
      "execution_count": 51,
      "outputs": [
        {
          "output_type": "execute_result",
          "data": {
            "text/plain": [
              "<All keys matched successfully>"
            ]
          },
          "metadata": {
            "tags": []
          },
          "execution_count": 51
        }
      ]
    },
    {
      "cell_type": "code",
      "metadata": {
        "id": "4MSCUwG01oqx",
        "colab_type": "code",
        "colab": {}
      },
      "source": [
        "#train_loader = torch.utils.data.DataLoader(cifar2, batch_size=64, shuffle=True)\n",
        "train_loader = torch.utils.data.DataLoader(cifar2, batch_size=64, shuffle=False)\n",
        "val_loader = torch.utils.data.DataLoader(cifar2_val, batch_size=64, shuffle=False)"
      ],
      "execution_count": 61,
      "outputs": []
    },
    {
      "cell_type": "markdown",
      "metadata": {
        "id": "NHFzGKnJigra",
        "colab_type": "text"
      },
      "source": [
        "# Implementing fundamentals"
      ]
    },
    {
      "cell_type": "markdown",
      "metadata": {
        "id": "l521-PHo24ni",
        "colab_type": "text"
      },
      "source": [
        "## Width"
      ]
    },
    {
      "cell_type": "markdown",
      "metadata": {
        "id": "Myj2xAik29xG",
        "colab_type": "text"
      },
      "source": [
        "Width of the network, that is the number of neurons per layer, or channels per convolution"
      ]
    },
    {
      "cell_type": "markdown",
      "metadata": {
        "id": "uOsMzY0V3jYI",
        "colab_type": "text"
      },
      "source": [
        "We can make our model wider very easily."
      ]
    },
    {
      "cell_type": "markdown",
      "metadata": {
        "id": "V_YZ7jtG3m0t",
        "colab_type": "text"
      },
      "source": [
        "**We just specify a larger number of output channels in the first convolution, and increase the subsequent layers accordingly**"
      ]
    },
    {
      "cell_type": "code",
      "metadata": {
        "id": "ZWt96Ipr3ysZ",
        "colab_type": "code",
        "colab": {}
      },
      "source": [
        "class NetWidth(nn.Module):\n",
        "  def __init__(self):\n",
        "    super(NetWidth, self).__init__()\n",
        "    self.conv1 = nn.Conv2d(3, 32, kernel_size=3, padding=1)\n",
        "    self.conv2 = nn.Conv2d(32, 16, kernel_size=3, padding=1)\n",
        "    self.fc1 = nn.Linear(8 * 8 * 16, 32)\n",
        "    self.fc2 = nn.Linear(32, 2)\n",
        "\n",
        "  def forward(self, x):\n",
        "    out = F.max_pool2d(torch.tanh(self.conv1(x)), 2)\n",
        "    out = F.max_pool2d(torch.tanh(self.conv2(out)),2)\n",
        "    out = out.view(-1, 8 * 8 * 16)\n",
        "    out = torch.tanh(self.fc1(out))\n",
        "    out = self.fc2(out)\n",
        "    return out"
      ],
      "execution_count": 62,
      "outputs": []
    },
    {
      "cell_type": "code",
      "metadata": {
        "id": "PWX8PnJa1OrH",
        "colab_type": "code",
        "colab": {
          "base_uri": "https://localhost:8080/",
          "height": 255
        },
        "outputId": "25d63945-c1ef-45ed-9e53-b32c951bf538"
      },
      "source": [
        "model = NetWidth().to(device=device)\n",
        "optimizer = optim.SGD(model.parameters(), lr=1e-2)\n",
        "loss_fn = nn.CrossEntropyLoss()\n",
        "\n",
        "training_loop(\n",
        "    n_epochs = 100,\n",
        "    optimizer = optimizer,\n",
        "    model = model,\n",
        "    loss_fn = loss_fn,\n",
        "    train_loader = train_loader,\n",
        ")\n",
        "\n",
        "validate(model, train_loader, val_loader)"
      ],
      "execution_count": 64,
      "outputs": [
        {
          "output_type": "stream",
          "text": [
            "2020-06-27 03:46:18.740792 Epoch 1, Training loss 12.701901206746697\n",
            "2020-06-27 03:46:22.185796 Epoch 10, Training loss 0.17487512528896332\n",
            "2020-06-27 03:46:26.003539 Epoch 20, Training loss 0.08373378589749336\n",
            "2020-06-27 03:46:29.844016 Epoch 30, Training loss 0.05496018007397652\n",
            "2020-06-27 03:46:33.711698 Epoch 40, Training loss 0.04087359830737114\n",
            "2020-06-27 03:46:37.570852 Epoch 50, Training loss 0.0325222872197628\n",
            "2020-06-27 03:46:41.418088 Epoch 60, Training loss 0.026998203247785568\n",
            "2020-06-27 03:46:45.268896 Epoch 70, Training loss 0.02307383343577385\n",
            "2020-06-27 03:46:49.177256 Epoch 80, Training loss 0.02014296129345894\n",
            "2020-06-27 03:46:53.060943 Epoch 90, Training loss 0.01787097379565239\n",
            "2020-06-27 03:46:56.897364 Epoch 100, Training loss 0.01605827361345291\n",
            "Accuracy train: 1.00\n",
            "Accuracy val: 1.00\n"
          ],
          "name": "stdout"
        },
        {
          "output_type": "execute_result",
          "data": {
            "text/plain": [
              "{'train': 1.0, 'val': 1.0}"
            ]
          },
          "metadata": {
            "tags": []
          },
          "execution_count": 64
        }
      ]
    },
    {
      "cell_type": "markdown",
      "metadata": {
        "id": "wgGBjuss4wOA",
        "colab_type": "text"
      },
      "source": [
        "If we want to avoid hard-coding numbers in the definition of the model, we can easily **pass a parameter to `init` and parameterize width, taking care to also parameterize the call to `view` in the forward function**."
      ]
    },
    {
      "cell_type": "code",
      "metadata": {
        "id": "fgJHiBEz5OP6",
        "colab_type": "code",
        "colab": {}
      },
      "source": [
        "class NetWidth(nn.Module):\n",
        "  def __init__(self, n_chans1=32):\n",
        "    super().__init__()\n",
        "    self.n_chans1 = n_chans1\n",
        "    self.conv1 = nn.Conv2d(3, n_chans1, kernel_size=3, padding=1)\n",
        "    self.conv2 = nn.Conv2d(n_chans1, n_chans1 // 2, kernel_size=3, padding=1) # floor division\n",
        "    self.fc1 = nn.Linear(8 * 8 * n_chans1 // 2, 32)\n",
        "    self.fc2 = nn.Linear(32, 2)\n",
        "\n",
        "  def forward(self, x):\n",
        "    out = F.max_pool2d(torch.tanh(self.conv1(x)), 2)\n",
        "    out = F.max_pool2d(torch.tanh(self.conv2(out)), 2)\n",
        "    out = out.view(-1, 8 * 8 * self.n_chans1 // 2)\n",
        "    out = torch.tanh(self.fc1(out))\n",
        "    out = self.fc2(out)\n",
        "    return out\n",
        "\n",
        "model = NetWidth(n_chans1=32)\n"
      ],
      "execution_count": 65,
      "outputs": []
    },
    {
      "cell_type": "code",
      "metadata": {
        "id": "3l-Avns-3rFK",
        "colab_type": "code",
        "colab": {
          "base_uri": "https://localhost:8080/",
          "height": 85
        },
        "outputId": "4bf2988b-7496-4c0e-d3b3-26c933fd0559"
      },
      "source": [
        "model = NetWidth(n_chans1=32).to(device=device)\n",
        "optimizer = optim.SGD(model.parameters(), lr=1e-2)\n",
        "loss_fn = nn.CrossEntropyLoss()\n",
        "\n",
        "training_loop(\n",
        "    n_epochs = 11,\n",
        "    optimizer = optimizer,\n",
        "    model = model,\n",
        "    loss_fn = loss_fn,\n",
        "    train_loader = train_loader,\n",
        ")\n",
        "\n",
        "all_acc_dict['width'] = validate(model, train_loader, val_loader)\n"
      ],
      "execution_count": 66,
      "outputs": [
        {
          "output_type": "stream",
          "text": [
            "2020-06-27 03:47:29.634067 Epoch 1, Training loss 15.045918611809611\n",
            "2020-06-27 03:47:33.066622 Epoch 10, Training loss 0.20126965828239918\n",
            "Accuracy train: 1.00\n",
            "Accuracy val: 1.00\n"
          ],
          "name": "stdout"
        }
      ]
    },
    {
      "cell_type": "markdown",
      "metadata": {
        "id": "NvL_T2ra6U_N",
        "colab_type": "text"
      },
      "source": [
        "The numbers specifying channels and features for each layer are directly related to the number of parameters in a model, they increase the capacity of the model. "
      ]
    },
    {
      "cell_type": "code",
      "metadata": {
        "id": "Ig-PpCZSishj",
        "colab_type": "code",
        "colab": {
          "base_uri": "https://localhost:8080/",
          "height": 34
        },
        "outputId": "b9cdf44c-4416-4dab-d14f-1985087df0b1"
      },
      "source": [
        "sum([p.numel() for p in model.parameters()])"
      ],
      "execution_count": 67,
      "outputs": [
        {
          "output_type": "execute_result",
          "data": {
            "text/plain": [
              "38386"
            ]
          },
          "metadata": {
            "tags": []
          },
          "execution_count": 67
        }
      ]
    },
    {
      "cell_type": "markdown",
      "metadata": {
        "id": "UDXsWLpRiwnG",
        "colab_type": "text"
      },
      "source": [
        "The greater the capacity, the more **variability** in the inputs the model will be able to manage, but at the same time the more likely **overfitting** will be, since the model can leverage a greater number of paramters to memorize unessential aspects of the input."
      ]
    },
    {
      "cell_type": "markdown",
      "metadata": {
        "id": "IDxgA6ySjKaE",
        "colab_type": "text"
      },
      "source": [
        "Ways to combat overfitting:\n",
        "1. Increase sample size\n",
        "2. Augment existing data"
      ]
    },
    {
      "cell_type": "markdown",
      "metadata": {
        "id": "OgQYclN6jS_T",
        "colab_type": "text"
      },
      "source": [
        "Few more tricks:\n",
        "\n",
        "### **Regularization** \n",
        "Stabilize training by **adding a regularization term to the loss**. It is a penalty on larger values of the weights, so that model weights tend to be small and bounded.\n",
        "\n",
        "This makes the loss smoother. The most popular regularization terms is L2 which is the sum of squares of all weights in the model. and L1 ( sum of the absolute values of all weights in the model. **Both of them are scaled by a (small) factor, which is a hyperparameter we set before training.**"
      ]
    },
    {
      "cell_type": "markdown",
      "metadata": {
        "id": "iCi4_l0Gj9RP",
        "colab_type": "text"
      },
      "source": [
        "L2 regularization is also called weight decay.\n",
        "\n",
        "Adding L2 regularization to the loss functions is equivalent to decreasing each weight by an amount proportional to **its current value** during the optimization step."
      ]
    },
    {
      "cell_type": "code",
      "metadata": {
        "id": "P386jmoSksSu",
        "colab_type": "code",
        "colab": {}
      },
      "source": [
        "# Implement regularization in the training loop\n",
        "def training_loop_l2reg(n_epochs, optimizer, model, loss_fn, train_loader):\n",
        "  for epoch in range(1, n_epochs + 1):\n",
        "    loss_train = 0.0\n",
        "    for imgs, labels in train_loader:\n",
        "      imgs = imgs.to(device=device)\n",
        "      labels = labels.to(device=device)\n",
        "      outputs = model(imgs)\n",
        "      loss = loss_fn(outputs, labels)\n",
        "\n",
        "      l2_lambda = 0.0\n",
        "      l2_norm = sum(p.pow(2.0).sum() for p in model.parameters())\n",
        "      loss = loss + l2_lambda * l2_norm\n",
        "\n",
        "      optimizer.zero_grad()\n",
        "      loss.backward()\n",
        "      optimizer.step()\n",
        "\n",
        "      loss_train += loss.item()\n",
        "    if epoch == 1 or epoch % 10 == 0:\n",
        "      print('{} Epoch {}, Training loss {}'.format(\n",
        "          datetime.datetime.now(), epoch, loss_train/len(train_loader)))\n",
        "\n",
        "# replace pow(2.0) with abs() for L1 regularization"
      ],
      "execution_count": 68,
      "outputs": []
    },
    {
      "cell_type": "code",
      "metadata": {
        "id": "la8XlITn5PRK",
        "colab_type": "code",
        "colab": {
          "base_uri": "https://localhost:8080/",
          "height": 238
        },
        "outputId": "d359c015-87e6-43dc-9224-9d83c6354f25"
      },
      "source": [
        "model = Net().to(device=device)\n",
        "optimizer = optim.SGD(model.parameters(), lr=1e-2)\n",
        "loss_fn = nn.CrossEntropyLoss()\n",
        "\n",
        "training_loop_l2reg(\n",
        "    n_epochs = 100,\n",
        "    optimizer = optimizer,\n",
        "    model = model,\n",
        "    loss_fn = loss_fn,\n",
        "    train_loader = train_loader,\n",
        ")\n",
        "\n",
        "all_acc_dict[\"l2_reg\"] = validate(model, train_loader, val_loader)"
      ],
      "execution_count": 70,
      "outputs": [
        {
          "output_type": "stream",
          "text": [
            "2020-06-27 03:51:23.528419 Epoch 1, Training loss 0.08115141928955248\n",
            "2020-06-27 03:51:27.969339 Epoch 10, Training loss 0.0010817234588276809\n",
            "2020-06-27 03:51:32.900052 Epoch 20, Training loss 0.0005229609027789657\n",
            "2020-06-27 03:51:37.857072 Epoch 30, Training loss 0.000345058834097188\n",
            "2020-06-27 03:51:42.749320 Epoch 40, Training loss 0.00025744724330628756\n",
            "2020-06-27 03:51:47.656280 Epoch 50, Training loss 0.00020528107786634166\n",
            "2020-06-27 03:51:52.565983 Epoch 60, Training loss 0.00017066359235222932\n",
            "2020-06-27 03:51:57.446189 Epoch 70, Training loss 0.00014601142448224838\n",
            "2020-06-27 03:52:02.367739 Epoch 80, Training loss 0.00012756226833458918\n",
            "2020-06-27 03:52:07.288771 Epoch 90, Training loss 0.0001132382661294026\n",
            "2020-06-27 03:52:12.373885 Epoch 100, Training loss 0.00010179201508783231\n",
            "Accuracy train: 1.00\n",
            "Accuracy val: 1.00\n"
          ],
          "name": "stdout"
        }
      ]
    },
    {
      "cell_type": "markdown",
      "metadata": {
        "id": "jPRSRlj7mgdP",
        "colab_type": "text"
      },
      "source": [
        "\n",
        "The `SGD` optimizer in PyTorch already has `weight_decay` parameter."
      ]
    },
    {
      "cell_type": "markdown",
      "metadata": {
        "id": "oG0t6Q6smnpV",
        "colab_type": "text"
      },
      "source": [
        "### **Dropout**\n",
        "\n",
        "Zero out a random fraction of outputs from neurons across the network, where the randomization happens at each training iteration."
      ]
    },
    {
      "cell_type": "markdown",
      "metadata": {
        "id": "YXfLRttYm5yt",
        "colab_type": "text"
      },
      "source": [
        "This procedure effectively generates slightly different models with different neurons topologies at each iteration, giving less chance to neurons in the model to coordinate in the memorization process happening during overfitting.\n",
        "\n",
        "Another point of view is that dropout perturbs the features being generated by the model, exerting an effect that is close to augmentation, but this time throughout the network."
      ]
    },
    {
      "cell_type": "markdown",
      "metadata": {
        "id": "f-VHGLi0njkN",
        "colab_type": "text"
      },
      "source": [
        "We can implement dropout in a model by adding a `nn.Dropout` module betwen the non-linear activation function and the linear or convolutional module of the subsqquent layer.\n",
        "\n",
        "As an argument, we need to specify the probability with which inputs will be zeroes out. In case of convolutions we'll use the specialized `nn.Dropout2D` or `nn.Dropout3D`, which zero out entire channels of the input."
      ]
    },
    {
      "cell_type": "code",
      "metadata": {
        "id": "NpWjBEhyoDeq",
        "colab_type": "code",
        "colab": {}
      },
      "source": [
        "# Implement dropout\n",
        "class NetDropout(nn.Module):\n",
        "  def __init__(self, n_chans1=32):\n",
        "    super().__init__()\n",
        "    self.n_chans1 = n_chans1\n",
        "    self.conv1 = nn.Conv2d(3, n_chans1, kernel_size=3, padding=1)\n",
        "    self.conv1_dropout = nn.Dropout2d(p=0.4)\n",
        "    self.conv2 = nn.Conv2d(n_chans1, n_chans1 // 2, kernel_size=3, padding=1)\n",
        "    self.conv2_dropout = nn.Dropout2d(p=0.4)\n",
        "    self.fc1 = nn.Linear(8 * 8 * n_chans1 // 2, 32)\n",
        "    self.fc2 = nn.Linear(32, 2)\n",
        "\n",
        "  def forward(self, x):\n",
        "    out = F.max_pool2d(torch.tanh(self.conv1(x)), 2)\n",
        "    out = self.conv1_dropout(out)\n",
        "    out = F.max_pool2d(torch.tanh(self.conv2(out)),2)\n",
        "    out = self.conv2_dropout(out)\n",
        "    out = out.view(-1, 8 * 8 * self.n_chans1 // 2)\n",
        "    out = torch.tanh(self.fc1(out))\n",
        "    out = self.fc2(out)\n",
        "    return out\n"
      ],
      "execution_count": 75,
      "outputs": []
    },
    {
      "cell_type": "code",
      "metadata": {
        "id": "r1N8dgIKpXRo",
        "colab_type": "code",
        "colab": {
          "base_uri": "https://localhost:8080/",
          "height": 238
        },
        "outputId": "996eb950-7077-43e9-d036-94a4bb94f220"
      },
      "source": [
        "model = NetDropout(n_chans1=32).to(device=device)\n",
        "optimizer = optim.SGD(model.parameters(), lr=1e-2)\n",
        "loss_fn = nn.CrossEntropyLoss()\n",
        "\n",
        "training_loop(\n",
        "    n_epochs = 100,\n",
        "    optimizer = optimizer,\n",
        "    model = model,\n",
        "    loss_fn = loss_fn,\n",
        "    train_loader = train_loader,\n",
        ")\n",
        "all_acc_dict[\"dropout\"] = validate(model, train_loader, val_loader)"
      ],
      "execution_count": 76,
      "outputs": [
        {
          "output_type": "stream",
          "text": [
            "2020-06-27 03:53:25.618074 Epoch 1, Training loss 17.864584689959884\n",
            "2020-06-27 03:53:29.312050 Epoch 10, Training loss 0.2484072456136346\n",
            "2020-06-27 03:53:33.450595 Epoch 20, Training loss 0.10482838749885559\n",
            "2020-06-27 03:53:37.577204 Epoch 30, Training loss 0.07348472252488136\n",
            "2020-06-27 03:53:41.682066 Epoch 40, Training loss 0.05325973266735673\n",
            "2020-06-27 03:53:45.793159 Epoch 50, Training loss 0.043056090362370014\n",
            "2020-06-27 03:53:49.855466 Epoch 60, Training loss 0.04115982260555029\n",
            "2020-06-27 03:53:53.940124 Epoch 70, Training loss 0.028152160346508026\n",
            "2020-06-27 03:53:58.027598 Epoch 80, Training loss 0.02450842224061489\n",
            "2020-06-27 03:54:02.090534 Epoch 90, Training loss 0.06390692293643951\n",
            "2020-06-27 03:54:06.151157 Epoch 100, Training loss 0.06583886407315731\n",
            "Accuracy train: 1.00\n",
            "Accuracy val: 1.00\n"
          ],
          "name": "stdout"
        }
      ]
    },
    {
      "cell_type": "markdown",
      "metadata": {
        "id": "P0bnntCop29W",
        "colab_type": "text"
      },
      "source": [
        "Note that dropout is normally active during training, **while during the evaluation of a trained model in production dropout is bypassed, or equivalently, it is assigned a probability equal to 0.**\n",
        "\n",
        "This is controlled through the `train` property of the `Dropout` module. We recall that PyTorch lets us switch between the two modalities by calling:"
      ]
    },
    {
      "cell_type": "code",
      "metadata": {
        "id": "SwKJex8AphUn",
        "colab_type": "code",
        "colab": {
          "base_uri": "https://localhost:8080/",
          "height": 173
        },
        "outputId": "1ba67897-b8a3-4ac1-b007-ae410b336711"
      },
      "source": [
        "model.train()"
      ],
      "execution_count": 77,
      "outputs": [
        {
          "output_type": "execute_result",
          "data": {
            "text/plain": [
              "NetDropout(\n",
              "  (conv1): Conv2d(3, 32, kernel_size=(3, 3), stride=(1, 1), padding=(1, 1))\n",
              "  (conv1_dropout): Dropout2d(p=0.4, inplace=False)\n",
              "  (conv2): Conv2d(32, 16, kernel_size=(3, 3), stride=(1, 1), padding=(1, 1))\n",
              "  (conv2_dropout): Dropout2d(p=0.4, inplace=False)\n",
              "  (fc1): Linear(in_features=1024, out_features=32, bias=True)\n",
              "  (fc2): Linear(in_features=32, out_features=2, bias=True)\n",
              ")"
            ]
          },
          "metadata": {
            "tags": []
          },
          "execution_count": 77
        }
      ]
    },
    {
      "cell_type": "markdown",
      "metadata": {
        "id": "HRRML3H8pyeI",
        "colab_type": "text"
      },
      "source": [
        "or"
      ]
    },
    {
      "cell_type": "code",
      "metadata": {
        "id": "404rSsZ_qaLG",
        "colab_type": "code",
        "colab": {
          "base_uri": "https://localhost:8080/",
          "height": 173
        },
        "outputId": "195df488-83d8-4bda-c9d9-53f649a3e745"
      },
      "source": [
        "model.eval()"
      ],
      "execution_count": 78,
      "outputs": [
        {
          "output_type": "execute_result",
          "data": {
            "text/plain": [
              "NetDropout(\n",
              "  (conv1): Conv2d(3, 32, kernel_size=(3, 3), stride=(1, 1), padding=(1, 1))\n",
              "  (conv1_dropout): Dropout2d(p=0.4, inplace=False)\n",
              "  (conv2): Conv2d(32, 16, kernel_size=(3, 3), stride=(1, 1), padding=(1, 1))\n",
              "  (conv2_dropout): Dropout2d(p=0.4, inplace=False)\n",
              "  (fc1): Linear(in_features=1024, out_features=32, bias=True)\n",
              "  (fc2): Linear(in_features=32, out_features=2, bias=True)\n",
              ")"
            ]
          },
          "metadata": {
            "tags": []
          },
          "execution_count": 78
        }
      ]
    },
    {
      "cell_type": "markdown",
      "metadata": {
        "id": "ONXbKpD9qbAy",
        "colab_type": "text"
      },
      "source": [
        "### **Batch Normalization**"
      ]
    },
    {
      "cell_type": "markdown",
      "metadata": {
        "id": "3wDAj89GsS94",
        "colab_type": "text"
      },
      "source": [
        "Alternative to dropout. Allows the increase of learning rate, making the training less dependent on initialization and act as a regularizer."
      ]
    },
    {
      "cell_type": "markdown",
      "metadata": {
        "id": "DDQvfZMDsjya",
        "colab_type": "text"
      },
      "source": [
        "Idea behind it: **Rescale the inputs to the activations of the network so that minibatches have a certain desireable distribution.** Recalling the mechanic of learning and the role of non-linear activation functions, this helps avoiding that the inputs to activations functions are too far into in the saturateed portion of the function, thereby killing gradients and slowing training altogether."
      ]
    },
    {
      "cell_type": "markdown",
      "metadata": {
        "id": "u32mQSTgtAaV",
        "colab_type": "text"
      },
      "source": [
        "In practical terms, **batch norm shifts and scales an intermediate input using the mean and standard deviation collected at the intermediate location over the samples of the minibatch.** The regularization effect is a result of the fact that an individual sample and its downstream activations are always seen by the model shifted and scaled depending on the statistics across the randomly extracted minibatch. This is in itself a form of principled augmentation. The paper suggests that when using batch normalization eliminates or at least alleviates the need for dropout."
      ]
    },
    {
      "cell_type": "markdown",
      "metadata": {
        "id": "SlJa5nHZtxO3",
        "colab_type": "text"
      },
      "source": [
        "Batch norm in PyTorch is provided through the `nn.BatchNorm1d, 2d or 3d` modules according to the **dimensionality of the input**. Since the aim for batch normalization is to rescale the inputs of the activations, the natural location is after the linear transformation (convolution in this case) and the activation."
      ]
    },
    {
      "cell_type": "code",
      "metadata": {
        "id": "NK7xlvsruI7A",
        "colab_type": "code",
        "colab": {}
      },
      "source": [
        "# Batch norm implementation\n",
        "class NetBatchNorm(nn.Module):\n",
        "  def __init__(self, n_chans1=32):\n",
        "    super().__init__()\n",
        "    self.n_chans1 = n_chans1\n",
        "    self.conv1 = nn.Conv2d(3, n_chans1, kernel_size=3, padding=1)\n",
        "    self.conv1_batchnorm = nn.BatchNorm2d(num_features=n_chans1)\n",
        "    self.conv2 = nn.Conv2d(n_chans1, n_chans1 // 2, kernel_size=3, padding=1)\n",
        "    self.conv2_batchnorm = nn.BatchNorm2d(num_features= n_chans1 // 2)\n",
        "    self.fc1 = nn.Linear(8 * 8 * n_chans1 // 2, 32)\n",
        "    self.fc2 = nn.Linear(32, 2)\n",
        "\n",
        "  def forward(self, x):\n",
        "    out = self.conv1_batchnorm(self.conv1(x))\n",
        "    out = F.max_pool2d(torch.tanh(out), 2)\n",
        "    out = self.conv2_batchnorm(self.conv2(out))\n",
        "    out = F.max_pool2d(torch.tanh(out), 2)\n",
        "    out = out.view(-1, 8 * 8 * self.n_chans1 // 2)\n",
        "    out = torch.tanh(self.fc1(out))\n",
        "    out = self.fc2(out)\n",
        "    return out"
      ],
      "execution_count": 83,
      "outputs": []
    },
    {
      "cell_type": "code",
      "metadata": {
        "id": "2J-m4yBXv1bo",
        "colab_type": "code",
        "colab": {
          "base_uri": "https://localhost:8080/",
          "height": 238
        },
        "outputId": "31fe9156-5981-4b38-ac52-c40ac607e648"
      },
      "source": [
        "model = NetBatchNorm(n_chans1=32).to(device=device)\n",
        "optimizer = optim.SGD(model.parameters(), lr=1e-2)\n",
        "loss_fn = nn.CrossEntropyLoss()\n",
        "\n",
        "training_loop(\n",
        "    n_epochs = 100,\n",
        "    optimizer = optimizer, \n",
        "    model = model,\n",
        "    loss_fn = loss_fn,\n",
        "    train_loader = train_loader,\n",
        "    )\n",
        "\n",
        "all_acc_dict[\"batch_norm\"] = validate(model, train_loader, val_loader)"
      ],
      "execution_count": 84,
      "outputs": [
        {
          "output_type": "stream",
          "text": [
            "2020-06-27 03:55:11.075565 Epoch 1, Training loss 7.033205991610885\n",
            "2020-06-27 03:55:15.201790 Epoch 10, Training loss 0.15597037598490715\n",
            "2020-06-27 03:55:19.776893 Epoch 20, Training loss 0.077224962413311\n",
            "2020-06-27 03:55:24.368912 Epoch 30, Training loss 0.05141325294971466\n",
            "2020-06-27 03:55:28.984839 Epoch 40, Training loss 0.038555216044187546\n",
            "2020-06-27 03:55:33.588500 Epoch 50, Training loss 0.030849691480398178\n",
            "2020-06-27 03:55:38.183881 Epoch 60, Training loss 0.025714285671710968\n",
            "2020-06-27 03:55:42.784551 Epoch 70, Training loss 0.022045768797397614\n",
            "2020-06-27 03:55:47.408171 Epoch 80, Training loss 0.019293613731861115\n",
            "2020-06-27 03:55:52.018059 Epoch 90, Training loss 0.01715223863720894\n",
            "2020-06-27 03:55:56.614916 Epoch 100, Training loss 0.01543845608830452\n",
            "Accuracy train: 1.00\n",
            "Accuracy val: 1.00\n"
          ],
          "name": "stdout"
        }
      ]
    },
    {
      "cell_type": "markdown",
      "metadata": {
        "id": "87eGgUTp6ZPo",
        "colab_type": "text"
      },
      "source": [
        "Just like dropout, batch norm needs to behave differently during training and inference. In fact, at inference time we want to avoid the output for a specific input to depend on the statistics of the other inputs we're presenting to the model. As such, we need a way to still normalize, but this time ficing the normalization parameters once and for all."
      ]
    },
    {
      "cell_type": "markdown",
      "metadata": {
        "id": "QviMxzyW7VnS",
        "colab_type": "text"
      },
      "source": [
        "As batches are processed, in addition to estimating mean and standard deviation for the current minibatch, PyTorch also updates running estimates for mean and standard deviation that is representative of the whole dataset, as an approximation. This way when the use specifies"
      ]
    },
    {
      "cell_type": "code",
      "metadata": {
        "id": "X_xXOVWD7oQF",
        "colab_type": "code",
        "colab": {
          "base_uri": "https://localhost:8080/",
          "height": 173
        },
        "outputId": "b164680f-9893-4ff9-bd65-047ab0320014"
      },
      "source": [
        "model.eval()"
      ],
      "execution_count": 85,
      "outputs": [
        {
          "output_type": "execute_result",
          "data": {
            "text/plain": [
              "NetBatchNorm(\n",
              "  (conv1): Conv2d(3, 32, kernel_size=(3, 3), stride=(1, 1), padding=(1, 1))\n",
              "  (conv1_batchnorm): BatchNorm2d(32, eps=1e-05, momentum=0.1, affine=True, track_running_stats=True)\n",
              "  (conv2): Conv2d(32, 16, kernel_size=(3, 3), stride=(1, 1), padding=(1, 1))\n",
              "  (conv2_batchnorm): BatchNorm2d(16, eps=1e-05, momentum=0.1, affine=True, track_running_stats=True)\n",
              "  (fc1): Linear(in_features=1024, out_features=32, bias=True)\n",
              "  (fc2): Linear(in_features=32, out_features=2, bias=True)\n",
              ")"
            ]
          },
          "metadata": {
            "tags": []
          },
          "execution_count": 85
        }
      ]
    },
    {
      "cell_type": "markdown",
      "metadata": {
        "id": "LzBfE2hQ7pEf",
        "colab_type": "text"
      },
      "source": [
        "and the model contains a batch normalization module, the running estimates are frozen and used for normalization."
      ]
    },
    {
      "cell_type": "markdown",
      "metadata": {
        "id": "gOlwa0DX7wAB",
        "colab_type": "text"
      },
      "source": [
        "### **Depth**"
      ]
    },
    {
      "cell_type": "markdown",
      "metadata": {
        "id": "MdjHhgpR71I4",
        "colab_type": "text"
      },
      "source": [
        "Deeper models are always better than shallow ones, arent they? It depends. With depth, the complexity of the function the network is able to approximate generally increases. Depth allows a model to deal with hierachical information, where we need to understand context in order to say something about some input."
      ]
    },
    {
      "cell_type": "markdown",
      "metadata": {
        "id": "c5kfxUkx8Usu",
        "colab_type": "text"
      },
      "source": [
        "Another way to think about depth is increasing depth is related to increasing the length of the sequence of operations that the network will be able to perform when processing some input. "
      ]
    },
    {
      "cell_type": "markdown",
      "metadata": {
        "id": "0TvtkBhh8ucZ",
        "colab_type": "text"
      },
      "source": [
        "**Skip connections**\n",
        "\n",
        "Adding depth to a model generally makes training harder to converge."
      ]
    },
    {
      "cell_type": "markdown",
      "metadata": {
        "id": "moijpD__9Q6H",
        "colab_type": "text"
      },
      "source": [
        "A skip connection is nothing but an addition of the input to the output of a block of layers. \n"
      ]
    },
    {
      "cell_type": "code",
      "metadata": {
        "id": "hdkeR6GF9qJs",
        "colab_type": "code",
        "colab": {}
      },
      "source": [
        "# Lets add one layer to our simple convolutional model and use ReLU for activation\n",
        "class DepthNet(nn.Module):\n",
        "  def __init__(self, n_chans1=32):\n",
        "    super().__init__()\n",
        "    self.n_chans1 = n_chans1\n",
        "    self.conv1 = nn.Conv2d(3, n_chans1, kernel_size=3, padding=1)\n",
        "    self.conv2 = nn.Conv2d(n_chans1, n_chans1 // 2, kernel_size=3, padding=1)\n",
        "    self.conv3 = nn.Conv2d(n_chans1 // 2, n_chans1 // 2, kernel_size=3, padding=1)\n",
        "    self.fc1 = nn.Linear(4 * 4 * n_chans1 // 2, 32)\n",
        "    self.fc2 = nn.Linear(32, 2)\n",
        "\n",
        "  def forward(self, x):\n",
        "    out = F.max_pool2d(torch.relu(self.conv1(x)), 2)\n",
        "    out = F.max_pool2d(torch.relu(self.conv2(out)), 2)\n",
        "    out = F.max_pool2d(torch.relu(self.conv3(out)), 2)\n",
        "    out = out.view(-1, 4 * 4 * self.n_chans1 // 2)\n",
        "    out = torch.relu(self.fc1(out))\n",
        "    out = self.fc2(out)\n",
        "    return out"
      ],
      "execution_count": 86,
      "outputs": []
    },
    {
      "cell_type": "code",
      "metadata": {
        "id": "ar8gdorK-4yG",
        "colab_type": "code",
        "colab": {
          "base_uri": "https://localhost:8080/",
          "height": 238
        },
        "outputId": "f47ff50d-a8d4-4986-f503-eb246b958645"
      },
      "source": [
        "model = DepthNet(n_chans1=32).to(device=device)\n",
        "optimizer = optim.SGD(model.parameters(), lr=1e-2)\n",
        "loss_fn = nn.CrossEntropyLoss()\n",
        "\n",
        "training_loop(\n",
        "    n_epochs = 100, \n",
        "    optimizer = optimizer,\n",
        "    model = model,\n",
        "    loss_fn = loss_fn,\n",
        "    train_loader = train_loader,\n",
        ")\n",
        "\n",
        "all_acc_dict['depth'] = validate(model, train_loader, val_loader)"
      ],
      "execution_count": 87,
      "outputs": [
        {
          "output_type": "stream",
          "text": [
            "2020-06-27 04:16:02.422374 Epoch 1, Training loss 43.37059458345175\n",
            "2020-06-27 04:16:06.314235 Epoch 10, Training loss 0.03415515832602978\n",
            "2020-06-27 04:16:10.679681 Epoch 20, Training loss 0.01353844627737999\n",
            "2020-06-27 04:16:15.066114 Epoch 30, Training loss 0.008161492645740509\n",
            "2020-06-27 04:16:19.471604 Epoch 40, Training loss 0.005757424980401993\n",
            "2020-06-27 04:16:23.868201 Epoch 50, Training loss 0.00441235676407814\n",
            "2020-06-27 04:16:28.241607 Epoch 60, Training loss 0.0035587064921855927\n",
            "2020-06-27 04:16:32.627812 Epoch 70, Training loss 0.0029716193675994873\n",
            "2020-06-27 04:16:36.995507 Epoch 80, Training loss 0.0025445520877838135\n",
            "2020-06-27 04:16:41.378202 Epoch 90, Training loss 0.002220548689365387\n",
            "2020-06-27 04:16:45.732214 Epoch 100, Training loss 0.0019669458270072937\n",
            "Accuracy train: 1.00\n",
            "Accuracy val: 1.00\n"
          ],
          "name": "stdout"
        }
      ]
    },
    {
      "cell_type": "markdown",
      "metadata": {
        "id": "eFfthswJ_UXz",
        "colab_type": "text"
      },
      "source": [
        "Adding a skip connection a-la ResNet to this model amounts to adding the output of the first layer in the `forward` function to the input of the third layer."
      ]
    },
    {
      "cell_type": "code",
      "metadata": {
        "id": "3A4swFbj_hNo",
        "colab_type": "code",
        "colab": {}
      },
      "source": [
        "class NetRes(nn.Module):\n",
        "  def __init__(self, n_chans1=32):\n",
        "    super().__init__()\n",
        "    self.n_chans1 = n_chans1\n",
        "    self.conv1 = nn.Conv2d(3, n_chans1, kernel_size=3, padding=1)\n",
        "    self.conv2 = nn.Conv2d(n_chans1, n_chans1 // 2, kernel_size=3, padding=1)\n",
        "    self.conv3 = nn.Conv2d(n_chans1 // 2, n_chans1 // 2,kernel_size=3, padding=1)\n",
        "    self.fc1 = nn.Linear(4 * 4 * n_chans1 // 2, 32)\n",
        "    self.fc2 = nn.Linear(32, 2)\n",
        "\n",
        "  def forward(self, x):\n",
        "    out = F.max_pool2d(torch.relu(self.conv1(x)), 2)\n",
        "    out = F.max_pool2d(torch.relu(self.conv2(out)), 2)\n",
        "    out1 = out\n",
        "    out = F.max_pool2d(torch.relu(self.conv3(out)) + out1, 2)\n",
        "    out = out.view(-1, 4 * 4 * self.n_chans1 // 2)\n",
        "    out = torch.relu(self.fc1(out))\n",
        "    out = self.fc2(out)\n",
        "    return out    "
      ],
      "execution_count": 88,
      "outputs": []
    },
    {
      "cell_type": "code",
      "metadata": {
        "id": "ghtk2zHiAh2c",
        "colab_type": "code",
        "colab": {
          "base_uri": "https://localhost:8080/",
          "height": 238
        },
        "outputId": "145fae87-38e2-4402-e75a-de36543c7039"
      },
      "source": [
        "model = NetRes(n_chans1=32).to(device=device)\n",
        "optimizer = optim.SGD(model.parameters(), lr=1e-2)\n",
        "loss_fn = nn.CrossEntropyLoss()\n",
        "\n",
        "training_loop(\n",
        "    n_epochs = 100,\n",
        "    optimizer = optimizer,\n",
        "    model = model,\n",
        "    loss_fn = loss_fn,\n",
        "    train_loader = train_loader,\n",
        ")\n",
        "all_acc_dict['res'] = validate(model, train_loader, val_loader)"
      ],
      "execution_count": 89,
      "outputs": [
        {
          "output_type": "stream",
          "text": [
            "2020-06-27 04:22:56.585129 Epoch 1, Training loss 10.168318354524672\n",
            "2020-06-27 04:23:00.533128 Epoch 10, Training loss 0.02167535200715065\n",
            "2020-06-27 04:23:04.956596 Epoch 20, Training loss 0.009253103286027908\n",
            "2020-06-27 04:23:09.355721 Epoch 30, Training loss 0.00572286918759346\n",
            "2020-06-27 04:23:13.760081 Epoch 40, Training loss 0.004090409725904465\n",
            "2020-06-27 04:23:18.136835 Epoch 50, Training loss 0.003160446882247925\n",
            "2020-06-27 04:23:22.518225 Epoch 60, Training loss 0.002563226968050003\n",
            "2020-06-27 04:23:27.014480 Epoch 70, Training loss 0.0021487101912498474\n",
            "2020-06-27 04:23:31.540783 Epoch 80, Training loss 0.0018453225493431091\n",
            "2020-06-27 04:23:36.065701 Epoch 90, Training loss 0.0016141198575496674\n",
            "2020-06-27 04:23:40.434866 Epoch 100, Training loss 0.001432083547115326\n",
            "Accuracy train: 1.00\n",
            "Accuracy val: 1.00\n"
          ],
          "name": "stdout"
        }
      ]
    },
    {
      "cell_type": "markdown",
      "metadata": {
        "id": "sMtu99BxA4r5",
        "colab_type": "text"
      },
      "source": [
        "In other words, we're using the output of the first activations as inputs to the last, in addition to the standard feed-forward path. This is also referred as **identity mapping**."
      ]
    },
    {
      "cell_type": "markdown",
      "metadata": {
        "id": "QQ9i-MgyBEiT",
        "colab_type": "text"
      },
      "source": [
        "Thinking back about back-propogation, we can appreciate that a skip connection, or a sequence of skip connections in a deep network, creates a direct path from the depper parameters to the loss. This makes their contribution to the gradient of the loss more direct, as partial derivatives of the loss with respect to those parameters have a change not to be multiplied by a long chain of other operations."
      ]
    },
    {
      "cell_type": "markdown",
      "metadata": {
        "id": "yrLsW4ULBjKE",
        "colab_type": "text"
      },
      "source": [
        "It has been observed that skip connections have a beneficial effect on convergence especially in the initial phases of training. ALso, the loss landscape of deep Residual Networks is a lot smoother than feed-forward networks of the same depth and width."
      ]
    },
    {
      "cell_type": "markdown",
      "metadata": {
        "id": "I6hrk9r6BnxV",
        "colab_type": "text"
      },
      "source": [
        "Since the advent of ResNets, other architectures have taken skip connections to the next level. One in particular, DenseNet, proposed to connect each layer with several other layers downstream through skip connections, achieving state of the art results with fewer parameters. By now we know how to implement something like DenseNets: **just arithmetically add earlier intermediate outputs to downstream intermediate outputs.**"
      ]
    },
    {
      "cell_type": "markdown",
      "metadata": {
        "id": "nI-T4lUICAVa",
        "colab_type": "text"
      },
      "source": [
        "# Bulding very deep models in PyTorch"
      ]
    },
    {
      "cell_type": "markdown",
      "metadata": {
        "id": "hpPemj0dCJmK",
        "colab_type": "text"
      },
      "source": [
        "We talked about exceeding 100 layers in a convolutional neural network. The standard strategy is to define a building block, such as `(Conv2D, ReLU, Conv2D) + skip_connection` block, and then build the network dynamically in a `for` loop."
      ]
    },
    {
      "cell_type": "code",
      "metadata": {
        "id": "4d91CBajCiFh",
        "colab_type": "code",
        "colab": {}
      },
      "source": [
        "# First create a module subclas\n",
        "# sole job: to provide computation for 1 block\n",
        "# that is one group of convolution, activation and skip connections\n",
        "class ResBlock(nn.Module):\n",
        "  def __init__(self, n_chans):\n",
        "    super(ResBlock, self).__init__()\n",
        "    self.conv = nn.Conv2d(n_chans, n_chans, kernel_size=3, padding=1, bias=False)\n",
        "    self.batch_norm = nn.BatchNorm2d(num_features=n_chans)\n",
        "    torch.nn.init.kaiming_normal_(self.conv.weight, nonlinearity='relu')\n",
        "    torch.nn.init.constant_(self.batch_norm.weight, 0.5)\n",
        "    torch.nn.init.zeros_(self.batch_norm.bias)\n",
        "\n",
        "  def forward(self, x):\n",
        "    out = self.conv(x)\n",
        "    out = self.batch_norm(out)\n",
        "    out = torch.relu(out)\n",
        "    return out + x"
      ],
      "execution_count": 95,
      "outputs": []
    },
    {
      "cell_type": "markdown",
      "metadata": {
        "id": "o2txwrycDQzu",
        "colab_type": "text"
      },
      "source": [
        "Since we're planning to generate a deep model, we are including **batch norm** in the block, since this will help avoid vanishing gradients during training. \n",
        "\n",
        "We'd now like to generate a 100-block network"
      ]
    },
    {
      "cell_type": "markdown",
      "metadata": {
        "id": "9rAq2_NLDf6t",
        "colab_type": "text"
      },
      "source": [
        "First in `init`, we create a `nn.Sequential` containing a list of `ResBlock` instances. **`nn.Sequential` will ensure that the output of one block goes as input to the next.** It will also ensure that all parameters in the block are visible to `Net`. Then, in `forward`, we call the sequential to traverse the 100 blocks and generate the output."
      ]
    },
    {
      "cell_type": "code",
      "metadata": {
        "id": "wdnEm8IeD5E6",
        "colab_type": "code",
        "colab": {}
      },
      "source": [
        "class NetResDeep(nn.Module):\n",
        "  def __init__(self, n_chans1=32, n_blocks=10):\n",
        "    super().__init__()\n",
        "    self.n_chans1 = n_chans1\n",
        "    self.conv1 = nn.Conv2d(3, n_chans1, kernel_size=3, padding=1)\n",
        "    self.resblocks = nn.Sequential(* [ResBlock(n_chans=n_chans1)] * n_blocks)\n",
        "    self.fc1 = nn.Linear(8 * 8 * n_chans1, 32)\n",
        "    self.fc2 = nn.Linear(32, 2)\n",
        "\n",
        "  def forward(self, x):\n",
        "    out = F.max_pool2d(torch.relu(self.conv1(x)), 2)\n",
        "    out = self.resblocks(out)\n",
        "    out = F.max_pool2d(out, 2)\n",
        "    out = out.view(-1, 8 * 8 * self.n_chans1)\n",
        "    out = torch.relu(self.fc1(out))\n",
        "    out = self.fc2(out)\n",
        "    return out"
      ],
      "execution_count": 96,
      "outputs": []
    },
    {
      "cell_type": "markdown",
      "metadata": {
        "id": "6j8_RBCvGIjJ",
        "colab_type": "text"
      },
      "source": [
        "In the implementation we parameterized the actual number of layers, which is important for experimentation and reuse."
      ]
    },
    {
      "cell_type": "code",
      "metadata": {
        "id": "uN3cHBdoFR9l",
        "colab_type": "code",
        "colab": {
          "base_uri": "https://localhost:8080/",
          "height": 85
        },
        "outputId": "fc986a5b-735c-4e29-f5e3-856107083138"
      },
      "source": [
        "model = NetResDeep(n_chans1=32, n_blocks=100).to(device=device)\n",
        "optimizer = optim.SGD(model.parameters(), lr=3e-3)\n",
        "loss_fn = nn.CrossEntropyLoss()\n",
        "\n",
        "training_loop(\n",
        "    n_epochs = 10,\n",
        "    optimizer = optimizer,\n",
        "    model = model,\n",
        "    loss_fn = loss_fn,\n",
        "    train_loader = train_loader,\n",
        ")\n",
        "all_acc_dict[\"res deep\"] = validate(model, train_loader, val_loader)\n"
      ],
      "execution_count": 100,
      "outputs": [
        {
          "output_type": "stream",
          "text": [
            "2020-06-27 04:47:11.578882 Epoch 1, Training loss 3.7905080318450928\n",
            "2020-06-27 04:48:36.084015 Epoch 10, Training loss 0.0\n",
            "Accuracy train: 1.00\n",
            "Accuracy val: 1.00\n"
          ],
          "name": "stdout"
        }
      ]
    },
    {
      "cell_type": "markdown",
      "metadata": {
        "id": "ED4GGuMCFrPP",
        "colab_type": "text"
      },
      "source": [
        "All the above shouldn't encourage us to seek depth on a dataset of 32x32 images, but it clearly demonstrates how this can be achived on more challenging datasets, like ImageNet. The above also probides the key elements for understanding existing implementations for models like ResNet for instance in `torchvision`."
      ]
    },
    {
      "cell_type": "markdown",
      "metadata": {
        "id": "of6cNf95Gs4g",
        "colab_type": "text"
      },
      "source": [
        "## Take home"
      ]
    },
    {
      "cell_type": "markdown",
      "metadata": {
        "id": "F8HIKFRrG7h9",
        "colab_type": "text"
      },
      "source": [
        "We should make every effot to proficiently translate the math behind a paper into actual PyTorch code, or at least to understand code that others have written with the same intention."
      ]
    },
    {
      "cell_type": "markdown",
      "metadata": {
        "id": "ZJ5doxWjHIJ1",
        "colab_type": "text"
      },
      "source": [
        "### Plots"
      ]
    },
    {
      "cell_type": "code",
      "metadata": {
        "id": "Wft3rnJ4Hy5q",
        "colab_type": "code",
        "colab": {
          "base_uri": "https://localhost:8080/",
          "height": 316
        },
        "outputId": "390aa761-0766-4c2c-89db-e3ca91c7d626"
      },
      "source": [
        "trn_acc = [v['train'] for k, v in all_acc_dict.items()]\n",
        "val_acc = [v['val'] for k, v in all_acc_dict.items()]\n",
        "\n",
        "width = 0.3\n",
        "plt.bar(np.arange(len(trn_acc)), trn_acc, width=width, label='train')\n",
        "plt.bar(np.arange(len(val_acc)) + width, val_acc, width=width, label='val')\n",
        "plt.xticks(np.arange(len(val_acc)) + width/2, list(all_acc_dict.keys()), rotation=60)\n",
        "plt.ylabel('accuracy')\n",
        "plt.legend(loc='lower right')\n",
        "plt.ylim(0.7, 1)\n",
        "plt.show()"
      ],
      "execution_count": 106,
      "outputs": [
        {
          "output_type": "display_data",
          "data": {
            "image/png": "[encoded data removed]",
            "text/plain": [
              "<Figure size 432x288 with 1 Axes>"
            ]
          },
          "metadata": {
            "tags": [],
            "needs_background": "light"
          }
        }
      ]
    },
    {
      "cell_type": "code",
      "metadata": {
        "id": "UpeSHI7oIK3K",
        "colab_type": "code",
        "colab": {}
      },
      "source": [
        ""
      ],
      "execution_count": null,
      "outputs": []
    }
  ]
}